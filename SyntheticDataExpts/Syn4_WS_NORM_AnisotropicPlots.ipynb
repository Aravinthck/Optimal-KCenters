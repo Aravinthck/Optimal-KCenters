{
 "cells": [
  {
   "cell_type": "code",
   "execution_count": 1,
   "metadata": {},
   "outputs": [],
   "source": [
    "\n",
    "import sys\n",
    "import os\n",
    "sys.path.append('../')\n",
    "from Codes.model import *\n",
    "from Codes.utils import *\n",
    "\n",
    "plt.style.use('default')\n",
    "\n",
    "\n",
    "import pickle\n",
    "RESULT_DIR = \"../../ExptsPaper\"\n",
    "# os.mkdir(RESULT_DIR)\n",
    "from timeit import default_timer\n",
    "from sklearn.datasets import make_blobs\n",
    "\n",
    "from tqdm.notebook import tqdm\n"
   ]
  },
  {
   "cell_type": "code",
   "execution_count": 2,
   "metadata": {},
   "outputs": [],
   "source": [
    "def Blobs_Anisotropic(N,D,K,box, seed, ratio=4, axis_aligned=True):\n",
    "    # generate anisotropic blobs/clusters (non-isotropic gaussians)\n",
    "  \n",
    "    generator = np.random.RandomState(seed)\n",
    "    center_box = [0,box]\n",
    "\n",
    "    centers = np.array(generator.uniform(center_box[0], center_box[1], size=(K, D)))\n",
    "    \n",
    "    #######################################################################\n",
    "    cov = np.zeros((D,D))\n",
    "    \n",
    "    if axis_aligned:\n",
    "        \n",
    "        np.fill_diagonal(cov, 1)\n",
    "        #cov = np.diag(np.diag(cov))\n",
    "    else:\n",
    "       cov = np.array(generator.uniform(-center_box[1]/10, center_box[1]/10, size=(D, D)))\n",
    "        #print(cov)\n",
    "\n",
    "        np.fill_diagonal(cov, 1)\n",
    "        # to create a symmetric semi-definite matrix\n",
    "\n",
    "        cov = np.dot(cov.T, cov)  \n",
    "\n",
    "\n",
    "    split = D // 2 # 2nd half of dims (diags, or bottom right of cov matrix) \n",
    "    # changes so that the variance ratio is 4 and stdev ratio is 2    \n",
    "    for i in range(split, D):\n",
    "        cov[i,i] = ratio\n",
    "    #print(cov)\n",
    "    \n",
    "\n",
    "    \n",
    "    X = np.empty((1,D))\n",
    "    y = []\n",
    "\n",
    "    parts = [N // K for k in range(K-1) ]\n",
    "    parts.append(N - sum(parts))\n",
    "\n",
    "    ## use a for loop K times to generate K blobs...\n",
    "    for k in range(K):\n",
    "        #print(centers[k])\n",
    "        X = np.vstack( (X, np.random.multivariate_normal(centers[k], cov, (parts[k]))) )\n",
    "        y.extend([k for i in range(parts[k])])\n",
    "\n",
    "    X = X[1::, :]\n",
    "\n",
    "    cols = [ 'X' + str(i+1) for i in range(D) ]\n",
    "    df_data = pd.DataFrame(X, columns = cols)\n",
    "\n",
    "        \n",
    "    return df_data, X, y\n",
    "    "
   ]
  },
  {
   "cell_type": "markdown",
   "metadata": {},
   "source": [
    "## k = 5, 5, 5;  d = 5, 5, 5, \n",
    "\n"
   ]
  },
  {
   "cell_type": "markdown",
   "metadata": {},
   "source": [
    "## kc-Opt"
   ]
  },
  {
   "cell_type": "code",
   "execution_count": 5,
   "metadata": {},
   "outputs": [
    {
     "name": "stderr",
     "output_type": "stream",
     "text": [
      "  0%|          | 0/3 [00:00<?, ?it/s]"
     ]
    },
    {
     "name": "stdout",
     "output_type": "stream",
     "text": [
      "\n",
      "\n",
      "\n",
      "Starting N = 1000 K = 5 and D = 5\n",
      "MinMax model 0\n",
      "# of outliers:  0\n",
      "Set parameter Username\n",
      "Academic license - for non-commercial use only - expires 2023-07-08\n",
      "Set parameter TimeLimit to value 3600\n",
      "Set parameter MIPGap to value 0.05\n",
      "E:  13.229136148287125\n",
      "E:  13.229136148287168\n",
      "E:  13.22913614828721\n"
     ]
    },
    {
     "name": "stderr",
     "output_type": "stream",
     "text": []
    },
    {
     "name": "stdout",
     "output_type": "stream",
     "text": [
      "E:  13.229136148287125\n",
      "Optimal solution reached with Cost:  13.229136148287125\n",
      "\n",
      "\n",
      "# of constraints added:  45\n",
      "Finished running N = 1000 K = 5 and D = 5\n",
      "****************************************************************************************************\n",
      "\n",
      "\n",
      "\n",
      "Starting N = 3150 K = 5 and D = 5\n",
      "MinMax model 0\n",
      "# of outliers:  0\n",
      "Set parameter TimeLimit to value 3600\n",
      "Set parameter MIPGap to value 0.05\n",
      "E:  13.330344284827476\n",
      "E:  13.330344284827476\n",
      "E:  13.33034428482756\n",
      "E:  13.330344284827447\n"
     ]
    },
    {
     "name": "stderr",
     "output_type": "stream",
     "text": []
    },
    {
     "name": "stdout",
     "output_type": "stream",
     "text": [
      "E:  13.400227182984736\n",
      "Optimal solution reached with Cost:  13.400227182984736\n",
      "\n",
      "\n",
      "# of constraints added:  49\n",
      "Finished running N = 3150 K = 5 and D = 5\n",
      "****************************************************************************************************\n",
      "\n",
      "\n",
      "\n",
      "Starting N = 10000 K = 5 and D = 5\n",
      "MinMax model 0\n",
      "# of outliers:  0\n",
      "Set parameter TimeLimit to value 3600\n",
      "Set parameter MIPGap to value 0.05\n",
      "E:  15.149901175394746\n",
      "E:  15.149901175394803\n",
      "E:  15.149901175394803\n",
      "E:  15.590894579617876\n",
      "E:  15.590894577577602\n",
      "E:  15.590894579617895\n",
      "Optimal solution reached with Cost:  15.590894579617895\n"
     ]
    },
    {
     "name": "stderr",
     "output_type": "stream",
     "text": []
    },
    {
     "name": "stdout",
     "output_type": "stream",
     "text": [
      "\n",
      "\n",
      "# of constraints added:  48\n",
      "Finished running N = 10000 K = 5 and D = 5\n",
      "****************************************************************************************************\n",
      "\n",
      "\n",
      "\n",
      "Starting N = 31500 K = 5 and D = 5\n",
      "MinMax model 0\n",
      "# of outliers:  0\n",
      "Set parameter TimeLimit to value 3600\n",
      "Set parameter MIPGap to value 0.05\n",
      "E:  15.312154818182535\n",
      "E:  16.049355119844904\n",
      "E:  16.049355119844904\n",
      "E:  16.04935511984479\n",
      "E:  16.04935511984479\n",
      "E:  16.04935511984479\n",
      "E:  16.049355119844904\n",
      "Optimal solution reached with Cost:  16.049355119844904\n"
     ]
    },
    {
     "name": "stderr",
     "output_type": "stream",
     "text": []
    },
    {
     "name": "stdout",
     "output_type": "stream",
     "text": [
      "\n",
      "\n",
      "# of constraints added:  52\n",
      "Finished running N = 31500 K = 5 and D = 5\n",
      "****************************************************************************************************\n",
      "\n",
      "\n",
      "\n",
      "Starting N = 100000 K = 5 and D = 5\n",
      "MinMax model 0\n",
      "# of outliers:  0\n",
      "Set parameter TimeLimit to value 3600\n",
      "Set parameter MIPGap to value 0.05\n",
      "E:  17.768257550688084\n",
      "E:  17.768257550688077\n",
      "E:  17.768257550688077\n",
      "E:  17.768257550688077\n",
      "E:  17.768257550688077\n",
      "E:  17.76825755068805\n",
      "Optimal solution reached with Cost:  17.76825755068805\n"
     ]
    },
    {
     "name": "stderr",
     "output_type": "stream",
     "text": [
      "\n"
     ]
    },
    {
     "name": "stdout",
     "output_type": "stream",
     "text": [
      "\n",
      "\n",
      "# of constraints added:  48\n",
      "Finished running N = 100000 K = 5 and D = 5\n",
      "****************************************************************************************************\n"
     ]
    },
    {
     "name": "stderr",
     "output_type": "stream",
     "text": []
    },
    {
     "name": "stdout",
     "output_type": "stream",
     "text": [
      "\n",
      "\n",
      "\n",
      "Starting N = 315000 K = 5 and D = 5\n",
      "MinMax model 0\n",
      "# of outliers:  0\n",
      "Set parameter TimeLimit to value 3600\n",
      "Set parameter MIPGap to value 0.05\n",
      "E:  17.43473061809999\n",
      "E:  17.685143562979846\n",
      "E:  17.902395128473955\n",
      "E:  17.90239512847394\n",
      "E:  17.902395128473962\n",
      "E:  17.902395128473955\n",
      "Optimal solution reached with Cost:  17.902395128473955\n",
      "\n",
      "\n",
      "# of constraints added:  48\n"
     ]
    },
    {
     "name": "stderr",
     "output_type": "stream",
     "text": []
    },
    {
     "name": "stdout",
     "output_type": "stream",
     "text": [
      "Finished running N = 315000 K = 5 and D = 5\n",
      "****************************************************************************************************\n",
      "\n",
      "\n",
      "\n",
      "Starting N = 1000000 K = 5 and D = 5\n",
      "MinMax model 0\n",
      "# of outliers:  0\n",
      "Set parameter TimeLimit to value 3600\n",
      "Set parameter MIPGap to value 0.05\n",
      "E:  18.51519447918122\n",
      "E:  18.745143232940364\n",
      "E:  18.745143232940393\n",
      "E:  18.745143232940336\n",
      "E:  18.745143232940336\n",
      "E:  18.745143232940336\n",
      "Optimal solution reached with Cost:  18.745143232940336\n",
      "\n",
      "\n",
      "# of constraints added:  50\n"
     ]
    },
    {
     "name": "stderr",
     "output_type": "stream",
     "text": [
      "100%|██████████| 7/7 [02:37<00:00, 22.55s/it]\n",
      " 33%|███▎      | 1/3 [02:37<05:15, 157.88s/it]"
     ]
    },
    {
     "name": "stdout",
     "output_type": "stream",
     "text": [
      "Finished running N = 1000000 K = 5 and D = 5\n",
      "****************************************************************************************************\n"
     ]
    },
    {
     "name": "stderr",
     "output_type": "stream",
     "text": []
    },
    {
     "name": "stdout",
     "output_type": "stream",
     "text": [
      "\n",
      "\n",
      "\n",
      "Starting N = 1000 K = 5 and D = 10\n",
      "MinMax model 0\n",
      "# of outliers:  0\n",
      "Set parameter TimeLimit to value 3600\n",
      "Set parameter MIPGap to value 0.05\n",
      "E:  20.011126586729915\n",
      "E:  20.011126586729844\n",
      "E:  20.011126586729855\n",
      "E:  20.01112658672985\n",
      "E:  20.011126586729894\n",
      "E:  20.011126586729887\n",
      "E:  20.01112658672986\n",
      "E:  20.011126586729915\n"
     ]
    },
    {
     "name": "stderr",
     "output_type": "stream",
     "text": []
    },
    {
     "name": "stdout",
     "output_type": "stream",
     "text": [
      "E:  20.011126586729898\n",
      "Optimal solution reached with Cost:  20.011126586729898\n",
      "\n",
      "\n",
      "# of constraints added:  65\n",
      "Finished running N = 1000 K = 5 and D = 10\n",
      "****************************************************************************************************\n",
      "\n",
      "\n",
      "\n",
      "Starting N = 3150 K = 5 and D = 10\n",
      "MinMax model 0\n",
      "# of outliers:  0\n",
      "Set parameter TimeLimit to value 3600\n",
      "Set parameter MIPGap to value 0.05\n",
      "E:  21.538600660856883\n",
      "E:  21.5386006608569\n",
      "E:  21.5386006608569\n",
      "E:  21.6905527003411\n",
      "E:  21.690552700341073\n",
      "E:  21.6905527003411\n",
      "E:  21.690552700341016\n",
      "E:  21.690552700341186\n",
      "E:  21.690552700341073\n",
      "E:  21.6905527003411\n",
      "E:  21.690552700341073\n",
      "E:  21.690552700341186\n",
      "E:  21.69055270034096\n",
      "E:  21.690552700341073\n",
      "E:  21.690552700341073\n",
      "E:  21.690552700341044\n",
      "E:  21.690552700341073\n",
      "E:  21.690552700341016\n",
      "E:  21.690552700340987\n",
      "Optimal solution reached with Cost:  21.690552700340987\n"
     ]
    },
    {
     "name": "stderr",
     "output_type": "stream",
     "text": []
    },
    {
     "name": "stdout",
     "output_type": "stream",
     "text": [
      "\n",
      "\n",
      "# of constraints added:  86\n",
      "Finished running N = 3150 K = 5 and D = 10\n",
      "****************************************************************************************************\n",
      "\n",
      "\n",
      "\n",
      "Starting N = 10000 K = 5 and D = 10\n",
      "MinMax model 0\n",
      "# of outliers:  0\n",
      "Set parameter TimeLimit to value 3600\n",
      "Set parameter MIPGap to value 0.05\n",
      "E:  20.941099262030775\n",
      "E:  22.147891161689813\n",
      "E:  22.550070538990866\n",
      "E:  22.550070538990923\n",
      "E:  22.63798223679686\n",
      "E:  22.657810973480537\n",
      "E:  22.65781097348082\n",
      "E:  22.65781097348031\n",
      "E:  22.657810973480593\n",
      "E:  22.657810973480935\n",
      "E:  22.657810973480935\n",
      "E:  22.657810973480593\n",
      "E:  22.657810973480764\n",
      "E:  22.657810973480593\n",
      "Optimal solution reached with Cost:  22.657810973480593\n"
     ]
    },
    {
     "name": "stderr",
     "output_type": "stream",
     "text": []
    },
    {
     "name": "stdout",
     "output_type": "stream",
     "text": [
      "\n",
      "\n",
      "# of constraints added:  78\n",
      "Finished running N = 10000 K = 5 and D = 10\n",
      "****************************************************************************************************\n",
      "\n",
      "\n",
      "\n",
      "Starting N = 31500 K = 5 and D = 10\n",
      "MinMax model 0\n",
      "# of outliers:  0\n",
      "Set parameter TimeLimit to value 3600\n",
      "Set parameter MIPGap to value 0.05\n",
      "E:  23.601235041504168\n",
      "E:  23.430263907236014\n",
      "E:  23.47145498274574\n",
      "E:  23.836850733657002\n",
      "E:  24.026702952239617\n",
      "E:  24.07101906052074\n",
      "E:  24.0577825866838\n",
      "E:  24.103274103746628\n",
      "E:  24.103274103746514\n",
      "E:  24.103274103746458\n",
      "E:  24.10327410374674\n",
      "E:  24.10327410374657\n",
      "E:  24.103274103746628\n",
      "E:  24.103274103746543\n",
      "E:  24.10327410374657\n",
      "Optimal solution reached with Cost:  24.10327410374657\n"
     ]
    },
    {
     "name": "stderr",
     "output_type": "stream",
     "text": []
    },
    {
     "name": "stdout",
     "output_type": "stream",
     "text": [
      "\n",
      "\n",
      "# of constraints added:  83\n",
      "Finished running N = 31500 K = 5 and D = 10\n",
      "****************************************************************************************************\n",
      "\n",
      "\n",
      "\n",
      "Starting N = 100000 K = 5 and D = 10\n",
      "MinMax model 0\n",
      "# of outliers:  0\n",
      "Set parameter TimeLimit to value 3600\n",
      "Set parameter MIPGap to value 0.05\n",
      "E:  25.277690518787153\n",
      "E:  25.277690518787182\n",
      "E:  25.048308301851307\n",
      "E:  24.63316802287943\n",
      "E:  25.07499195460946\n",
      "E:  25.134817157672074\n",
      "E:  25.134817157672117\n",
      "E:  25.134817157672103\n",
      "E:  25.143339323978807\n",
      "Optimal solution reached with Cost:  25.143339323978807\n",
      "\n",
      "\n",
      "# of constraints added:  71\n"
     ]
    },
    {
     "name": "stderr",
     "output_type": "stream",
     "text": []
    },
    {
     "name": "stdout",
     "output_type": "stream",
     "text": [
      "Finished running N = 100000 K = 5 and D = 10\n",
      "****************************************************************************************************\n",
      "\n",
      "\n",
      "\n",
      "Starting N = 315000 K = 5 and D = 10\n",
      "MinMax model 0\n",
      "# of outliers:  0\n",
      "Set parameter TimeLimit to value 3600\n",
      "Set parameter MIPGap to value 0.05\n",
      "E:  25.06369916879413\n",
      "E:  26.637687899665366\n",
      "E:  26.637687899665366\n",
      "E:  26.63768789966548\n",
      "E:  26.637687899665366\n",
      "E:  26.637687899665366\n",
      "E:  26.637687899665252\n",
      "E:  26.637687899665366\n",
      "E:  26.637687899665224\n",
      "E:  26.637687899665593\n",
      "E:  26.63768789966531\n",
      "E:  26.637687899665167\n",
      "E:  26.637687899665366\n",
      "E:  26.637687899665167\n",
      "E:  26.637687899665195\n",
      "E:  26.637687899665167\n",
      "E:  26.637687899665167\n",
      "E:  26.637687899665252\n",
      "E:  26.637687899665366\n",
      "E:  26.637687899665252\n",
      "E:  26.63768789966514\n",
      "E:  26.637687899665252\n",
      "E:  26.637687899665366\n",
      "E:  26.63768789966531\n",
      "E:  26.63768789966531\n",
      "E:  26.637687899665167\n",
      "E:  26.63768789966511\n",
      "E:  26.63768789966531\n",
      "E:  26.637687899665366\n",
      "Optimal solution reached with Cost:  26.637687899665366\n",
      "\n",
      "\n",
      "# of constraints added:  121\n"
     ]
    },
    {
     "name": "stderr",
     "output_type": "stream",
     "text": []
    },
    {
     "name": "stdout",
     "output_type": "stream",
     "text": [
      "Finished running N = 315000 K = 5 and D = 10\n",
      "****************************************************************************************************\n",
      "\n",
      "\n",
      "\n",
      "Starting N = 1000000 K = 5 and D = 10\n",
      "MinMax model 0\n",
      "# of outliers:  0\n",
      "Set parameter TimeLimit to value 3600\n",
      "Set parameter MIPGap to value 0.05\n",
      "E:  26.07694542447433\n",
      "E:  27.776281548883333\n",
      "E:  27.77628154888339\n",
      "E:  27.940163933104316\n",
      "E:  27.940163933104202\n",
      "E:  28.15066254921885\n",
      "E:  28.214606631265724\n",
      "E:  28.25572787354386\n",
      "E:  28.255727873544004\n",
      "E:  28.30209896496399\n",
      "E:  28.302098964963875\n",
      "E:  28.30209896496376\n",
      "E:  28.302098964963875\n",
      "E:  28.302098964963648\n",
      "E:  28.302098964963875\n",
      "E:  28.302098964963818\n",
      "E:  28.30209896496399\n",
      "E:  28.302098964964102\n",
      "E:  28.30209896496376\n",
      "E:  28.30209896496389\n",
      "Optimal solution reached with Cost:  28.30209896496389\n",
      "\n",
      "\n",
      "# of constraints added:  103\n"
     ]
    },
    {
     "name": "stderr",
     "output_type": "stream",
     "text": [
      "100%|██████████| 7/7 [05:31<00:00, 47.39s/it]\n",
      " 67%|██████▋   | 2/3 [08:09<04:20, 260.15s/it]"
     ]
    },
    {
     "name": "stdout",
     "output_type": "stream",
     "text": [
      "Finished running N = 1000000 K = 5 and D = 10\n",
      "****************************************************************************************************\n"
     ]
    },
    {
     "name": "stderr",
     "output_type": "stream",
     "text": []
    },
    {
     "name": "stdout",
     "output_type": "stream",
     "text": [
      "\n",
      "\n",
      "\n",
      "Starting N = 1000 K = 5 and D = 15\n",
      "MinMax model 0\n",
      "# of outliers:  0\n",
      "Set parameter TimeLimit to value 3600\n",
      "Set parameter MIPGap to value 0.05\n",
      "E:  24.59378011899514\n",
      "E:  25.973530533098085\n",
      "E:  25.973530533098085\n",
      "E:  26.101138935199874\n",
      "E:  26.16248086238943\n",
      "E:  26.162480862389145\n",
      "E:  26.20226934164708\n",
      "E:  26.264701961034177\n",
      "E:  26.264701961034348\n",
      "E:  26.26685020358292\n",
      "E:  26.26685020358275\n",
      "E:  26.26685020358252\n",
      "E:  26.266850203582692\n",
      "E:  26.26685020358275\n",
      "E:  26.266850203582408\n",
      "E:  26.26685020358252\n",
      "E:  26.26685020358275\n",
      "E:  26.266850203582635\n"
     ]
    },
    {
     "name": "stderr",
     "output_type": "stream",
     "text": []
    },
    {
     "name": "stdout",
     "output_type": "stream",
     "text": [
      "E:  26.26685020358275\n",
      "Optimal solution reached with Cost:  26.26685020358275\n",
      "\n",
      "\n",
      "# of constraints added:  99\n",
      "Finished running N = 1000 K = 5 and D = 15\n",
      "****************************************************************************************************\n",
      "\n",
      "\n",
      "\n",
      "Starting N = 3150 K = 5 and D = 15\n",
      "MinMax model 0\n",
      "# of outliers:  0\n",
      "Set parameter TimeLimit to value 3600\n",
      "Set parameter MIPGap to value 0.05\n",
      "E:  28.535364338915283\n",
      "E:  29.183308945075595\n",
      "E:  29.447481973142644\n",
      "E:  29.4992792803165\n",
      "E:  29.70994922711924\n",
      "E:  29.91895245839811\n",
      "E:  29.918952458398195\n",
      "E:  29.918952458398053\n",
      "E:  29.918952458398053\n",
      "E:  29.91895245839804\n",
      "E:  29.918952458398223\n",
      "E:  29.91895245839808\n",
      "E:  29.91895245839811\n",
      "E:  29.918952458398053\n",
      "E:  29.918952458397996\n",
      "E:  29.918952458398167\n",
      "E:  29.918952458398167\n",
      "E:  29.918952458398195\n",
      "E:  29.918952458398053\n",
      "E:  29.918952458398053\n"
     ]
    },
    {
     "name": "stderr",
     "output_type": "stream",
     "text": [
      "\n"
     ]
    },
    {
     "name": "stdout",
     "output_type": "stream",
     "text": [
      "E:  29.918952458397996\n",
      "Optimal solution reached with Cost:  29.918952458397996\n",
      "\n",
      "\n",
      "# of constraints added:  108\n",
      "Finished running N = 3150 K = 5 and D = 15\n",
      "****************************************************************************************************\n"
     ]
    },
    {
     "name": "stderr",
     "output_type": "stream",
     "text": []
    },
    {
     "name": "stdout",
     "output_type": "stream",
     "text": [
      "\n",
      "\n",
      "\n",
      "Starting N = 10000 K = 5 and D = 15\n",
      "MinMax model 0\n",
      "# of outliers:  0\n",
      "Set parameter TimeLimit to value 3600\n",
      "Set parameter MIPGap to value 0.05\n",
      "E:  28.69546152496406\n",
      "E:  30.256887132712336\n",
      "E:  30.25688713271235\n",
      "E:  30.256887132712336\n",
      "E:  30.256887132712336\n",
      "E:  30.256887132712336\n",
      "E:  30.256887132712322\n",
      "E:  30.256887132712336\n",
      "E:  30.25688713271228\n",
      "E:  30.256887132712308\n",
      "E:  30.256887132712336\n",
      "E:  30.256887132712336\n",
      "E:  30.256887132712308\n",
      "E:  30.25688713271225\n",
      "E:  30.256887132712322\n",
      "E:  30.256887132712393\n",
      "E:  30.256887132712478\n",
      "E:  30.25688713271228\n",
      "E:  30.256887132712336\n",
      "E:  30.256887132712222\n",
      "E:  30.256887132712308\n",
      "E:  30.256887132712308\n",
      "E:  30.25688713271228\n",
      "E:  30.256887132712336\n",
      "E:  30.256887132712308\n",
      "E:  30.256887132712336\n",
      "E:  30.25688713271245\n",
      "E:  30.256887132712308\n",
      "E:  30.256887132712336\n",
      "Optimal solution reached with Cost:  30.256887132712336\n"
     ]
    },
    {
     "name": "stderr",
     "output_type": "stream",
     "text": []
    },
    {
     "name": "stdout",
     "output_type": "stream",
     "text": [
      "\n",
      "\n",
      "# of constraints added:  130\n",
      "Finished running N = 10000 K = 5 and D = 15\n",
      "****************************************************************************************************\n",
      "\n",
      "\n",
      "\n",
      "Starting N = 31500 K = 5 and D = 15\n",
      "MinMax model 0\n",
      "# of outliers:  0\n",
      "Set parameter TimeLimit to value 3600\n",
      "Set parameter MIPGap to value 0.05\n",
      "E:  29.380798724097858\n",
      "E:  31.25197276664386\n",
      "E:  32.00912950016584\n",
      "E:  32.22617899544309\n",
      "E:  32.32300950521352\n",
      "E:  32.32300950521358\n",
      "E:  32.32300950521358\n",
      "E:  32.32300950521335\n",
      "E:  32.32300950521335\n",
      "E:  32.323009505213506\n",
      "E:  32.323009505213605\n",
      "E:  32.32300950521346\n",
      "E:  32.32300950521335\n",
      "E:  32.32300950521358\n",
      "E:  32.32300950521349\n",
      "E:  32.32300950521346\n",
      "E:  32.32300950521346\n",
      "E:  32.32300950521346\n",
      "E:  32.32300950521358\n",
      "E:  32.323009505213406\n",
      "E:  32.32300950521346\n",
      "E:  32.32300950521349\n",
      "E:  32.32300950521352\n",
      "E:  32.32300950521355\n",
      "E:  32.32300950521358\n",
      "E:  32.32300950521349\n",
      "E:  32.32300950521355\n",
      "E:  32.32300950521355\n",
      "E:  32.32300950521346\n",
      "E:  32.32300950521346\n",
      "Optimal solution reached with Cost:  32.32300950521346\n"
     ]
    },
    {
     "name": "stderr",
     "output_type": "stream",
     "text": []
    },
    {
     "name": "stdout",
     "output_type": "stream",
     "text": [
      "\n",
      "\n",
      "# of constraints added:  133\n",
      "Finished running N = 31500 K = 5 and D = 15\n",
      "****************************************************************************************************\n",
      "\n",
      "\n",
      "\n",
      "Starting N = 100000 K = 5 and D = 15\n",
      "MinMax model 0\n",
      "# of outliers:  0\n",
      "Set parameter TimeLimit to value 3600\n",
      "Set parameter MIPGap to value 0.05\n",
      "E:  32.9408567539179\n",
      "E:  32.94085675391793\n",
      "E:  33.88538789369744\n",
      "E:  33.93332858717005\n",
      "E:  34.13767402505198\n",
      "E:  34.453529520435836\n",
      "E:  34.45352952043578\n",
      "E:  34.453529520435666\n",
      "E:  34.453529520435666\n",
      "E:  34.45352952043578\n",
      "E:  34.45352952043572\n",
      "E:  34.453529520435666\n",
      "E:  34.45352952043572\n",
      "E:  34.453529520435836\n",
      "E:  34.45352952043595\n",
      "E:  34.45352952043578\n",
      "E:  34.453529520435836\n",
      "E:  34.453529520435865\n",
      "E:  34.45352952043572\n",
      "E:  34.45352952043595\n",
      "E:  34.45352952043595\n",
      "E:  34.45352952043555\n",
      "E:  34.45352952043589\n",
      "E:  34.45352952043595\n",
      "E:  34.45352952043595\n",
      "Optimal solution reached with Cost:  34.45352952043595\n"
     ]
    },
    {
     "name": "stderr",
     "output_type": "stream",
     "text": []
    },
    {
     "name": "stdout",
     "output_type": "stream",
     "text": [
      "\n",
      "\n",
      "# of constraints added:  123\n",
      "Finished running N = 100000 K = 5 and D = 15\n",
      "****************************************************************************************************\n",
      "\n",
      "\n",
      "\n",
      "Starting N = 315000 K = 5 and D = 15\n",
      "MinMax model 0\n",
      "# of outliers:  0\n",
      "Set parameter TimeLimit to value 3600\n",
      "Set parameter MIPGap to value 0.05\n",
      "E:  33.54662693432567\n",
      "E:  34.15645382043874\n",
      "E:  34.15645382043874\n",
      "E:  34.51309215612206\n",
      "E:  34.709271311427926\n",
      "E:  34.88465196440001\n",
      "E:  35.18334368942834\n",
      "E:  35.18334368942831\n",
      "E:  35.230782820380625\n",
      "E:  35.247242180680814\n",
      "E:  35.24724218068093\n",
      "E:  35.247242180680786\n",
      "E:  35.24724218068056\n",
      "E:  35.24724218068047\n",
      "E:  35.24724218068127\n",
      "E:  35.2472421806807\n",
      "E:  35.247242180680644\n",
      "E:  35.247242180680416\n",
      "E:  35.2472421806808\n",
      "E:  35.247242180680814\n",
      "E:  35.247242180680814\n",
      "E:  35.24724218068059\n",
      "E:  35.24724218068093\n",
      "E:  35.247242180680644\n",
      "E:  35.24724218068047\n",
      "E:  35.24724218068053\n",
      "E:  35.24724218068059\n",
      "Optimal solution reached with Cost:  35.24724218068059\n",
      "\n",
      "\n",
      "# of constraints added:  125\n"
     ]
    },
    {
     "name": "stderr",
     "output_type": "stream",
     "text": []
    },
    {
     "name": "stdout",
     "output_type": "stream",
     "text": [
      "Finished running N = 315000 K = 5 and D = 15\n",
      "****************************************************************************************************\n",
      "\n",
      "\n",
      "\n",
      "Starting N = 1000000 K = 5 and D = 15\n",
      "MinMax model 0\n",
      "# of outliers:  0\n",
      "Set parameter TimeLimit to value 3600\n",
      "Set parameter MIPGap to value 0.05\n",
      "E:  36.94235102013027\n",
      "E:  36.942351020130275\n",
      "E:  36.942351020130275\n",
      "E:  36.98694630418244\n",
      "E:  36.98694630418251\n",
      "E:  36.990324895208346\n",
      "E:  37.05376489694011\n",
      "E:  37.05376489694004\n",
      "E:  37.068443941726855\n",
      "E:  37.08763541303455\n",
      "E:  37.20285965960488\n",
      "E:  37.24601461255321\n",
      "E:  37.2460146125531\n",
      "E:  37.25707215457112\n",
      "E:  37.25707215457135\n",
      "E:  37.25707215457135\n",
      "E:  37.257072154571006\n",
      "E:  37.257072154571176\n",
      "E:  37.25707215457112\n",
      "E:  37.25707215457129\n",
      "E:  37.257072154571176\n",
      "E:  37.25707215457123\n",
      "E:  37.257072154571176\n",
      "E:  37.257072154571176\n",
      "E:  37.25707215457123\n",
      "E:  37.25707215457123\n",
      "E:  37.25707215457123\n",
      "E:  37.257072154571176\n",
      "E:  37.25707215457106\n",
      "E:  37.257072154571176\n",
      "Optimal solution reached with Cost:  37.257072154571176\n",
      "\n",
      "\n",
      "# of constraints added:  139\n"
     ]
    },
    {
     "name": "stderr",
     "output_type": "stream",
     "text": [
      "100%|██████████| 7/7 [05:01<00:00, 43.05s/it]\n",
      "100%|██████████| 3/3 [13:10<00:00, 263.66s/it]"
     ]
    },
    {
     "name": "stdout",
     "output_type": "stream",
     "text": [
      "Finished running N = 1000000 K = 5 and D = 15\n",
      "****************************************************************************************************\n"
     ]
    },
    {
     "name": "stderr",
     "output_type": "stream",
     "text": [
      "\n"
     ]
    }
   ],
   "source": [
    "N_list = [1000, 3150, 10000, 31500, 100000, 315000, 1000000]\n",
    "\n",
    "K = 5\n",
    "D_list = [5,10,15] \n",
    "\n",
    "box = 500\n",
    "seed = 65\n",
    "\n",
    "tol_list = [0.08,0.15,0.15]\n",
    "initCons_list = 5\n",
    "cnt = 0\n",
    "\n",
    "for i, D in enumerate(tqdm(D_list)):\n",
    "    optgap_list=[]\n",
    "\n",
    "    time_list = []\n",
    "    metrics_list = []\n",
    "\n",
    "    # obj_list = []\n",
    "    constrsCnt_list = []\n",
    "\n",
    "    epsVal_list = []\n",
    "    optVal_list = []\n",
    "\n",
    "    centers_list = []\n",
    "    \n",
    "    for N in tqdm(N_list):\n",
    "        print('\\n\\n\\nStarting N = %i K = %i and D = %i' %(N,K,D))\n",
    "\n",
    "        df_data, X,y = Blobs_Anisotropic(N,D,K,box, seed)\n",
    "\n",
    "        clus = UnsupervisedClustering(K =K , max_iter= 100, random_state=0)\n",
    "        clus.set_model(MinMax(initConstrCnt=initCons_list, optimalGap= 0.05, tol = tol_list[i], time = 60))\n",
    "\n",
    "        start = default_timer()\n",
    "        clus.fit(df_data )\n",
    "\n",
    "        end = default_timer()\n",
    "        metrics_list.append(clus.evaluate(y))\n",
    "        # print(metrics_list[-1])\n",
    "        time_list.append(end-start)\n",
    "\n",
    "        constrsCnt_list.append(len(clus.constr_gen_pts))\n",
    "        optgap_list.append(clus.model_optGap)\n",
    "\n",
    "        epsVal_list.append(clus.epsVal)\n",
    "        optVal_list.append(clus.model_optVal)\n",
    "\n",
    "        centers_list.append(clus.cluster_centers)\n",
    "\n",
    "        # obj_list.append(clus)\n",
    "\n",
    "        cnt+=1\n",
    "\n",
    "        print('Finished running N = %i K = %i and D = %i' %(N,K,D))\n",
    "        print('*'*100)\n",
    "\n",
    "\n",
    "\n",
    "\n",
    "    with open(os.path.join(RESULT_DIR, 'Syn4_'+str(K)+str(D)+'_MM.pkl'), 'wb') as outp:\n",
    "\n",
    "        pickle.dump(metrics_list, outp, pickle.HIGHEST_PROTOCOL)\n",
    "        pickle.dump(time_list, outp, pickle.HIGHEST_PROTOCOL)\n",
    "        pickle.dump(constrsCnt_list, outp, pickle.HIGHEST_PROTOCOL)\n",
    "        pickle.dump(optgap_list, outp, pickle.HIGHEST_PROTOCOL)\n",
    "        pickle.dump(epsVal_list, outp, pickle.HIGHEST_PROTOCOL)\n",
    "        pickle.dump(optVal_list, outp, pickle.HIGHEST_PROTOCOL)\n",
    "        pickle.dump(centers_list, outp, pickle.HIGHEST_PROTOCOL)\n",
    "\n"
   ]
  },
  {
   "cell_type": "markdown",
   "metadata": {},
   "source": [
    "## KCenters Gonzalez "
   ]
  },
  {
   "cell_type": "code",
   "execution_count": 21,
   "metadata": {},
   "outputs": [
    {
     "name": "stderr",
     "output_type": "stream",
     "text": [
      "  0%|          | 0/3 [00:00<?, ?it/s]"
     ]
    },
    {
     "name": "stdout",
     "output_type": "stream",
     "text": [
      "\n",
      "\n",
      "\n",
      "Starting N = 1000 K = 5 and D = 5\n",
      "Finished running N = 1000 K = 5 and D = 5\n",
      "****************************************************************************************************\n",
      "\n",
      "\n",
      "\n",
      "Starting N = 3150 K = 5 and D = 5\n"
     ]
    },
    {
     "name": "stderr",
     "output_type": "stream",
     "text": []
    },
    {
     "name": "stdout",
     "output_type": "stream",
     "text": [
      "Finished running N = 3150 K = 5 and D = 5\n",
      "****************************************************************************************************\n",
      "\n",
      "\n",
      "\n",
      "Starting N = 10000 K = 5 and D = 5\n"
     ]
    },
    {
     "name": "stderr",
     "output_type": "stream",
     "text": []
    },
    {
     "name": "stdout",
     "output_type": "stream",
     "text": [
      "Finished running N = 10000 K = 5 and D = 5\n",
      "****************************************************************************************************\n",
      "\n",
      "\n",
      "\n",
      "Starting N = 31500 K = 5 and D = 5\n"
     ]
    },
    {
     "name": "stderr",
     "output_type": "stream",
     "text": []
    },
    {
     "name": "stdout",
     "output_type": "stream",
     "text": [
      "Finished running N = 31500 K = 5 and D = 5\n",
      "****************************************************************************************************\n",
      "\n",
      "\n",
      "\n",
      "Starting N = 100000 K = 5 and D = 5\n"
     ]
    },
    {
     "name": "stderr",
     "output_type": "stream",
     "text": []
    },
    {
     "name": "stdout",
     "output_type": "stream",
     "text": [
      "Finished running N = 100000 K = 5 and D = 5\n",
      "****************************************************************************************************\n",
      "\n",
      "\n",
      "\n",
      "Starting N = 315000 K = 5 and D = 5\n"
     ]
    },
    {
     "name": "stderr",
     "output_type": "stream",
     "text": []
    },
    {
     "name": "stdout",
     "output_type": "stream",
     "text": [
      "Finished running N = 315000 K = 5 and D = 5\n",
      "****************************************************************************************************\n",
      "\n",
      "\n",
      "\n",
      "Starting N = 1000000 K = 5 and D = 5\n"
     ]
    },
    {
     "name": "stderr",
     "output_type": "stream",
     "text": [
      "100%|██████████| 7/7 [01:23<00:00, 12.00s/it]\n",
      " 33%|███▎      | 1/3 [01:23<02:47, 83.98s/it]"
     ]
    },
    {
     "name": "stdout",
     "output_type": "stream",
     "text": [
      "Finished running N = 1000000 K = 5 and D = 5\n",
      "****************************************************************************************************\n"
     ]
    },
    {
     "name": "stderr",
     "output_type": "stream",
     "text": []
    },
    {
     "name": "stdout",
     "output_type": "stream",
     "text": [
      "\n",
      "\n",
      "\n",
      "Starting N = 1000 K = 5 and D = 10\n",
      "Finished running N = 1000 K = 5 and D = 10\n",
      "****************************************************************************************************\n",
      "\n",
      "\n",
      "\n",
      "Starting N = 3150 K = 5 and D = 10\n"
     ]
    },
    {
     "name": "stderr",
     "output_type": "stream",
     "text": []
    },
    {
     "name": "stdout",
     "output_type": "stream",
     "text": [
      "Finished running N = 3150 K = 5 and D = 10\n",
      "****************************************************************************************************\n",
      "\n",
      "\n",
      "\n",
      "Starting N = 10000 K = 5 and D = 10\n"
     ]
    },
    {
     "name": "stderr",
     "output_type": "stream",
     "text": []
    },
    {
     "name": "stdout",
     "output_type": "stream",
     "text": [
      "Finished running N = 10000 K = 5 and D = 10\n",
      "****************************************************************************************************\n",
      "\n",
      "\n",
      "\n",
      "Starting N = 31500 K = 5 and D = 10\n"
     ]
    },
    {
     "name": "stderr",
     "output_type": "stream",
     "text": []
    },
    {
     "name": "stdout",
     "output_type": "stream",
     "text": [
      "Finished running N = 31500 K = 5 and D = 10\n",
      "****************************************************************************************************\n",
      "\n",
      "\n",
      "\n",
      "Starting N = 100000 K = 5 and D = 10\n"
     ]
    },
    {
     "name": "stderr",
     "output_type": "stream",
     "text": []
    },
    {
     "name": "stdout",
     "output_type": "stream",
     "text": [
      "Finished running N = 100000 K = 5 and D = 10\n",
      "****************************************************************************************************\n",
      "\n",
      "\n",
      "\n",
      "Starting N = 315000 K = 5 and D = 10\n"
     ]
    },
    {
     "name": "stderr",
     "output_type": "stream",
     "text": []
    },
    {
     "name": "stdout",
     "output_type": "stream",
     "text": [
      "Finished running N = 315000 K = 5 and D = 10\n",
      "****************************************************************************************************\n",
      "\n",
      "\n",
      "\n",
      "Starting N = 1000000 K = 5 and D = 10\n"
     ]
    },
    {
     "name": "stderr",
     "output_type": "stream",
     "text": [
      "100%|██████████| 7/7 [01:32<00:00, 13.15s/it]\n",
      " 67%|██████▋   | 2/3 [02:56<01:28, 88.72s/it]"
     ]
    },
    {
     "name": "stdout",
     "output_type": "stream",
     "text": [
      "Finished running N = 1000000 K = 5 and D = 10\n",
      "****************************************************************************************************\n"
     ]
    },
    {
     "name": "stderr",
     "output_type": "stream",
     "text": []
    },
    {
     "name": "stdout",
     "output_type": "stream",
     "text": [
      "\n",
      "\n",
      "\n",
      "Starting N = 1000 K = 5 and D = 15\n",
      "Finished running N = 1000 K = 5 and D = 15\n",
      "****************************************************************************************************\n",
      "\n",
      "\n",
      "\n",
      "Starting N = 3150 K = 5 and D = 15\n"
     ]
    },
    {
     "name": "stderr",
     "output_type": "stream",
     "text": []
    },
    {
     "name": "stdout",
     "output_type": "stream",
     "text": [
      "Finished running N = 3150 K = 5 and D = 15\n",
      "****************************************************************************************************\n",
      "\n",
      "\n",
      "\n",
      "Starting N = 10000 K = 5 and D = 15\n"
     ]
    },
    {
     "name": "stderr",
     "output_type": "stream",
     "text": []
    },
    {
     "name": "stdout",
     "output_type": "stream",
     "text": [
      "Finished running N = 10000 K = 5 and D = 15\n",
      "****************************************************************************************************\n",
      "\n",
      "\n",
      "\n",
      "Starting N = 31500 K = 5 and D = 15\n"
     ]
    },
    {
     "name": "stderr",
     "output_type": "stream",
     "text": []
    },
    {
     "name": "stdout",
     "output_type": "stream",
     "text": [
      "Finished running N = 31500 K = 5 and D = 15\n",
      "****************************************************************************************************\n",
      "\n",
      "\n",
      "\n",
      "Starting N = 100000 K = 5 and D = 15\n"
     ]
    },
    {
     "name": "stderr",
     "output_type": "stream",
     "text": []
    },
    {
     "name": "stdout",
     "output_type": "stream",
     "text": [
      "Finished running N = 100000 K = 5 and D = 15\n",
      "****************************************************************************************************\n",
      "\n",
      "\n",
      "\n",
      "Starting N = 315000 K = 5 and D = 15\n"
     ]
    },
    {
     "name": "stderr",
     "output_type": "stream",
     "text": []
    },
    {
     "name": "stdout",
     "output_type": "stream",
     "text": [
      "Finished running N = 315000 K = 5 and D = 15\n",
      "****************************************************************************************************\n",
      "\n",
      "\n",
      "\n",
      "Starting N = 1000000 K = 5 and D = 15\n"
     ]
    },
    {
     "name": "stderr",
     "output_type": "stream",
     "text": [
      "100%|██████████| 7/7 [01:24<00:00, 12.03s/it]\n",
      "100%|██████████| 3/3 [04:20<00:00, 86.74s/it]"
     ]
    },
    {
     "name": "stdout",
     "output_type": "stream",
     "text": [
      "Finished running N = 1000000 K = 5 and D = 15\n",
      "****************************************************************************************************\n"
     ]
    },
    {
     "name": "stderr",
     "output_type": "stream",
     "text": [
      "\n"
     ]
    }
   ],
   "source": [
    "N_list = [1000, 3150, 10000, 31500, 100000, 315000, 1000000]\n",
    "# N_list = [1000,3150]\n",
    "K_list = [5, 5,5,]# 10,10, 15]\n",
    "D_list = [5,10,15, ]#10,15, 15] \n",
    "\n",
    "box = 500\n",
    "seed = 65\n",
    "\n",
    "for i, D in enumerate(tqdm(D_list)):\n",
    "\n",
    "\n",
    "    time_list = []\n",
    "    metrics_list = []\n",
    "    epsVal_list = []\n",
    "\n",
    "    centers_list = []\n",
    "\n",
    "    obj_list = []\n",
    "\n",
    "\n",
    "    K = K_list[i]\n",
    "    \n",
    "    for N in tqdm(N_list):\n",
    "        print('\\n\\n\\nStarting N = %i K = %i and D = %i' %(N,K,D))\n",
    "\n",
    "        df_data, X,y = Blobs_Anisotropic(N,D,K,box, seed)\n",
    "       \n",
    "        kc_Gon = UnsupervisedClustering(K =K)\n",
    "        kc_Gon.set_model(KCenters_Gon())\n",
    "\n",
    "        start = default_timer()\n",
    "        kc_Gon.fit(df_data )\n",
    "\n",
    "        end = default_timer()\n",
    "        metrics_list.append(kc_Gon.evaluate(y))\n",
    "        epsVal_list.append(kc_Gon.epsVal)\n",
    "        centers_list.append(kc_Gon.cluster_centers)\n",
    "    \n",
    "        time_list.append(end - start)\n",
    "\n",
    "        print('Finished running N = %i K = %i and D = %i' %(N,K,D))\n",
    "        print('*'*100)\n",
    "\n",
    "\n",
    "\n",
    "    with open(os.path.join(RESULT_DIR, 'Syn4_'+str(K)+str(D)+'_KC_Gon.pkl'), 'wb') as outp:\n",
    "\n",
    "        pickle.dump(metrics_list, outp, pickle.HIGHEST_PROTOCOL)\n",
    "        pickle.dump(time_list, outp, pickle.HIGHEST_PROTOCOL)\n",
    "        pickle.dump(epsVal_list, outp, pickle.HIGHEST_PROTOCOL)\n",
    "        pickle.dump(centers_list, outp, pickle.HIGHEST_PROTOCOL)\n",
    "\n",
    "\n",
    "\n"
   ]
  },
  {
   "cell_type": "markdown",
   "metadata": {},
   "source": [
    "## KCenters Gonzalez - Average "
   ]
  },
  {
   "cell_type": "code",
   "execution_count": 22,
   "metadata": {},
   "outputs": [
    {
     "name": "stderr",
     "output_type": "stream",
     "text": [
      "  0%|          | 0/3 [00:00<?, ?it/s]"
     ]
    },
    {
     "name": "stdout",
     "output_type": "stream",
     "text": [
      "\n",
      "\n",
      "\n",
      "Starting N = 1000 K = 5 and D = 5\n"
     ]
    },
    {
     "name": "stderr",
     "output_type": "stream",
     "text": []
    },
    {
     "name": "stdout",
     "output_type": "stream",
     "text": [
      "Finished running N = 1000 K = 5 and D = 5\n",
      "****************************************************************************************************\n",
      "\n",
      "\n",
      "\n",
      "Starting N = 3150 K = 5 and D = 5\n"
     ]
    },
    {
     "name": "stderr",
     "output_type": "stream",
     "text": []
    },
    {
     "name": "stdout",
     "output_type": "stream",
     "text": [
      "Finished running N = 3150 K = 5 and D = 5\n",
      "****************************************************************************************************\n",
      "\n",
      "\n",
      "\n",
      "Starting N = 10000 K = 5 and D = 5\n"
     ]
    },
    {
     "name": "stderr",
     "output_type": "stream",
     "text": []
    },
    {
     "name": "stdout",
     "output_type": "stream",
     "text": [
      "Finished running N = 10000 K = 5 and D = 5\n",
      "****************************************************************************************************\n",
      "\n",
      "\n",
      "\n",
      "Starting N = 31500 K = 5 and D = 5\n"
     ]
    },
    {
     "name": "stderr",
     "output_type": "stream",
     "text": []
    },
    {
     "name": "stdout",
     "output_type": "stream",
     "text": [
      "Finished running N = 31500 K = 5 and D = 5\n",
      "****************************************************************************************************\n",
      "\n",
      "\n",
      "\n",
      "Starting N = 100000 K = 5 and D = 5\n"
     ]
    },
    {
     "name": "stderr",
     "output_type": "stream",
     "text": []
    },
    {
     "name": "stdout",
     "output_type": "stream",
     "text": [
      "Finished running N = 100000 K = 5 and D = 5\n",
      "****************************************************************************************************\n",
      "\n",
      "\n",
      "\n",
      "Starting N = 315000 K = 5 and D = 5\n"
     ]
    },
    {
     "name": "stderr",
     "output_type": "stream",
     "text": []
    },
    {
     "name": "stdout",
     "output_type": "stream",
     "text": [
      "Finished running N = 315000 K = 5 and D = 5\n",
      "****************************************************************************************************\n",
      "\n",
      "\n",
      "\n",
      "Starting N = 1000000 K = 5 and D = 5\n"
     ]
    },
    {
     "name": "stderr",
     "output_type": "stream",
     "text": [
      "100%|██████████| 7/7 [14:31<00:00, 124.49s/it]\n",
      " 33%|███▎      | 1/3 [14:31<29:02, 871.43s/it]"
     ]
    },
    {
     "name": "stdout",
     "output_type": "stream",
     "text": [
      "Finished running N = 1000000 K = 5 and D = 5\n",
      "****************************************************************************************************\n"
     ]
    },
    {
     "name": "stderr",
     "output_type": "stream",
     "text": []
    },
    {
     "name": "stdout",
     "output_type": "stream",
     "text": [
      "\n",
      "\n",
      "\n",
      "Starting N = 1000 K = 5 and D = 10\n"
     ]
    },
    {
     "name": "stderr",
     "output_type": "stream",
     "text": []
    },
    {
     "name": "stdout",
     "output_type": "stream",
     "text": [
      "Finished running N = 1000 K = 5 and D = 10\n",
      "****************************************************************************************************\n",
      "\n",
      "\n",
      "\n",
      "Starting N = 3150 K = 5 and D = 10\n"
     ]
    },
    {
     "name": "stderr",
     "output_type": "stream",
     "text": []
    },
    {
     "name": "stdout",
     "output_type": "stream",
     "text": [
      "Finished running N = 3150 K = 5 and D = 10\n",
      "****************************************************************************************************\n",
      "\n",
      "\n",
      "\n",
      "Starting N = 10000 K = 5 and D = 10\n"
     ]
    },
    {
     "name": "stderr",
     "output_type": "stream",
     "text": []
    },
    {
     "name": "stdout",
     "output_type": "stream",
     "text": [
      "Finished running N = 10000 K = 5 and D = 10\n",
      "****************************************************************************************************\n",
      "\n",
      "\n",
      "\n",
      "Starting N = 31500 K = 5 and D = 10\n"
     ]
    },
    {
     "name": "stderr",
     "output_type": "stream",
     "text": []
    },
    {
     "name": "stdout",
     "output_type": "stream",
     "text": [
      "Finished running N = 31500 K = 5 and D = 10\n",
      "****************************************************************************************************\n",
      "\n",
      "\n",
      "\n",
      "Starting N = 100000 K = 5 and D = 10\n"
     ]
    },
    {
     "name": "stderr",
     "output_type": "stream",
     "text": []
    },
    {
     "name": "stdout",
     "output_type": "stream",
     "text": [
      "Finished running N = 100000 K = 5 and D = 10\n",
      "****************************************************************************************************\n",
      "\n",
      "\n",
      "\n",
      "Starting N = 315000 K = 5 and D = 10\n"
     ]
    },
    {
     "name": "stderr",
     "output_type": "stream",
     "text": []
    },
    {
     "name": "stdout",
     "output_type": "stream",
     "text": [
      "Finished running N = 315000 K = 5 and D = 10\n",
      "****************************************************************************************************\n",
      "\n",
      "\n",
      "\n",
      "Starting N = 1000000 K = 5 and D = 10\n"
     ]
    },
    {
     "name": "stderr",
     "output_type": "stream",
     "text": [
      "100%|██████████| 7/7 [13:53<00:00, 119.05s/it]\n",
      " 67%|██████▋   | 2/3 [28:24<14:09, 849.02s/it]"
     ]
    },
    {
     "name": "stdout",
     "output_type": "stream",
     "text": [
      "Finished running N = 1000000 K = 5 and D = 10\n",
      "****************************************************************************************************\n"
     ]
    },
    {
     "name": "stderr",
     "output_type": "stream",
     "text": []
    },
    {
     "name": "stdout",
     "output_type": "stream",
     "text": [
      "\n",
      "\n",
      "\n",
      "Starting N = 1000 K = 5 and D = 15\n"
     ]
    },
    {
     "name": "stderr",
     "output_type": "stream",
     "text": []
    },
    {
     "name": "stdout",
     "output_type": "stream",
     "text": [
      "Finished running N = 1000 K = 5 and D = 15\n",
      "****************************************************************************************************\n",
      "\n",
      "\n",
      "\n",
      "Starting N = 3150 K = 5 and D = 15\n"
     ]
    },
    {
     "name": "stderr",
     "output_type": "stream",
     "text": []
    },
    {
     "name": "stdout",
     "output_type": "stream",
     "text": [
      "Finished running N = 3150 K = 5 and D = 15\n",
      "****************************************************************************************************\n",
      "\n",
      "\n",
      "\n",
      "Starting N = 10000 K = 5 and D = 15\n"
     ]
    },
    {
     "name": "stderr",
     "output_type": "stream",
     "text": []
    },
    {
     "name": "stdout",
     "output_type": "stream",
     "text": [
      "Finished running N = 10000 K = 5 and D = 15\n",
      "****************************************************************************************************\n",
      "\n",
      "\n",
      "\n",
      "Starting N = 31500 K = 5 and D = 15\n"
     ]
    },
    {
     "name": "stderr",
     "output_type": "stream",
     "text": []
    },
    {
     "name": "stdout",
     "output_type": "stream",
     "text": [
      "Finished running N = 31500 K = 5 and D = 15\n",
      "****************************************************************************************************\n",
      "\n",
      "\n",
      "\n",
      "Starting N = 100000 K = 5 and D = 15\n"
     ]
    },
    {
     "name": "stderr",
     "output_type": "stream",
     "text": []
    },
    {
     "name": "stdout",
     "output_type": "stream",
     "text": [
      "Finished running N = 100000 K = 5 and D = 15\n",
      "****************************************************************************************************\n",
      "\n",
      "\n",
      "\n",
      "Starting N = 315000 K = 5 and D = 15\n"
     ]
    },
    {
     "name": "stderr",
     "output_type": "stream",
     "text": []
    },
    {
     "name": "stdout",
     "output_type": "stream",
     "text": [
      "Finished running N = 315000 K = 5 and D = 15\n",
      "****************************************************************************************************\n",
      "\n",
      "\n",
      "\n",
      "Starting N = 1000000 K = 5 and D = 15\n"
     ]
    },
    {
     "name": "stderr",
     "output_type": "stream",
     "text": [
      "100%|██████████| 7/7 [13:40<00:00, 117.20s/it]\n",
      "100%|██████████| 3/3 [42:05<00:00, 841.71s/it]"
     ]
    },
    {
     "name": "stdout",
     "output_type": "stream",
     "text": [
      "Finished running N = 1000000 K = 5 and D = 15\n",
      "****************************************************************************************************\n"
     ]
    },
    {
     "name": "stderr",
     "output_type": "stream",
     "text": [
      "\n"
     ]
    }
   ],
   "source": [
    "N_list = [1000, 3150, 10000, 31500, 100000, 315000, 1000000]\n",
    "K_list = [5, 5,5,]# 10,10, 15]\n",
    "D_list = [5,10,15, ]#10,15, 15] \n",
    "\n",
    "box = 500\n",
    "seed = 65\n",
    "\n",
    "cnt = 0\n",
    "\n",
    "for i, D in enumerate(tqdm(D_list)):\n",
    "\n",
    "\n",
    "    time_list = []\n",
    "    metrics_list = []\n",
    "    epsVal_list = []\n",
    "\n",
    "    centers_list = []\n",
    "\n",
    "    obj_list = []\n",
    "\n",
    "\n",
    "    K = K_list[i]\n",
    "    \n",
    "    for N in tqdm(N_list):\n",
    "        print('\\n\\n\\nStarting N = %i K = %i and D = %i' %(N,K,D))\n",
    "\n",
    "        df_data, X,y = Blobs_Anisotropic(N,D,K,box, seed)\n",
    "\n",
    "        metrics_list_inner = []\n",
    "        time_list_inner = []\n",
    "        epsVal_list_inner = []\n",
    "        centers_list_inner = []\n",
    "\n",
    "        for j in range(10):\n",
    "            \n",
    "            kc_Gon = UnsupervisedClustering(K =K)\n",
    "            kc_Gon.set_model(KCenters_Gon())\n",
    "\n",
    "            start = default_timer()\n",
    "            kc_Gon.fit(df_data )\n",
    "\n",
    "            end = default_timer()\n",
    "\n",
    "            metrics_list_inner.append(kc_Gon.evaluate(y))\n",
    "            epsVal_list_inner.append(kc_Gon.epsVal)\n",
    "            centers_list_inner.append(kc_Gon.cluster_centers)\n",
    "        \n",
    "            time_list_inner.append(end - start)\n",
    "\n",
    "        \n",
    "        time_list.append(np.average(time_list_inner))\n",
    "        metrics_list.append(np.average(metrics_list_inner,axis=0))\n",
    "        epsVal_list.append(np.average(epsVal_list_inner))\n",
    "        centers_list.append(centers_list_inner)\n",
    "\n",
    "\n",
    "        print('Finished running N = %i K = %i and D = %i' %(N,K,D))\n",
    "        print('*'*100)\n",
    "\n",
    "\n",
    "\n",
    "    with open(os.path.join(RESULT_DIR, 'Syn4_'+str(K)+str(D)+'_KC_GonAvg.pkl'), 'wb') as outp:\n",
    "\n",
    "        pickle.dump(metrics_list, outp, pickle.HIGHEST_PROTOCOL)\n",
    "        pickle.dump(time_list, outp, pickle.HIGHEST_PROTOCOL)\n",
    "        pickle.dump(epsVal_list, outp, pickle.HIGHEST_PROTOCOL)\n",
    "        pickle.dump(centers_list, outp, pickle.HIGHEST_PROTOCOL)\n",
    "\n",
    "\n",
    "\n"
   ]
  },
  {
   "cell_type": "markdown",
   "metadata": {},
   "source": [
    "## KCenters HS"
   ]
  },
  {
   "cell_type": "code",
   "execution_count": 23,
   "metadata": {},
   "outputs": [
    {
     "name": "stderr",
     "output_type": "stream",
     "text": [
      "  0%|          | 0/3 [00:00<?, ?it/s]"
     ]
    },
    {
     "name": "stdout",
     "output_type": "stream",
     "text": [
      "\n",
      "\n",
      "\n",
      "Starting N = 1000 K = 5 and D = 5\n"
     ]
    },
    {
     "name": "stderr",
     "output_type": "stream",
     "text": []
    },
    {
     "name": "stdout",
     "output_type": "stream",
     "text": [
      "Finished running N = 1000 K = 5 and D = 5\n",
      "****************************************************************************************************\n",
      "\n",
      "\n",
      "\n",
      "Starting N = 3150 K = 5 and D = 5\n"
     ]
    },
    {
     "name": "stderr",
     "output_type": "stream",
     "text": []
    },
    {
     "name": "stdout",
     "output_type": "stream",
     "text": [
      "Finished running N = 3150 K = 5 and D = 5\n",
      "****************************************************************************************************\n",
      "\n",
      "\n",
      "\n",
      "Starting N = 10000 K = 5 and D = 5\n"
     ]
    },
    {
     "name": "stderr",
     "output_type": "stream",
     "text": []
    },
    {
     "name": "stdout",
     "output_type": "stream",
     "text": [
      "Finished running N = 10000 K = 5 and D = 5\n",
      "****************************************************************************************************\n",
      "\n",
      "\n",
      "\n",
      "Starting N = 31500 K = 5 and D = 5\n"
     ]
    },
    {
     "name": "stderr",
     "output_type": "stream",
     "text": []
    },
    {
     "name": "stdout",
     "output_type": "stream",
     "text": [
      "Finished running N = 31500 K = 5 and D = 5\n",
      "****************************************************************************************************\n",
      "\n",
      "\n",
      "\n",
      "Starting N = 100000 K = 5 and D = 5\n"
     ]
    },
    {
     "name": "stderr",
     "output_type": "stream",
     "text": []
    },
    {
     "name": "stdout",
     "output_type": "stream",
     "text": [
      "Finished running N = 100000 K = 5 and D = 5\n",
      "****************************************************************************************************\n",
      "\n",
      "\n",
      "\n",
      "Starting N = 315000 K = 5 and D = 5\n"
     ]
    },
    {
     "name": "stderr",
     "output_type": "stream",
     "text": []
    },
    {
     "name": "stdout",
     "output_type": "stream",
     "text": [
      "Finished running N = 315000 K = 5 and D = 5\n",
      "****************************************************************************************************\n",
      "\n",
      "\n",
      "\n",
      "Starting N = 1000000 K = 5 and D = 5\n"
     ]
    },
    {
     "name": "stderr",
     "output_type": "stream",
     "text": [
      "100%|██████████| 7/7 [02:11<00:00, 18.74s/it]\n",
      " 33%|███▎      | 1/3 [02:11<04:22, 131.21s/it]"
     ]
    },
    {
     "name": "stdout",
     "output_type": "stream",
     "text": [
      "Finished running N = 1000000 K = 5 and D = 5\n",
      "****************************************************************************************************\n"
     ]
    },
    {
     "name": "stderr",
     "output_type": "stream",
     "text": []
    },
    {
     "name": "stdout",
     "output_type": "stream",
     "text": [
      "\n",
      "\n",
      "\n",
      "Starting N = 1000 K = 5 and D = 10\n",
      "Finished running N = 1000 K = 5 and D = 10\n",
      "****************************************************************************************************\n",
      "\n",
      "\n",
      "\n",
      "Starting N = 3150 K = 5 and D = 10\n"
     ]
    },
    {
     "name": "stderr",
     "output_type": "stream",
     "text": []
    },
    {
     "name": "stdout",
     "output_type": "stream",
     "text": [
      "Finished running N = 3150 K = 5 and D = 10\n",
      "****************************************************************************************************\n",
      "\n",
      "\n",
      "\n",
      "Starting N = 10000 K = 5 and D = 10\n"
     ]
    },
    {
     "name": "stderr",
     "output_type": "stream",
     "text": []
    },
    {
     "name": "stdout",
     "output_type": "stream",
     "text": [
      "Finished running N = 10000 K = 5 and D = 10\n",
      "****************************************************************************************************\n",
      "\n",
      "\n",
      "\n",
      "Starting N = 31500 K = 5 and D = 10\n"
     ]
    },
    {
     "name": "stderr",
     "output_type": "stream",
     "text": []
    },
    {
     "name": "stdout",
     "output_type": "stream",
     "text": [
      "Finished running N = 31500 K = 5 and D = 10\n",
      "****************************************************************************************************\n",
      "\n",
      "\n",
      "\n",
      "Starting N = 100000 K = 5 and D = 10\n"
     ]
    },
    {
     "name": "stderr",
     "output_type": "stream",
     "text": []
    },
    {
     "name": "stdout",
     "output_type": "stream",
     "text": [
      "Finished running N = 100000 K = 5 and D = 10\n",
      "****************************************************************************************************\n",
      "\n",
      "\n",
      "\n",
      "Starting N = 315000 K = 5 and D = 10\n"
     ]
    },
    {
     "name": "stderr",
     "output_type": "stream",
     "text": []
    },
    {
     "name": "stdout",
     "output_type": "stream",
     "text": [
      "Finished running N = 315000 K = 5 and D = 10\n",
      "****************************************************************************************************\n",
      "\n",
      "\n",
      "\n",
      "Starting N = 1000000 K = 5 and D = 10\n"
     ]
    },
    {
     "name": "stderr",
     "output_type": "stream",
     "text": [
      "100%|██████████| 7/7 [02:12<00:00, 18.92s/it]\n",
      " 67%|██████▋   | 2/3 [04:23<02:11, 131.94s/it]"
     ]
    },
    {
     "name": "stdout",
     "output_type": "stream",
     "text": [
      "Finished running N = 1000000 K = 5 and D = 10\n",
      "****************************************************************************************************\n"
     ]
    },
    {
     "name": "stderr",
     "output_type": "stream",
     "text": [
      "\n"
     ]
    },
    {
     "name": "stdout",
     "output_type": "stream",
     "text": [
      "\n",
      "\n",
      "\n",
      "Starting N = 1000 K = 5 and D = 15\n",
      "Finished running N = 1000 K = 5 and D = 15\n",
      "****************************************************************************************************\n"
     ]
    },
    {
     "name": "stderr",
     "output_type": "stream",
     "text": []
    },
    {
     "name": "stdout",
     "output_type": "stream",
     "text": [
      "\n",
      "\n",
      "\n",
      "Starting N = 3150 K = 5 and D = 15\n"
     ]
    },
    {
     "name": "stderr",
     "output_type": "stream",
     "text": []
    },
    {
     "name": "stdout",
     "output_type": "stream",
     "text": [
      "Finished running N = 3150 K = 5 and D = 15\n",
      "****************************************************************************************************\n",
      "\n",
      "\n",
      "\n",
      "Starting N = 10000 K = 5 and D = 15\n"
     ]
    },
    {
     "name": "stderr",
     "output_type": "stream",
     "text": []
    },
    {
     "name": "stdout",
     "output_type": "stream",
     "text": [
      "Finished running N = 10000 K = 5 and D = 15\n",
      "****************************************************************************************************\n",
      "\n",
      "\n",
      "\n",
      "Starting N = 31500 K = 5 and D = 15\n"
     ]
    },
    {
     "name": "stderr",
     "output_type": "stream",
     "text": []
    },
    {
     "name": "stdout",
     "output_type": "stream",
     "text": [
      "Finished running N = 31500 K = 5 and D = 15\n",
      "****************************************************************************************************\n",
      "\n",
      "\n",
      "\n",
      "Starting N = 100000 K = 5 and D = 15\n"
     ]
    },
    {
     "name": "stderr",
     "output_type": "stream",
     "text": []
    },
    {
     "name": "stdout",
     "output_type": "stream",
     "text": [
      "Finished running N = 100000 K = 5 and D = 15\n",
      "****************************************************************************************************\n",
      "\n",
      "\n",
      "\n",
      "Starting N = 315000 K = 5 and D = 15\n"
     ]
    },
    {
     "name": "stderr",
     "output_type": "stream",
     "text": []
    },
    {
     "name": "stdout",
     "output_type": "stream",
     "text": [
      "Finished running N = 315000 K = 5 and D = 15\n",
      "****************************************************************************************************\n",
      "\n",
      "\n",
      "\n",
      "Starting N = 1000000 K = 5 and D = 15\n"
     ]
    },
    {
     "name": "stderr",
     "output_type": "stream",
     "text": [
      "100%|██████████| 7/7 [02:14<00:00, 19.17s/it]\n",
      "100%|██████████| 3/3 [06:37<00:00, 132.62s/it]"
     ]
    },
    {
     "name": "stdout",
     "output_type": "stream",
     "text": [
      "Finished running N = 1000000 K = 5 and D = 15\n",
      "****************************************************************************************************\n"
     ]
    },
    {
     "name": "stderr",
     "output_type": "stream",
     "text": [
      "\n"
     ]
    }
   ],
   "source": [
    "N_list = [1000, 3150, 10000, 31500, 100000, 315000, 1000000]\n",
    "K_list = [5, 5,5,]# 10,10, 15]\n",
    "D_list = [5,10,15, ]#10,15, 15] \n",
    "\n",
    "box = 500\n",
    "seed = 65\n",
    "\n",
    "for i, D in enumerate(tqdm(D_list)):\n",
    "\n",
    "\n",
    "    time_list = []\n",
    "    metrics_list = []\n",
    "    epsVal_list = []\n",
    "\n",
    "    centers_list = []\n",
    "\n",
    "    obj_list = []\n",
    "\n",
    "\n",
    "    K = K_list[i]\n",
    "    \n",
    "    for N in tqdm(N_list):\n",
    "        print('\\n\\n\\nStarting N = %i K = %i and D = %i' %(N,K,D))\n",
    "\n",
    "        df_data, X,y = Blobs_Anisotropic(N,D,K,box, seed)\n",
    "       \n",
    "        kc_HS = UnsupervisedClustering(K =K)\n",
    "        kc_HS.set_model(KCenter_HS())\n",
    "\n",
    "        start = default_timer()\n",
    "        kc_HS.fit(df_data )\n",
    "\n",
    "        end = default_timer()\n",
    "        metrics_list.append(kc_HS.evaluate(y))\n",
    "        epsVal_list.append(kc_HS.epsVal)\n",
    "        centers_list.append(kc_HS.cluster_centers)\n",
    "    \n",
    "        time_list.append(end - start)\n",
    "\n",
    "        print('Finished running N = %i K = %i and D = %i' %(N,K,D))\n",
    "        print('*'*100)\n",
    "\n",
    "\n",
    "\n",
    "    with open(os.path.join(RESULT_DIR, 'Syn4_'+str(K)+str(D)+'_KC_HS.pkl'), 'wb') as outp:\n",
    "\n",
    "        pickle.dump(metrics_list, outp, pickle.HIGHEST_PROTOCOL)\n",
    "        pickle.dump(time_list, outp, pickle.HIGHEST_PROTOCOL)\n",
    "        pickle.dump(epsVal_list, outp, pickle.HIGHEST_PROTOCOL)\n",
    "        pickle.dump(centers_list, outp, pickle.HIGHEST_PROTOCOL)\n",
    "\n",
    "\n",
    "\n"
   ]
  },
  {
   "cell_type": "markdown",
   "metadata": {},
   "source": [
    "## KCenters HS - Average"
   ]
  },
  {
   "cell_type": "code",
   "execution_count": 24,
   "metadata": {},
   "outputs": [
    {
     "name": "stderr",
     "output_type": "stream",
     "text": [
      "  0%|          | 0/3 [00:00<?, ?it/s]"
     ]
    },
    {
     "name": "stdout",
     "output_type": "stream",
     "text": [
      "\n",
      "\n",
      "\n",
      "Starting N = 1000 K = 5 and D = 5\n"
     ]
    },
    {
     "name": "stderr",
     "output_type": "stream",
     "text": []
    },
    {
     "name": "stdout",
     "output_type": "stream",
     "text": [
      "Finished running N = 1000 K = 5 and D = 5\n",
      "****************************************************************************************************\n",
      "\n",
      "\n",
      "\n",
      "Starting N = 3150 K = 5 and D = 5\n"
     ]
    },
    {
     "name": "stderr",
     "output_type": "stream",
     "text": []
    },
    {
     "name": "stdout",
     "output_type": "stream",
     "text": [
      "Finished running N = 3150 K = 5 and D = 5\n",
      "****************************************************************************************************\n",
      "\n",
      "\n",
      "\n",
      "Starting N = 10000 K = 5 and D = 5\n"
     ]
    },
    {
     "name": "stderr",
     "output_type": "stream",
     "text": []
    },
    {
     "name": "stdout",
     "output_type": "stream",
     "text": [
      "Finished running N = 10000 K = 5 and D = 5\n",
      "****************************************************************************************************\n",
      "\n",
      "\n",
      "\n",
      "Starting N = 31500 K = 5 and D = 5\n"
     ]
    },
    {
     "name": "stderr",
     "output_type": "stream",
     "text": []
    },
    {
     "name": "stdout",
     "output_type": "stream",
     "text": [
      "Finished running N = 31500 K = 5 and D = 5\n",
      "****************************************************************************************************\n",
      "\n",
      "\n",
      "\n",
      "Starting N = 100000 K = 5 and D = 5\n"
     ]
    },
    {
     "name": "stderr",
     "output_type": "stream",
     "text": []
    },
    {
     "name": "stdout",
     "output_type": "stream",
     "text": [
      "Finished running N = 100000 K = 5 and D = 5\n",
      "****************************************************************************************************\n",
      "\n",
      "\n",
      "\n",
      "Starting N = 315000 K = 5 and D = 5\n"
     ]
    },
    {
     "name": "stderr",
     "output_type": "stream",
     "text": []
    },
    {
     "name": "stdout",
     "output_type": "stream",
     "text": [
      "Finished running N = 315000 K = 5 and D = 5\n",
      "****************************************************************************************************\n",
      "\n",
      "\n",
      "\n",
      "Starting N = 1000000 K = 5 and D = 5\n"
     ]
    },
    {
     "name": "stderr",
     "output_type": "stream",
     "text": [
      "100%|██████████| 7/7 [21:48<00:00, 186.96s/it]\n",
      " 33%|███▎      | 1/3 [21:48<43:37, 1308.71s/it]"
     ]
    },
    {
     "name": "stdout",
     "output_type": "stream",
     "text": [
      "Finished running N = 1000000 K = 5 and D = 5\n",
      "****************************************************************************************************\n"
     ]
    },
    {
     "name": "stderr",
     "output_type": "stream",
     "text": []
    },
    {
     "name": "stdout",
     "output_type": "stream",
     "text": [
      "\n",
      "\n",
      "\n",
      "Starting N = 1000 K = 5 and D = 10\n"
     ]
    },
    {
     "name": "stderr",
     "output_type": "stream",
     "text": []
    },
    {
     "name": "stdout",
     "output_type": "stream",
     "text": [
      "Finished running N = 1000 K = 5 and D = 10\n",
      "****************************************************************************************************\n",
      "\n",
      "\n",
      "\n",
      "Starting N = 3150 K = 5 and D = 10\n"
     ]
    },
    {
     "name": "stderr",
     "output_type": "stream",
     "text": []
    },
    {
     "name": "stdout",
     "output_type": "stream",
     "text": [
      "Finished running N = 3150 K = 5 and D = 10\n",
      "****************************************************************************************************\n",
      "\n",
      "\n",
      "\n",
      "Starting N = 10000 K = 5 and D = 10\n"
     ]
    },
    {
     "name": "stderr",
     "output_type": "stream",
     "text": []
    },
    {
     "name": "stdout",
     "output_type": "stream",
     "text": [
      "Finished running N = 10000 K = 5 and D = 10\n",
      "****************************************************************************************************\n",
      "\n",
      "\n",
      "\n",
      "Starting N = 31500 K = 5 and D = 10\n"
     ]
    },
    {
     "name": "stderr",
     "output_type": "stream",
     "text": []
    },
    {
     "name": "stdout",
     "output_type": "stream",
     "text": [
      "Finished running N = 31500 K = 5 and D = 10\n",
      "****************************************************************************************************\n",
      "\n",
      "\n",
      "\n",
      "Starting N = 100000 K = 5 and D = 10\n"
     ]
    },
    {
     "name": "stderr",
     "output_type": "stream",
     "text": []
    },
    {
     "name": "stdout",
     "output_type": "stream",
     "text": [
      "Finished running N = 100000 K = 5 and D = 10\n",
      "****************************************************************************************************\n",
      "\n",
      "\n",
      "\n",
      "Starting N = 315000 K = 5 and D = 10\n"
     ]
    },
    {
     "name": "stderr",
     "output_type": "stream",
     "text": []
    },
    {
     "name": "stdout",
     "output_type": "stream",
     "text": [
      "Finished running N = 315000 K = 5 and D = 10\n",
      "****************************************************************************************************\n",
      "\n",
      "\n",
      "\n",
      "Starting N = 1000000 K = 5 and D = 10\n"
     ]
    },
    {
     "name": "stderr",
     "output_type": "stream",
     "text": [
      "100%|██████████| 7/7 [22:01<00:00, 188.82s/it]\n",
      " 67%|██████▋   | 2/3 [43:50<21:56, 1316.40s/it]"
     ]
    },
    {
     "name": "stdout",
     "output_type": "stream",
     "text": [
      "Finished running N = 1000000 K = 5 and D = 10\n",
      "****************************************************************************************************\n"
     ]
    },
    {
     "name": "stderr",
     "output_type": "stream",
     "text": []
    },
    {
     "name": "stdout",
     "output_type": "stream",
     "text": [
      "\n",
      "\n",
      "\n",
      "Starting N = 1000 K = 5 and D = 15\n"
     ]
    },
    {
     "name": "stderr",
     "output_type": "stream",
     "text": []
    },
    {
     "name": "stdout",
     "output_type": "stream",
     "text": [
      "Finished running N = 1000 K = 5 and D = 15\n",
      "****************************************************************************************************\n",
      "\n",
      "\n",
      "\n",
      "Starting N = 3150 K = 5 and D = 15\n"
     ]
    },
    {
     "name": "stderr",
     "output_type": "stream",
     "text": []
    },
    {
     "name": "stdout",
     "output_type": "stream",
     "text": [
      "Finished running N = 3150 K = 5 and D = 15\n",
      "****************************************************************************************************\n",
      "\n",
      "\n",
      "\n",
      "Starting N = 10000 K = 5 and D = 15\n"
     ]
    },
    {
     "name": "stderr",
     "output_type": "stream",
     "text": []
    },
    {
     "name": "stdout",
     "output_type": "stream",
     "text": [
      "Finished running N = 10000 K = 5 and D = 15\n",
      "****************************************************************************************************\n",
      "\n",
      "\n",
      "\n",
      "Starting N = 31500 K = 5 and D = 15\n"
     ]
    },
    {
     "name": "stderr",
     "output_type": "stream",
     "text": []
    },
    {
     "name": "stdout",
     "output_type": "stream",
     "text": [
      "Finished running N = 31500 K = 5 and D = 15\n",
      "****************************************************************************************************\n",
      "\n",
      "\n",
      "\n",
      "Starting N = 100000 K = 5 and D = 15\n"
     ]
    },
    {
     "name": "stderr",
     "output_type": "stream",
     "text": []
    },
    {
     "name": "stdout",
     "output_type": "stream",
     "text": [
      "Finished running N = 100000 K = 5 and D = 15\n",
      "****************************************************************************************************\n",
      "\n",
      "\n",
      "\n",
      "Starting N = 315000 K = 5 and D = 15\n"
     ]
    },
    {
     "name": "stderr",
     "output_type": "stream",
     "text": []
    },
    {
     "name": "stdout",
     "output_type": "stream",
     "text": [
      "Finished running N = 315000 K = 5 and D = 15\n",
      "****************************************************************************************************\n",
      "\n",
      "\n",
      "\n",
      "Starting N = 1000000 K = 5 and D = 15\n"
     ]
    },
    {
     "name": "stderr",
     "output_type": "stream",
     "text": [
      "100%|██████████| 7/7 [22:17<00:00, 191.00s/it]\n",
      "100%|██████████| 3/3 [1:06:07<00:00, 1322.51s/it]"
     ]
    },
    {
     "name": "stdout",
     "output_type": "stream",
     "text": [
      "Finished running N = 1000000 K = 5 and D = 15\n",
      "****************************************************************************************************\n"
     ]
    },
    {
     "name": "stderr",
     "output_type": "stream",
     "text": [
      "\n"
     ]
    }
   ],
   "source": [
    "N_list = [1000, 3150, 10000, 31500, 100000, 315000, 1000000]\n",
    "\n",
    "K_list = [5, 5,5,]# 10,10, 15]\n",
    "D_list = [5,10,15, ]#10,15, 15] \n",
    "\n",
    "box = 500\n",
    "seed = 65\n",
    "\n",
    "cnt = 0\n",
    "\n",
    "for i, D in enumerate(tqdm(D_list)):\n",
    "\n",
    "\n",
    "    time_list = []\n",
    "    metrics_list = []\n",
    "    epsVal_list = []\n",
    "\n",
    "    centers_list = []\n",
    "\n",
    "    obj_list = []\n",
    "\n",
    "\n",
    "    K = K_list[i]\n",
    "    \n",
    "    for N in tqdm(N_list):\n",
    "        print('\\n\\n\\nStarting N = %i K = %i and D = %i' %(N,K,D))\n",
    "\n",
    "        df_data, X,y = Blobs_Anisotropic(N,D,K,box, seed)\n",
    "\n",
    "        metrics_list_inner = []\n",
    "        time_list_inner = []\n",
    "        epsVal_list_inner = []\n",
    "        centers_list_inner = []\n",
    "\n",
    "        for j in range(10):\n",
    "            \n",
    "            kc_HS = UnsupervisedClustering(K =K)\n",
    "            kc_HS.set_model(KCenter_HS())\n",
    "\n",
    "            start = default_timer()\n",
    "            kc_HS.fit(df_data )\n",
    "\n",
    "            end = default_timer()\n",
    "\n",
    "            metrics_list_inner.append(kc_HS.evaluate(y))\n",
    "            epsVal_list_inner.append(kc_HS.epsVal)\n",
    "            centers_list_inner.append(kc_HS.cluster_centers)\n",
    "        \n",
    "            time_list_inner.append(end - start)\n",
    "\n",
    "        \n",
    "        time_list.append(np.average(time_list_inner))\n",
    "        metrics_list.append(np.average(metrics_list_inner,axis=0))\n",
    "        epsVal_list.append(np.average(epsVal_list_inner))\n",
    "        centers_list.append(centers_list_inner)\n",
    "\n",
    "\n",
    "        print('Finished running N = %i K = %i and D = %i' %(N,K,D))\n",
    "        print('*'*100)\n",
    "\n",
    "\n",
    "\n",
    "    with open(os.path.join(RESULT_DIR, 'Syn4_'+str(K)+str(D)+'_KC_HSAvg.pkl'), 'wb') as outp:\n",
    "\n",
    "        pickle.dump(metrics_list, outp, pickle.HIGHEST_PROTOCOL)\n",
    "        pickle.dump(time_list, outp, pickle.HIGHEST_PROTOCOL)\n",
    "        pickle.dump(epsVal_list, outp, pickle.HIGHEST_PROTOCOL)\n",
    "        pickle.dump(centers_list, outp, pickle.HIGHEST_PROTOCOL)\n",
    "\n",
    "\n",
    "\n"
   ]
  },
  {
   "cell_type": "markdown",
   "metadata": {},
   "source": [
    "## K Median with random init"
   ]
  },
  {
   "cell_type": "code",
   "execution_count": 25,
   "metadata": {},
   "outputs": [
    {
     "name": "stderr",
     "output_type": "stream",
     "text": [
      "  0%|          | 0/3 [00:00<?, ?it/s]"
     ]
    },
    {
     "name": "stdout",
     "output_type": "stream",
     "text": [
      "\n",
      "\n",
      "\n",
      "Starting N = 1000 K = 5 and D = 5\n"
     ]
    },
    {
     "name": "stderr",
     "output_type": "stream",
     "text": []
    },
    {
     "name": "stdout",
     "output_type": "stream",
     "text": [
      "Finished running N = 1000 K = 5 and D = 5\n",
      "****************************************************************************************************\n",
      "\n",
      "\n",
      "\n",
      "Starting N = 3150 K = 5 and D = 5\n"
     ]
    },
    {
     "name": "stderr",
     "output_type": "stream",
     "text": []
    },
    {
     "name": "stdout",
     "output_type": "stream",
     "text": [
      "Finished running N = 3150 K = 5 and D = 5\n",
      "****************************************************************************************************\n",
      "\n",
      "\n",
      "\n",
      "Starting N = 10000 K = 5 and D = 5\n"
     ]
    },
    {
     "name": "stderr",
     "output_type": "stream",
     "text": []
    },
    {
     "name": "stdout",
     "output_type": "stream",
     "text": [
      "Finished running N = 10000 K = 5 and D = 5\n",
      "****************************************************************************************************\n",
      "\n",
      "\n",
      "\n",
      "Starting N = 31500 K = 5 and D = 5\n"
     ]
    },
    {
     "name": "stderr",
     "output_type": "stream",
     "text": []
    },
    {
     "name": "stdout",
     "output_type": "stream",
     "text": [
      "Finished running N = 31500 K = 5 and D = 5\n",
      "****************************************************************************************************\n",
      "\n",
      "\n",
      "\n",
      "Starting N = 100000 K = 5 and D = 5\n"
     ]
    },
    {
     "name": "stderr",
     "output_type": "stream",
     "text": []
    },
    {
     "name": "stdout",
     "output_type": "stream",
     "text": [
      "Finished running N = 100000 K = 5 and D = 5\n",
      "****************************************************************************************************\n",
      "\n",
      "\n",
      "\n",
      "Starting N = 315000 K = 5 and D = 5\n"
     ]
    },
    {
     "name": "stderr",
     "output_type": "stream",
     "text": []
    },
    {
     "name": "stdout",
     "output_type": "stream",
     "text": [
      "Finished running N = 315000 K = 5 and D = 5\n",
      "****************************************************************************************************\n",
      "\n",
      "\n",
      "\n",
      "Starting N = 1000000 K = 5 and D = 5\n"
     ]
    },
    {
     "name": "stderr",
     "output_type": "stream",
     "text": [
      "100%|██████████| 7/7 [07:36<00:00, 65.25s/it] \n",
      " 33%|███▎      | 1/3 [07:36<15:13, 456.76s/it]"
     ]
    },
    {
     "name": "stdout",
     "output_type": "stream",
     "text": [
      "Finished running N = 1000000 K = 5 and D = 5\n",
      "****************************************************************************************************\n"
     ]
    },
    {
     "name": "stderr",
     "output_type": "stream",
     "text": []
    },
    {
     "name": "stdout",
     "output_type": "stream",
     "text": [
      "\n",
      "\n",
      "\n",
      "Starting N = 1000 K = 5 and D = 10\n"
     ]
    },
    {
     "name": "stderr",
     "output_type": "stream",
     "text": []
    },
    {
     "name": "stdout",
     "output_type": "stream",
     "text": [
      "Finished running N = 1000 K = 5 and D = 10\n",
      "****************************************************************************************************\n",
      "\n",
      "\n",
      "\n",
      "Starting N = 3150 K = 5 and D = 10\n"
     ]
    },
    {
     "name": "stderr",
     "output_type": "stream",
     "text": []
    },
    {
     "name": "stdout",
     "output_type": "stream",
     "text": [
      "Finished running N = 3150 K = 5 and D = 10\n",
      "****************************************************************************************************\n",
      "\n",
      "\n",
      "\n",
      "Starting N = 10000 K = 5 and D = 10\n"
     ]
    },
    {
     "name": "stderr",
     "output_type": "stream",
     "text": []
    },
    {
     "name": "stdout",
     "output_type": "stream",
     "text": [
      "Finished running N = 10000 K = 5 and D = 10\n",
      "****************************************************************************************************\n",
      "\n",
      "\n",
      "\n",
      "Starting N = 31500 K = 5 and D = 10\n"
     ]
    },
    {
     "name": "stderr",
     "output_type": "stream",
     "text": []
    },
    {
     "name": "stdout",
     "output_type": "stream",
     "text": [
      "Finished running N = 31500 K = 5 and D = 10\n",
      "****************************************************************************************************\n",
      "\n",
      "\n",
      "\n",
      "Starting N = 100000 K = 5 and D = 10\n"
     ]
    },
    {
     "name": "stderr",
     "output_type": "stream",
     "text": []
    },
    {
     "name": "stdout",
     "output_type": "stream",
     "text": [
      "Finished running N = 100000 K = 5 and D = 10\n",
      "****************************************************************************************************\n",
      "\n",
      "\n",
      "\n",
      "Starting N = 315000 K = 5 and D = 10\n"
     ]
    },
    {
     "name": "stderr",
     "output_type": "stream",
     "text": []
    },
    {
     "name": "stdout",
     "output_type": "stream",
     "text": [
      "Finished running N = 315000 K = 5 and D = 10\n",
      "****************************************************************************************************\n",
      "\n",
      "\n",
      "\n",
      "Starting N = 1000000 K = 5 and D = 10\n"
     ]
    },
    {
     "name": "stderr",
     "output_type": "stream",
     "text": [
      "100%|██████████| 7/7 [09:58<00:00, 85.48s/it] \n",
      " 67%|██████▋   | 2/3 [17:35<09:00, 540.05s/it]"
     ]
    },
    {
     "name": "stdout",
     "output_type": "stream",
     "text": [
      "Finished running N = 1000000 K = 5 and D = 10\n",
      "****************************************************************************************************\n"
     ]
    },
    {
     "name": "stderr",
     "output_type": "stream",
     "text": []
    },
    {
     "name": "stdout",
     "output_type": "stream",
     "text": [
      "\n",
      "\n",
      "\n",
      "Starting N = 1000 K = 5 and D = 15\n"
     ]
    },
    {
     "name": "stderr",
     "output_type": "stream",
     "text": []
    },
    {
     "name": "stdout",
     "output_type": "stream",
     "text": [
      "Finished running N = 1000 K = 5 and D = 15\n",
      "****************************************************************************************************\n",
      "\n",
      "\n",
      "\n",
      "Starting N = 3150 K = 5 and D = 15\n"
     ]
    },
    {
     "name": "stderr",
     "output_type": "stream",
     "text": []
    },
    {
     "name": "stdout",
     "output_type": "stream",
     "text": [
      "Finished running N = 3150 K = 5 and D = 15\n",
      "****************************************************************************************************\n",
      "\n",
      "\n",
      "\n",
      "Starting N = 10000 K = 5 and D = 15\n"
     ]
    },
    {
     "name": "stderr",
     "output_type": "stream",
     "text": []
    },
    {
     "name": "stdout",
     "output_type": "stream",
     "text": [
      "Finished running N = 10000 K = 5 and D = 15\n",
      "****************************************************************************************************\n",
      "\n",
      "\n",
      "\n",
      "Starting N = 31500 K = 5 and D = 15\n"
     ]
    },
    {
     "name": "stderr",
     "output_type": "stream",
     "text": []
    },
    {
     "name": "stdout",
     "output_type": "stream",
     "text": [
      "Finished running N = 31500 K = 5 and D = 15\n",
      "****************************************************************************************************\n",
      "\n",
      "\n",
      "\n",
      "Starting N = 100000 K = 5 and D = 15\n"
     ]
    },
    {
     "name": "stderr",
     "output_type": "stream",
     "text": []
    },
    {
     "name": "stdout",
     "output_type": "stream",
     "text": [
      "Finished running N = 100000 K = 5 and D = 15\n",
      "****************************************************************************************************\n",
      "\n",
      "\n",
      "\n",
      "Starting N = 315000 K = 5 and D = 15\n"
     ]
    },
    {
     "name": "stderr",
     "output_type": "stream",
     "text": []
    },
    {
     "name": "stdout",
     "output_type": "stream",
     "text": [
      "Finished running N = 315000 K = 5 and D = 15\n",
      "****************************************************************************************************\n",
      "\n",
      "\n",
      "\n",
      "Starting N = 1000000 K = 5 and D = 15\n"
     ]
    }
   ],
   "source": [
    "N_list = [1000, 3150, 10000, 31500, 100000, 315000, 1000000]\n",
    "\n",
    "K_list = [5, 5,5, ] #10,10, 15]\n",
    "D_list = [5,10,15] # 10,15, 15] \n",
    "\n",
    "box = 500\n",
    "seed = 65\n",
    "\n",
    "cnt = 0\n",
    "\n",
    "for i, D in enumerate(tqdm(D_list)):\n",
    "\n",
    "\n",
    "    time_list = []\n",
    "    metrics_list = []\n",
    "    epsVal_list = []\n",
    "\n",
    "    centers_list = []\n",
    "\n",
    "    obj_list = []\n",
    "\n",
    "\n",
    "    K = K_list[i]\n",
    "    \n",
    "    for N in tqdm(N_list):\n",
    "        print('\\n\\n\\nStarting N = %i K = %i and D = %i' %(N,K,D))\n",
    "\n",
    "        df_data, X,y = Blobs_Anisotropic(N,D,K,box, seed)\n",
    "\n",
    "        metrics_list_inner = []\n",
    "        time_list_inner = []\n",
    "        epsVal_list_inner = []\n",
    "        centers_list_inner = []\n",
    "\n",
    "        for j in range(10):\n",
    "            \n",
    "            km = UnsupervisedClustering(K =K, max_iter=50)\n",
    "            km.set_model(KMedian())\n",
    "\n",
    "            start = default_timer()\n",
    "            km.fit(df_data )\n",
    "\n",
    "            end = default_timer()\n",
    "\n",
    "            metrics_list_inner.append(km.evaluate(y))\n",
    "            epsVal_list_inner.append(km.epsVal)\n",
    "            centers_list_inner.append(km.cluster_centers)\n",
    "        \n",
    "            time_list_inner.append(end - start)\n",
    "\n",
    "        \n",
    "        time_list.append(np.average(time_list_inner))\n",
    "        metrics_list.append(np.average(metrics_list_inner,axis=0))\n",
    "        epsVal_list.append(np.average(epsVal_list_inner))\n",
    "        centers_list.append(centers_list_inner)\n",
    "\n",
    "\n",
    "        print('Finished running N = %i K = %i and D = %i' %(N,K,D))\n",
    "        print('*'*100)\n",
    "\n",
    "\n",
    "\n",
    "    with open(os.path.join(RESULT_DIR, 'Syn4_'+str(K)+str(D)+'_KM_Avg.pkl'), 'wb') as outp:\n",
    "\n",
    "        pickle.dump(metrics_list, outp, pickle.HIGHEST_PROTOCOL)\n",
    "        pickle.dump(time_list, outp, pickle.HIGHEST_PROTOCOL)\n",
    "        pickle.dump(epsVal_list, outp, pickle.HIGHEST_PROTOCOL)\n",
    "        pickle.dump(centers_list, outp, pickle.HIGHEST_PROTOCOL)\n",
    "\n",
    "\n",
    "\n"
   ]
  },
  {
   "cell_type": "markdown",
   "metadata": {},
   "source": [
    "## KMedian with Kmeans++ init "
   ]
  },
  {
   "cell_type": "code",
   "execution_count": 6,
   "metadata": {},
   "outputs": [
    {
     "name": "stderr",
     "output_type": "stream",
     "text": [
      "  0%|          | 0/3 [00:00<?, ?it/s]"
     ]
    },
    {
     "name": "stdout",
     "output_type": "stream",
     "text": [
      "\n",
      "\n",
      "\n",
      "Starting N = 1000 K = 5 and D = 5\n"
     ]
    },
    {
     "name": "stderr",
     "output_type": "stream",
     "text": []
    },
    {
     "name": "stdout",
     "output_type": "stream",
     "text": [
      "Finished running N = 1000 K = 5 and D = 5\n",
      "****************************************************************************************************\n",
      "\n",
      "\n",
      "\n",
      "Starting N = 3150 K = 5 and D = 5\n"
     ]
    },
    {
     "name": "stderr",
     "output_type": "stream",
     "text": []
    },
    {
     "name": "stdout",
     "output_type": "stream",
     "text": [
      "Finished running N = 3150 K = 5 and D = 5\n",
      "****************************************************************************************************\n",
      "\n",
      "\n",
      "\n",
      "Starting N = 10000 K = 5 and D = 5\n"
     ]
    },
    {
     "name": "stderr",
     "output_type": "stream",
     "text": []
    },
    {
     "name": "stdout",
     "output_type": "stream",
     "text": [
      "Finished running N = 10000 K = 5 and D = 5\n",
      "****************************************************************************************************\n",
      "\n",
      "\n",
      "\n",
      "Starting N = 31500 K = 5 and D = 5\n"
     ]
    },
    {
     "name": "stderr",
     "output_type": "stream",
     "text": []
    },
    {
     "name": "stdout",
     "output_type": "stream",
     "text": [
      "Finished running N = 31500 K = 5 and D = 5\n",
      "****************************************************************************************************\n",
      "\n",
      "\n",
      "\n",
      "Starting N = 100000 K = 5 and D = 5\n"
     ]
    },
    {
     "name": "stderr",
     "output_type": "stream",
     "text": []
    },
    {
     "name": "stdout",
     "output_type": "stream",
     "text": [
      "Finished running N = 100000 K = 5 and D = 5\n",
      "****************************************************************************************************\n",
      "\n",
      "\n",
      "\n",
      "Starting N = 315000 K = 5 and D = 5\n"
     ]
    },
    {
     "name": "stderr",
     "output_type": "stream",
     "text": []
    },
    {
     "name": "stdout",
     "output_type": "stream",
     "text": [
      "Finished running N = 315000 K = 5 and D = 5\n",
      "****************************************************************************************************\n",
      "\n",
      "\n",
      "\n",
      "Starting N = 1000000 K = 5 and D = 5\n"
     ]
    },
    {
     "name": "stderr",
     "output_type": "stream",
     "text": [
      "100%|██████████| 7/7 [04:42<00:00, 40.32s/it]\n",
      " 33%|███▎      | 1/3 [04:42<09:24, 282.27s/it]"
     ]
    },
    {
     "name": "stdout",
     "output_type": "stream",
     "text": [
      "Finished running N = 1000000 K = 5 and D = 5\n",
      "****************************************************************************************************\n"
     ]
    },
    {
     "name": "stderr",
     "output_type": "stream",
     "text": []
    },
    {
     "name": "stdout",
     "output_type": "stream",
     "text": [
      "\n",
      "\n",
      "\n",
      "Starting N = 1000 K = 5 and D = 10\n"
     ]
    },
    {
     "name": "stderr",
     "output_type": "stream",
     "text": []
    },
    {
     "name": "stdout",
     "output_type": "stream",
     "text": [
      "Finished running N = 1000 K = 5 and D = 10\n",
      "****************************************************************************************************\n",
      "\n",
      "\n",
      "\n",
      "Starting N = 3150 K = 5 and D = 10\n"
     ]
    },
    {
     "name": "stderr",
     "output_type": "stream",
     "text": []
    },
    {
     "name": "stdout",
     "output_type": "stream",
     "text": [
      "Finished running N = 3150 K = 5 and D = 10\n",
      "****************************************************************************************************\n",
      "\n",
      "\n",
      "\n",
      "Starting N = 10000 K = 5 and D = 10\n"
     ]
    },
    {
     "name": "stderr",
     "output_type": "stream",
     "text": []
    },
    {
     "name": "stdout",
     "output_type": "stream",
     "text": [
      "Finished running N = 10000 K = 5 and D = 10\n",
      "****************************************************************************************************\n",
      "\n",
      "\n",
      "\n",
      "Starting N = 31500 K = 5 and D = 10\n"
     ]
    },
    {
     "name": "stderr",
     "output_type": "stream",
     "text": []
    },
    {
     "name": "stdout",
     "output_type": "stream",
     "text": [
      "Finished running N = 31500 K = 5 and D = 10\n",
      "****************************************************************************************************\n",
      "\n",
      "\n",
      "\n",
      "Starting N = 100000 K = 5 and D = 10\n"
     ]
    },
    {
     "name": "stderr",
     "output_type": "stream",
     "text": []
    },
    {
     "name": "stdout",
     "output_type": "stream",
     "text": [
      "Finished running N = 100000 K = 5 and D = 10\n",
      "****************************************************************************************************\n",
      "\n",
      "\n",
      "\n",
      "Starting N = 315000 K = 5 and D = 10\n"
     ]
    },
    {
     "name": "stderr",
     "output_type": "stream",
     "text": []
    },
    {
     "name": "stdout",
     "output_type": "stream",
     "text": [
      "Finished running N = 315000 K = 5 and D = 10\n",
      "****************************************************************************************************\n",
      "\n",
      "\n",
      "\n",
      "Starting N = 1000000 K = 5 and D = 10\n"
     ]
    },
    {
     "name": "stderr",
     "output_type": "stream",
     "text": [
      "100%|██████████| 7/7 [05:33<00:00, 47.66s/it]\n",
      " 67%|██████▋   | 2/3 [10:15<05:12, 312.48s/it]"
     ]
    },
    {
     "name": "stdout",
     "output_type": "stream",
     "text": [
      "Finished running N = 1000000 K = 5 and D = 10\n",
      "****************************************************************************************************\n"
     ]
    },
    {
     "name": "stderr",
     "output_type": "stream",
     "text": []
    },
    {
     "name": "stdout",
     "output_type": "stream",
     "text": [
      "\n",
      "\n",
      "\n",
      "Starting N = 1000 K = 5 and D = 15\n"
     ]
    },
    {
     "name": "stderr",
     "output_type": "stream",
     "text": []
    },
    {
     "name": "stdout",
     "output_type": "stream",
     "text": [
      "Finished running N = 1000 K = 5 and D = 15\n",
      "****************************************************************************************************\n",
      "\n",
      "\n",
      "\n",
      "Starting N = 3150 K = 5 and D = 15\n"
     ]
    },
    {
     "name": "stderr",
     "output_type": "stream",
     "text": []
    },
    {
     "name": "stdout",
     "output_type": "stream",
     "text": [
      "Finished running N = 3150 K = 5 and D = 15\n",
      "****************************************************************************************************\n",
      "\n",
      "\n",
      "\n",
      "Starting N = 10000 K = 5 and D = 15\n"
     ]
    },
    {
     "name": "stderr",
     "output_type": "stream",
     "text": []
    },
    {
     "name": "stdout",
     "output_type": "stream",
     "text": [
      "Finished running N = 10000 K = 5 and D = 15\n",
      "****************************************************************************************************\n",
      "\n",
      "\n",
      "\n",
      "Starting N = 31500 K = 5 and D = 15\n"
     ]
    },
    {
     "name": "stderr",
     "output_type": "stream",
     "text": []
    },
    {
     "name": "stdout",
     "output_type": "stream",
     "text": [
      "Finished running N = 31500 K = 5 and D = 15\n",
      "****************************************************************************************************\n",
      "\n",
      "\n",
      "\n",
      "Starting N = 100000 K = 5 and D = 15\n"
     ]
    },
    {
     "name": "stderr",
     "output_type": "stream",
     "text": []
    },
    {
     "name": "stdout",
     "output_type": "stream",
     "text": [
      "Finished running N = 100000 K = 5 and D = 15\n",
      "****************************************************************************************************\n",
      "\n",
      "\n",
      "\n",
      "Starting N = 315000 K = 5 and D = 15\n"
     ]
    },
    {
     "name": "stderr",
     "output_type": "stream",
     "text": []
    },
    {
     "name": "stdout",
     "output_type": "stream",
     "text": [
      "Finished running N = 315000 K = 5 and D = 15\n",
      "****************************************************************************************************\n",
      "\n",
      "\n",
      "\n",
      "Starting N = 1000000 K = 5 and D = 15\n"
     ]
    },
    {
     "name": "stderr",
     "output_type": "stream",
     "text": [
      "100%|██████████| 7/7 [06:39<00:00, 57.05s/it] \n",
      "100%|██████████| 3/3 [16:55<00:00, 338.41s/it]"
     ]
    },
    {
     "name": "stdout",
     "output_type": "stream",
     "text": [
      "Finished running N = 1000000 K = 5 and D = 15\n",
      "****************************************************************************************************\n"
     ]
    },
    {
     "name": "stderr",
     "output_type": "stream",
     "text": [
      "\n"
     ]
    }
   ],
   "source": [
    "N_list = [1000, 3150, 10000, 31500, 100000, 315000, 1000000]\n",
    "\n",
    "K_list = [5, 5,5,]# 10,10, 15]\n",
    "D_list = [5,10,15,]# 10,15, 15] \n",
    "\n",
    "box = 500\n",
    "seed = 65\n",
    "\n",
    "cnt = 0\n",
    "\n",
    "for i, D in enumerate(tqdm(D_list)):\n",
    "\n",
    "\n",
    "    time_list = []\n",
    "    metrics_list = []\n",
    "    epsVal_list = []\n",
    "\n",
    "    centers_list = []\n",
    "\n",
    "    obj_list = []\n",
    "\n",
    "\n",
    "    K = K_list[i]\n",
    "    \n",
    "    for N in tqdm(N_list):\n",
    "        print('\\n\\n\\nStarting N = %i K = %i and D = %i' %(N,K,D))\n",
    "\n",
    "        df_data, X,y = Blobs_Anisotropic(N,D,K,box, seed)\n",
    "\n",
    "        metrics_list_inner = []\n",
    "        time_list_inner = []\n",
    "        epsVal_list_inner = []\n",
    "        centers_list_inner = []\n",
    "\n",
    "        for j in range(10):\n",
    "            \n",
    "            km = UnsupervisedClustering(K =K)\n",
    "            km.set_model(KMedian_Plus())\n",
    "\n",
    "            start = default_timer()\n",
    "            km.fit(df_data )\n",
    "\n",
    "            end = default_timer()\n",
    "\n",
    "            metrics_list_inner.append(km.evaluate(y))\n",
    "            epsVal_list_inner.append(km.epsVal)\n",
    "            centers_list_inner.append(km.cluster_centers)\n",
    "        \n",
    "            time_list_inner.append(end - start)\n",
    "\n",
    "        \n",
    "        time_list.append(np.average(time_list_inner))\n",
    "        metrics_list.append(np.average(metrics_list_inner,axis=0))\n",
    "        epsVal_list.append(np.average(epsVal_list_inner))\n",
    "        centers_list.append(centers_list_inner)\n",
    "\n",
    "\n",
    "        print('Finished running N = %i K = %i and D = %i' %(N,K,D))\n",
    "        print('*'*100)\n",
    "\n",
    "\n",
    "\n",
    "    with open(os.path.join(RESULT_DIR, 'Syn4_'+str(K)+str(D)+'_KMPlus_Avg.pkl'), 'wb') as outp:\n",
    "\n",
    "        pickle.dump(metrics_list, outp, pickle.HIGHEST_PROTOCOL)\n",
    "        pickle.dump(time_list, outp, pickle.HIGHEST_PROTOCOL)\n",
    "        pickle.dump(epsVal_list, outp, pickle.HIGHEST_PROTOCOL)\n",
    "        pickle.dump(centers_list, outp, pickle.HIGHEST_PROTOCOL)\n",
    "\n",
    "\n",
    "\n"
   ]
  },
  {
   "cell_type": "markdown",
   "metadata": {},
   "source": [
    "## Plot to compare k-means, k-means++ and k-MinMax for the Norm Dataset"
   ]
  },
  {
   "cell_type": "code",
   "execution_count": 8,
   "metadata": {},
   "outputs": [],
   "source": [
    "N_list = [1000, 3150, 10000, 31500, 100000, 315000, 1000000]\n",
    "\n",
    "K_list = [5, 5, 5,] #10, 10, 15]\n",
    "D_list = [5, 10, 15,]# 10, 15, 15] \n",
    "\n",
    "\n"
   ]
  },
  {
   "cell_type": "code",
   "execution_count": 9,
   "metadata": {},
   "outputs": [],
   "source": [
    "\n",
    "def extractData(K,D,N_list ):\n",
    "\n",
    "    df_ARI = pd.DataFrame(N_list, columns=['N'])\n",
    "    df_time = pd.DataFrame(N_list, columns=['N'])\n",
    "    df_constr = pd.DataFrame(N_list, columns=['N'])\n",
    "    df_epsVal = pd.DataFrame(N_list, columns=['N'])\n",
    "\n",
    "\n",
    "\n",
    "    cols = ['kmed', 'kc-Gon', 'kc-GonAvg', 'kc-HS', 'kc-Opt']\n",
    "    #cols = ['kc-Gon', 'kc-GonAvg', 'kc-HS', 'km++', 'Opt-Cg']\n",
    "\n",
    "    datasets = ['KMplus_Avg', 'KC_Gon', 'KC_GonAvg', 'KC_HS', 'MM']\n",
    "    #datasets = ['KC_Gon', 'KC_GonAvg', 'KC_HS','KMplus_Avg', 'MM']\n",
    "\n",
    "    for i, model in enumerate(datasets):\n",
    "\n",
    "        if model == 'MM':\n",
    "\n",
    "            with open(os.path.join(RESULT_DIR, 'Syn4_'+str(K)+str(D)+'_' + str(model)+'.pkl'), 'rb') as inp:\n",
    "\n",
    "                metrics_list = pickle.load(inp)\n",
    "                time_list = pickle.load(inp)\n",
    "                constrsCnt_list = pickle.load(inp)             \n",
    "                optgap_list = pickle.load(inp)\n",
    "                epsVal_list = pickle.load(inp)\n",
    "                optVal_list = pickle.load(inp)\n",
    "                centers_list = pickle.load(inp)\n",
    "                \n",
    "\n",
    "            df_ARI[cols[i]] = np.array(metrics_list)[:,2]\n",
    "            df_time[cols[i]] = time_list\n",
    "            df_constr[cols[i]] = constrsCnt_list\n",
    "            df_epsVal[cols[i]] = epsVal_list\n",
    "\n",
    "\n",
    "        else :\n",
    "\n",
    "            with open(os.path.join(RESULT_DIR, 'Syn4_'+str(K)+str(D)+'_' + str(model) + '.pkl'), 'rb') as inp:\n",
    "\n",
    "                metrics_list = pickle.load(inp)\n",
    "                time_list = pickle.load(inp)\n",
    "                epsVal_list = pickle.load(inp)\n",
    "                centers_list = pickle.load(inp)\n",
    "\n",
    "            df_ARI[cols[i]] = np.array(metrics_list)[:,2]\n",
    "            df_time[cols[i]] = time_list\n",
    "            df_epsVal[cols[i]] = epsVal_list\n",
    "\n",
    "    return df_ARI, df_time, df_constr, df_epsVal\n"
   ]
  },
  {
   "cell_type": "code",
   "execution_count": 10,
   "metadata": {},
   "outputs": [],
   "source": [
    "col = [ 'tab:green','tab:blue',\n",
    "'tab:orange',\n",
    "\n",
    "'tab:red',\n",
    "'tab:purple',\n",
    "'tab:brown',\n",
    "'tab:pink',\n",
    "'tab:gray',\n",
    "'tab:olive',\n",
    "'tab:cyan']\n",
    "\n",
    "\n",
    "markers = [ \"v\", \"<\", \"D\",\"o\",  \"^\", \"s\", \"P\"]"
   ]
  },
  {
   "cell_type": "code",
   "execution_count": 5,
   "metadata": {},
   "outputs": [],
   "source": [
    "plt.style.use('default')\n"
   ]
  },
  {
   "cell_type": "code",
   "execution_count": 11,
   "metadata": {},
   "outputs": [],
   "source": [
    "# plt.rcParams.update({'font.size': 12})\n",
    "plt.rcParams.update({'font.size': 20})\n",
    "\n"
   ]
  },
  {
   "cell_type": "code",
   "execution_count": 87,
   "metadata": {},
   "outputs": [],
   "source": [
    "#df_epsVal"
   ]
  },
  {
   "cell_type": "code",
   "execution_count": 13,
   "metadata": {},
   "outputs": [
    {
     "data": {
      "application/vnd.jupyter.widget-view+json": {
       "model_id": "dc6c91f3c82e4ac0b8edeac9f8f02eb1",
       "version_major": 2,
       "version_minor": 0
      },
      "text/plain": [
       "  0%|          | 0/3 [00:00<?, ?it/s]"
      ]
     },
     "metadata": {},
     "output_type": "display_data"
    },
    {
     "name": "stdout",
     "output_type": "stream",
     "text": [
      "         N       kmed     kc-Gon  kc-GonAvg      kc-HS     kc-Opt\n",
      "0     1000  17.188852  27.113945  22.342350  20.115477  13.229136\n",
      "1     3150  16.689423  27.218963  25.472717  20.395808  13.400227\n",
      "2    10000  18.908663  25.648707  30.440249  21.590764  15.590895\n",
      "3    31500  19.973887  30.600925  31.046288  26.435638  16.049355\n",
      "4   100000  22.540886  34.758475  31.212432  23.766592  17.797481\n",
      "5   315000  20.610989  32.446608  35.138225  25.256294  17.902395\n",
      "6  1000000  22.577680  34.628466  34.743729  23.311111  18.745143\n",
      "         N       kmed     kc-Gon  kc-GonAvg      kc-HS     kc-Opt\n",
      "0     1000  25.332897  41.411927  35.500111  30.634417  20.011127\n",
      "1     3150  30.015784  36.885668  37.768807  29.329041  21.829897\n",
      "2    10000  30.286044  43.536254  38.666839  32.855297  22.657811\n",
      "3    31500  33.922096  45.828396  42.014539  33.327657  24.103274\n",
      "4   100000  34.056950  47.985472  44.682734  38.328480  25.267460\n",
      "5   315000  35.811093  48.724396  46.823320  35.521050  26.637688\n",
      "6  1000000  32.641787  53.628297  50.693407  36.530839  28.302099\n",
      "         N       kmed     kc-Gon  kc-GonAvg      kc-HS     kc-Opt\n",
      "0     1000  37.962917  46.449700  47.545984  39.693974  26.266850\n",
      "1     3150  40.498317  48.341046  51.500883  42.216998  29.918952\n",
      "2    10000  42.239230  51.664811  53.082269  42.616905  30.278231\n",
      "3    31500  42.309092  54.518325  56.672740  44.986711  32.323010\n",
      "4   100000  49.414680  57.100775  57.309087  48.056922  34.537847\n",
      "5   315000  45.469101  63.746362  62.014096  54.220452  35.247242\n",
      "6  1000000  51.584283  60.896179  64.940080  54.607239  37.257072\n"
     ]
    },
    {
     "data": {
      "image/png": "[encoded data removed]",
      "text/plain": [
       "<Figure size 1300x470 with 3 Axes>"
      ]
     },
     "metadata": {},
     "output_type": "display_data"
    }
   ],
   "source": [
    "\n",
    "fig, ax = plt.subplots(1, 3, figsize = (13,4.7), sharey = True)\n",
    "\n",
    "N_list = [1000, 3150, 10000, 31500, 100000, 315000, 1000000]\n",
    "\n",
    "K_list = [5 ,5,5]\n",
    "D_list = [5 , 10, 15,]# 10, 15 , 15] \n",
    "\n",
    "for i, K in enumerate(tqdm(K_list)):\n",
    "    \n",
    "\n",
    "\n",
    "    D = D_list[i]\n",
    "\n",
    "    df_ARI, _,_, df_epsVal = extractData(K,D,N_list )\n",
    "\n",
    "    print(df_epsVal)\n",
    "\n",
    "\n",
    "    # omitted k-medians\n",
    "    cols = ['kmed', 'kc-Gon', 'kc-GonAvg', 'kc-HS', 'kc-Opt']\n",
    "    # cols = ['kc-Gon', 'kc-GonAvg', 'kc-HS', 'km', 'km++', 'Opt-Cg']\n",
    "    \n",
    "\n",
    "    for j, model in enumerate(cols):\n",
    "\n",
    "        # df_ARI.plot(x = 'N', y = model, marker = markers[j], fillstyle = 'none', color=col[j], ax = ax[i], markersize = 10, alpha = 0.9, linewidth = 2,legend = False,)\n",
    "        df_epsVal.plot(x = 'N', y = model, marker = markers[j], fillstyle = 'none', color=col[j], ax = ax[i], markersize = 10, alpha = 0.9, linewidth = 2,legend = False,)\n",
    "\n",
    "\n",
    "    # ax[i].set_ylabel('ARI')\n",
    "    # ax[i].set_ylabel('Eps Val')\n",
    "    ax[i].set_ylabel('Objective value ('+r'$\\varepsilon$'+')')\n",
    "\n",
    "\n",
    "    ax[i].set_xlabel('n')\n",
    "\n",
    "    ax[i].grid(True,linestyle = ':')\n",
    "    ax[i].set_xscale(\"log\")\n",
    "    # ax[i].set_title('\\n\\nNorm (k: '+str(K)+', d: '+str(D)+')')\n",
    "    ax[i].set_title('\\n\\n (k: '+str(K)+', d: '+str(D)+')')\n",
    "\n",
    "    ax[i].tick_params(axis='both', which='major', labelsize=14)   \n",
    "    ax[i].set_xticks([1000, 10000, 100000, 1000000])\n",
    "    # ax[i].set_yticks([0.6,0.7, 0.8, 0.9, 1])\n",
    "\n",
    "\n",
    "fig.tight_layout()\n",
    "\n",
    "\n",
    "plt.subplots_adjust(wspace=0.17)\n",
    "\n",
    "handles, labels = ax[0].get_legend_handles_labels()\n",
    "fig.legend(handles, labels , loc='upper center', mode = 'False', ncol=len(df_ARI.columns), fontsize = 19, markerscale = 1.5)\n",
    "# fig.title('\\n\\n'9\n",
    "plt.savefig(f'{RESULT_DIR}/aniso_supp.pdf', bbox_inches = 'tight')\n",
    "\n",
    "\n",
    "plt.show()"
   ]
  }
 ],
 "metadata": {
  "kernelspec": {
   "display_name": "Python 3.8.8 ('clusters')",
   "language": "python",
   "name": "python3"
  },
  "language_info": {
   "codemirror_mode": {
    "name": "ipython",
    "version": 3
   },
   "file_extension": ".py",
   "mimetype": "text/x-python",
   "name": "python",
   "nbconvert_exporter": "python",
   "pygments_lexer": "ipython3",
   "version": "3.8.8"
  },
  "orig_nbformat": 2,
  "vscode": {
   "interpreter": {
    "hash": "2abad61f7d39db8d14dcada4399df2b11c548ab96692e387d799b00c2fc80e57"
   }
  }
 },
 "nbformat": 4,
 "nbformat_minor": 2
}
