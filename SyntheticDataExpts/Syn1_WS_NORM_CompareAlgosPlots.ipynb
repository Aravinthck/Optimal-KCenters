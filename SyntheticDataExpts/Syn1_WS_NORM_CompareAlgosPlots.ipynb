{
 "cells": [
  {
   "cell_type": "markdown",
   "metadata": {},
   "source": [
    "## Generate results for baselines with Norm dataset with plots\n"
   ]
  },
  {
   "cell_type": "code",
   "execution_count": 1,
   "metadata": {},
   "outputs": [],
   "source": [
    "\n",
    "import sys\n",
    "import os\n",
    "sys.path.append('../')\n",
    "from Codes.model import *\n",
    "from Codes.utils import *\n",
    "plt.style.use('default')\n",
    "\n",
    "from tqdm import tqdm\n",
    "import pickle\n",
    "RESULT_DIR = \"../../ExptsPaper\"\n",
    "from timeit import default_timer\n",
    "from sklearn.datasets import make_blobs\n",
    "\n",
    "\n"
   ]
  },
  {
   "cell_type": "code",
   "execution_count": 2,
   "metadata": {},
   "outputs": [],
   "source": [
    "\n",
    "def Blobs(N,D,K,box,seed):\n",
    "\n",
    "    generator = np.random.RandomState(seed)\n",
    "    center_box = [0,box]\n",
    "\n",
    "    centers = generator.uniform(center_box[0], center_box[1], size=(K, D))\n",
    "\n",
    "    X, y = make_blobs(n_samples=N, centers=centers, n_features=D, cluster_std = 1,\n",
    "                    random_state=seed)\n",
    "\n",
    "    cols = [ 'X' + str(i+1) for i in range(D) ]\n",
    "    df_data = pd.DataFrame(X, columns = cols)\n",
    "\n",
    "        \n",
    "    return df_data, X,y\n",
    "\n",
    "\n"
   ]
  },
  {
   "cell_type": "markdown",
   "metadata": {},
   "source": [
    "## k = 5, 5, 5, 10, 10, 15;  d = 5, 5, 5, 10, 10, 15\n",
    "\n"
   ]
  },
  {
   "cell_type": "markdown",
   "metadata": {},
   "source": [
    "## KCenters Gonzalez "
   ]
  },
  {
   "cell_type": "code",
   "execution_count": 3,
   "metadata": {},
   "outputs": [
    {
     "name": "stderr",
     "output_type": "stream",
     "text": [
      "  0%|          | 0/6 [00:00<?, ?it/s]"
     ]
    },
    {
     "name": "stdout",
     "output_type": "stream",
     "text": [
      "\n",
      "\n",
      "\n",
      "Starting N = 1000 K = 5 and D = 5\n",
      "Finished running N = 1000 K = 5 and D = 5\n",
      "****************************************************************************************************\n",
      "\n",
      "\n",
      "\n",
      "Starting N = 3150 K = 5 and D = 5\n"
     ]
    },
    {
     "name": "stderr",
     "output_type": "stream",
     "text": []
    },
    {
     "name": "stdout",
     "output_type": "stream",
     "text": [
      "Finished running N = 3150 K = 5 and D = 5\n",
      "****************************************************************************************************\n",
      "\n",
      "\n",
      "\n",
      "Starting N = 10000 K = 5 and D = 5\n"
     ]
    },
    {
     "name": "stderr",
     "output_type": "stream",
     "text": []
    },
    {
     "name": "stdout",
     "output_type": "stream",
     "text": [
      "Finished running N = 10000 K = 5 and D = 5\n",
      "****************************************************************************************************\n",
      "\n",
      "\n",
      "\n",
      "Starting N = 31500 K = 5 and D = 5\n"
     ]
    },
    {
     "name": "stderr",
     "output_type": "stream",
     "text": []
    },
    {
     "name": "stdout",
     "output_type": "stream",
     "text": [
      "Finished running N = 31500 K = 5 and D = 5\n",
      "****************************************************************************************************\n",
      "\n",
      "\n",
      "\n",
      "Starting N = 100000 K = 5 and D = 5\n"
     ]
    },
    {
     "name": "stderr",
     "output_type": "stream",
     "text": []
    },
    {
     "name": "stdout",
     "output_type": "stream",
     "text": [
      "Finished running N = 100000 K = 5 and D = 5\n",
      "****************************************************************************************************\n",
      "\n",
      "\n",
      "\n",
      "Starting N = 315000 K = 5 and D = 5\n"
     ]
    },
    {
     "name": "stderr",
     "output_type": "stream",
     "text": []
    },
    {
     "name": "stdout",
     "output_type": "stream",
     "text": [
      "Finished running N = 315000 K = 5 and D = 5\n",
      "****************************************************************************************************\n",
      "\n",
      "\n",
      "\n",
      "Starting N = 1000000 K = 5 and D = 5\n"
     ]
    },
    {
     "name": "stderr",
     "output_type": "stream",
     "text": [
      "100%|██████████| 7/7 [01:23<00:00, 11.97s/it]\n",
      " 17%|█▋        | 1/6 [01:23<06:59, 83.83s/it]"
     ]
    },
    {
     "name": "stdout",
     "output_type": "stream",
     "text": [
      "Finished running N = 1000000 K = 5 and D = 5\n",
      "****************************************************************************************************\n",
      "\n",
      "\n",
      "\n",
      "Starting N = 1000 K = 5 and D = 10\n",
      "Finished running N = 1000 K = 5 and D = 10\n",
      "****************************************************************************************************\n",
      "\n",
      "\n",
      "\n",
      "Starting N = 3150 K = 5 and D = 10\n"
     ]
    },
    {
     "name": "stderr",
     "output_type": "stream",
     "text": []
    },
    {
     "name": "stdout",
     "output_type": "stream",
     "text": [
      "Finished running N = 3150 K = 5 and D = 10\n",
      "****************************************************************************************************\n",
      "\n",
      "\n",
      "\n",
      "Starting N = 10000 K = 5 and D = 10\n"
     ]
    },
    {
     "name": "stderr",
     "output_type": "stream",
     "text": []
    },
    {
     "name": "stdout",
     "output_type": "stream",
     "text": [
      "Finished running N = 10000 K = 5 and D = 10\n",
      "****************************************************************************************************\n",
      "\n",
      "\n",
      "\n",
      "Starting N = 31500 K = 5 and D = 10\n"
     ]
    },
    {
     "name": "stderr",
     "output_type": "stream",
     "text": []
    },
    {
     "name": "stdout",
     "output_type": "stream",
     "text": [
      "Finished running N = 31500 K = 5 and D = 10\n",
      "****************************************************************************************************\n",
      "\n",
      "\n",
      "\n",
      "Starting N = 100000 K = 5 and D = 10\n"
     ]
    },
    {
     "name": "stderr",
     "output_type": "stream",
     "text": []
    },
    {
     "name": "stdout",
     "output_type": "stream",
     "text": [
      "Finished running N = 100000 K = 5 and D = 10\n",
      "****************************************************************************************************\n",
      "\n",
      "\n",
      "\n",
      "Starting N = 315000 K = 5 and D = 10\n"
     ]
    },
    {
     "name": "stderr",
     "output_type": "stream",
     "text": []
    },
    {
     "name": "stdout",
     "output_type": "stream",
     "text": [
      "Finished running N = 315000 K = 5 and D = 10\n",
      "****************************************************************************************************\n",
      "\n",
      "\n",
      "\n",
      "Starting N = 1000000 K = 5 and D = 10\n"
     ]
    },
    {
     "name": "stderr",
     "output_type": "stream",
     "text": [
      "100%|██████████| 7/7 [01:22<00:00, 11.85s/it]\n",
      " 33%|███▎      | 2/6 [02:46<05:33, 83.30s/it]"
     ]
    },
    {
     "name": "stdout",
     "output_type": "stream",
     "text": [
      "Finished running N = 1000000 K = 5 and D = 10\n",
      "****************************************************************************************************\n",
      "\n",
      "\n",
      "\n",
      "Starting N = 1000 K = 5 and D = 15\n",
      "Finished running N = 1000 K = 5 and D = 15\n",
      "****************************************************************************************************\n",
      "\n",
      "\n",
      "\n",
      "Starting N = 3150 K = 5 and D = 15\n"
     ]
    },
    {
     "name": "stderr",
     "output_type": "stream",
     "text": []
    },
    {
     "name": "stdout",
     "output_type": "stream",
     "text": [
      "Finished running N = 3150 K = 5 and D = 15\n",
      "****************************************************************************************************\n",
      "\n",
      "\n",
      "\n",
      "Starting N = 10000 K = 5 and D = 15\n"
     ]
    },
    {
     "name": "stderr",
     "output_type": "stream",
     "text": []
    },
    {
     "name": "stdout",
     "output_type": "stream",
     "text": [
      "Finished running N = 10000 K = 5 and D = 15\n",
      "****************************************************************************************************\n",
      "\n",
      "\n",
      "\n",
      "Starting N = 31500 K = 5 and D = 15\n"
     ]
    },
    {
     "name": "stderr",
     "output_type": "stream",
     "text": []
    },
    {
     "name": "stdout",
     "output_type": "stream",
     "text": [
      "Finished running N = 31500 K = 5 and D = 15\n",
      "****************************************************************************************************\n",
      "\n",
      "\n",
      "\n",
      "Starting N = 100000 K = 5 and D = 15\n"
     ]
    },
    {
     "name": "stderr",
     "output_type": "stream",
     "text": []
    },
    {
     "name": "stdout",
     "output_type": "stream",
     "text": [
      "Finished running N = 100000 K = 5 and D = 15\n",
      "****************************************************************************************************\n",
      "\n",
      "\n",
      "\n",
      "Starting N = 315000 K = 5 and D = 15\n"
     ]
    },
    {
     "name": "stderr",
     "output_type": "stream",
     "text": []
    },
    {
     "name": "stdout",
     "output_type": "stream",
     "text": [
      "Finished running N = 315000 K = 5 and D = 15\n",
      "****************************************************************************************************\n",
      "\n",
      "\n",
      "\n",
      "Starting N = 1000000 K = 5 and D = 15\n"
     ]
    },
    {
     "name": "stderr",
     "output_type": "stream",
     "text": [
      "100%|██████████| 7/7 [01:24<00:00, 12.12s/it]\n",
      " 50%|█████     | 3/6 [04:11<04:12, 84.01s/it]"
     ]
    },
    {
     "name": "stdout",
     "output_type": "stream",
     "text": [
      "Finished running N = 1000000 K = 5 and D = 15\n",
      "****************************************************************************************************\n",
      "\n",
      "\n",
      "\n",
      "Starting N = 1000 K = 10 and D = 10\n",
      "Finished running N = 1000 K = 10 and D = 10\n",
      "****************************************************************************************************\n",
      "\n",
      "\n",
      "\n",
      "Starting N = 3150 K = 10 and D = 10\n"
     ]
    },
    {
     "name": "stderr",
     "output_type": "stream",
     "text": []
    },
    {
     "name": "stdout",
     "output_type": "stream",
     "text": [
      "Finished running N = 3150 K = 10 and D = 10\n",
      "****************************************************************************************************\n",
      "\n",
      "\n",
      "\n",
      "Starting N = 10000 K = 10 and D = 10\n"
     ]
    },
    {
     "name": "stderr",
     "output_type": "stream",
     "text": []
    },
    {
     "name": "stdout",
     "output_type": "stream",
     "text": [
      "Finished running N = 10000 K = 10 and D = 10\n",
      "****************************************************************************************************\n",
      "\n",
      "\n",
      "\n",
      "Starting N = 31500 K = 10 and D = 10\n"
     ]
    },
    {
     "name": "stderr",
     "output_type": "stream",
     "text": []
    },
    {
     "name": "stdout",
     "output_type": "stream",
     "text": [
      "Finished running N = 31500 K = 10 and D = 10\n",
      "****************************************************************************************************\n",
      "\n",
      "\n",
      "\n",
      "Starting N = 100000 K = 10 and D = 10\n"
     ]
    },
    {
     "name": "stderr",
     "output_type": "stream",
     "text": []
    },
    {
     "name": "stdout",
     "output_type": "stream",
     "text": [
      "Finished running N = 100000 K = 10 and D = 10\n",
      "****************************************************************************************************\n",
      "\n",
      "\n",
      "\n",
      "Starting N = 315000 K = 10 and D = 10\n"
     ]
    },
    {
     "name": "stderr",
     "output_type": "stream",
     "text": []
    },
    {
     "name": "stdout",
     "output_type": "stream",
     "text": [
      "Finished running N = 315000 K = 10 and D = 10\n",
      "****************************************************************************************************\n",
      "\n",
      "\n",
      "\n",
      "Starting N = 1000000 K = 10 and D = 10\n"
     ]
    },
    {
     "name": "stderr",
     "output_type": "stream",
     "text": [
      "100%|██████████| 7/7 [01:25<00:00, 12.18s/it]\n",
      " 67%|██████▋   | 4/6 [05:36<02:48, 84.49s/it]"
     ]
    },
    {
     "name": "stdout",
     "output_type": "stream",
     "text": [
      "Finished running N = 1000000 K = 10 and D = 10\n",
      "****************************************************************************************************\n",
      "\n",
      "\n",
      "\n",
      "Starting N = 1000 K = 10 and D = 15\n",
      "Finished running N = 1000 K = 10 and D = 15\n",
      "****************************************************************************************************\n",
      "\n",
      "\n",
      "\n",
      "Starting N = 3150 K = 10 and D = 15\n"
     ]
    },
    {
     "name": "stderr",
     "output_type": "stream",
     "text": []
    },
    {
     "name": "stdout",
     "output_type": "stream",
     "text": [
      "Finished running N = 3150 K = 10 and D = 15\n",
      "****************************************************************************************************\n",
      "\n",
      "\n",
      "\n",
      "Starting N = 10000 K = 10 and D = 15\n"
     ]
    },
    {
     "name": "stderr",
     "output_type": "stream",
     "text": []
    },
    {
     "name": "stdout",
     "output_type": "stream",
     "text": [
      "Finished running N = 10000 K = 10 and D = 15\n",
      "****************************************************************************************************\n",
      "\n",
      "\n",
      "\n",
      "Starting N = 31500 K = 10 and D = 15\n"
     ]
    },
    {
     "name": "stderr",
     "output_type": "stream",
     "text": []
    },
    {
     "name": "stdout",
     "output_type": "stream",
     "text": [
      "Finished running N = 31500 K = 10 and D = 15\n",
      "****************************************************************************************************\n",
      "\n",
      "\n",
      "\n",
      "Starting N = 100000 K = 10 and D = 15\n"
     ]
    },
    {
     "name": "stderr",
     "output_type": "stream",
     "text": []
    },
    {
     "name": "stdout",
     "output_type": "stream",
     "text": [
      "Finished running N = 100000 K = 10 and D = 15\n",
      "****************************************************************************************************\n",
      "\n",
      "\n",
      "\n",
      "Starting N = 315000 K = 10 and D = 15\n"
     ]
    },
    {
     "name": "stderr",
     "output_type": "stream",
     "text": []
    },
    {
     "name": "stdout",
     "output_type": "stream",
     "text": [
      "Finished running N = 315000 K = 10 and D = 15\n",
      "****************************************************************************************************\n",
      "\n",
      "\n",
      "\n",
      "Starting N = 1000000 K = 10 and D = 15\n"
     ]
    },
    {
     "name": "stderr",
     "output_type": "stream",
     "text": [
      "100%|██████████| 7/7 [01:26<00:00, 12.29s/it]\n",
      " 83%|████████▎ | 5/6 [07:02<01:25, 85.05s/it]"
     ]
    },
    {
     "name": "stdout",
     "output_type": "stream",
     "text": [
      "Finished running N = 1000000 K = 10 and D = 15\n",
      "****************************************************************************************************\n",
      "\n",
      "\n",
      "\n",
      "Starting N = 1000 K = 15 and D = 15\n",
      "Finished running N = 1000 K = 15 and D = 15\n",
      "****************************************************************************************************\n",
      "\n",
      "\n",
      "\n",
      "Starting N = 3150 K = 15 and D = 15\n"
     ]
    },
    {
     "name": "stderr",
     "output_type": "stream",
     "text": []
    },
    {
     "name": "stdout",
     "output_type": "stream",
     "text": [
      "Finished running N = 3150 K = 15 and D = 15\n",
      "****************************************************************************************************\n",
      "\n",
      "\n",
      "\n",
      "Starting N = 10000 K = 15 and D = 15\n"
     ]
    },
    {
     "name": "stderr",
     "output_type": "stream",
     "text": []
    },
    {
     "name": "stdout",
     "output_type": "stream",
     "text": [
      "Finished running N = 10000 K = 15 and D = 15\n",
      "****************************************************************************************************\n",
      "\n",
      "\n",
      "\n",
      "Starting N = 31500 K = 15 and D = 15\n"
     ]
    },
    {
     "name": "stderr",
     "output_type": "stream",
     "text": []
    },
    {
     "name": "stdout",
     "output_type": "stream",
     "text": [
      "Finished running N = 31500 K = 15 and D = 15\n",
      "****************************************************************************************************\n",
      "\n",
      "\n",
      "\n",
      "Starting N = 100000 K = 15 and D = 15\n"
     ]
    },
    {
     "name": "stderr",
     "output_type": "stream",
     "text": []
    },
    {
     "name": "stdout",
     "output_type": "stream",
     "text": [
      "Finished running N = 100000 K = 15 and D = 15\n",
      "****************************************************************************************************\n",
      "\n",
      "\n",
      "\n",
      "Starting N = 315000 K = 15 and D = 15\n"
     ]
    },
    {
     "name": "stderr",
     "output_type": "stream",
     "text": []
    },
    {
     "name": "stdout",
     "output_type": "stream",
     "text": [
      "Finished running N = 315000 K = 15 and D = 15\n",
      "****************************************************************************************************\n",
      "\n",
      "\n",
      "\n",
      "Starting N = 1000000 K = 15 and D = 15\n"
     ]
    },
    {
     "name": "stderr",
     "output_type": "stream",
     "text": [
      "100%|██████████| 7/7 [01:28<00:00, 12.58s/it]\n",
      "100%|██████████| 6/6 [08:30<00:00, 85.16s/it]"
     ]
    },
    {
     "name": "stdout",
     "output_type": "stream",
     "text": [
      "Finished running N = 1000000 K = 15 and D = 15\n",
      "****************************************************************************************************\n"
     ]
    },
    {
     "name": "stderr",
     "output_type": "stream",
     "text": [
      "\n"
     ]
    }
   ],
   "source": [
    "N_list = [1000, 3150, 10000, 31500, 100000, 315000, 1000000]\n",
    "# N_list = [1000,3150]\n",
    "K_list = [5, 5,5, 10,10, 15]\n",
    "D_list = [5,10,15, 10,15, 15] \n",
    "\n",
    "box = 500\n",
    "seed = 60\n",
    "\n",
    "for i, D in enumerate(tqdm(D_list)):\n",
    "\n",
    "\n",
    "    time_list = []\n",
    "    metrics_list = []\n",
    "    epsVal_list = []\n",
    "\n",
    "    centers_list = []\n",
    "\n",
    "    obj_list = []\n",
    "\n",
    "\n",
    "    K = K_list[i]\n",
    "    \n",
    "    for N in tqdm(N_list):\n",
    "        print('\\n\\n\\nStarting N = %i K = %i and D = %i' %(N,K,D))\n",
    "\n",
    "        df_data, X,y = Blobs(N,D,K,box, seed)\n",
    "       \n",
    "        kc_Gon = UnsupervisedClustering(K =K)\n",
    "        kc_Gon.set_model(KCenters_Gon())\n",
    "\n",
    "        start = default_timer()\n",
    "        kc_Gon.fit(df_data )\n",
    "\n",
    "        end = default_timer()\n",
    "        metrics_list.append(kc_Gon.evaluate(y))\n",
    "        epsVal_list.append(kc_Gon.epsVal)\n",
    "        centers_list.append(kc_Gon.cluster_centers)\n",
    "    \n",
    "        time_list.append(end - start)\n",
    "\n",
    "        print('Finished running N = %i K = %i and D = %i' %(N,K,D))\n",
    "        print('*'*100)\n",
    "\n",
    "\n",
    "\n",
    "    with open(os.path.join(RESULT_DIR, 'Syn1_1_'+str(K)+str(D)+'_KC_Gon.pkl'), 'wb') as outp:\n",
    "\n",
    "        pickle.dump(metrics_list, outp, pickle.HIGHEST_PROTOCOL)\n",
    "        pickle.dump(time_list, outp, pickle.HIGHEST_PROTOCOL)\n",
    "        pickle.dump(epsVal_list, outp, pickle.HIGHEST_PROTOCOL)\n",
    "        pickle.dump(centers_list, outp, pickle.HIGHEST_PROTOCOL)\n",
    "\n",
    "\n",
    "\n"
   ]
  },
  {
   "cell_type": "markdown",
   "metadata": {},
   "source": [
    "## KCenters Gonzalez - Average "
   ]
  },
  {
   "cell_type": "code",
   "execution_count": 5,
   "metadata": {},
   "outputs": [
    {
     "name": "stderr",
     "output_type": "stream",
     "text": [
      "  0%|          | 0/6 [00:00<?, ?it/s]"
     ]
    },
    {
     "name": "stdout",
     "output_type": "stream",
     "text": [
      "\n",
      "\n",
      "\n",
      "Starting N = 1000 K = 5 and D = 5\n"
     ]
    },
    {
     "name": "stderr",
     "output_type": "stream",
     "text": []
    },
    {
     "name": "stdout",
     "output_type": "stream",
     "text": [
      "Finished running N = 1000 K = 5 and D = 5\n",
      "****************************************************************************************************\n",
      "\n",
      "\n",
      "\n",
      "Starting N = 3150 K = 5 and D = 5\n"
     ]
    },
    {
     "name": "stderr",
     "output_type": "stream",
     "text": []
    },
    {
     "name": "stdout",
     "output_type": "stream",
     "text": [
      "Finished running N = 3150 K = 5 and D = 5\n",
      "****************************************************************************************************\n",
      "\n",
      "\n",
      "\n",
      "Starting N = 10000 K = 5 and D = 5\n"
     ]
    },
    {
     "name": "stderr",
     "output_type": "stream",
     "text": []
    },
    {
     "name": "stdout",
     "output_type": "stream",
     "text": [
      "Finished running N = 10000 K = 5 and D = 5\n",
      "****************************************************************************************************\n",
      "\n",
      "\n",
      "\n",
      "Starting N = 31500 K = 5 and D = 5\n"
     ]
    },
    {
     "name": "stderr",
     "output_type": "stream",
     "text": []
    },
    {
     "name": "stdout",
     "output_type": "stream",
     "text": [
      "Finished running N = 31500 K = 5 and D = 5\n",
      "****************************************************************************************************\n",
      "\n",
      "\n",
      "\n",
      "Starting N = 100000 K = 5 and D = 5\n"
     ]
    },
    {
     "name": "stderr",
     "output_type": "stream",
     "text": []
    },
    {
     "name": "stdout",
     "output_type": "stream",
     "text": [
      "Finished running N = 100000 K = 5 and D = 5\n",
      "****************************************************************************************************\n",
      "\n",
      "\n",
      "\n",
      "Starting N = 315000 K = 5 and D = 5\n"
     ]
    },
    {
     "name": "stderr",
     "output_type": "stream",
     "text": []
    },
    {
     "name": "stdout",
     "output_type": "stream",
     "text": [
      "Finished running N = 315000 K = 5 and D = 5\n",
      "****************************************************************************************************\n",
      "\n",
      "\n",
      "\n",
      "Starting N = 1000000 K = 5 and D = 5\n"
     ]
    },
    {
     "name": "stderr",
     "output_type": "stream",
     "text": [
      "100%|██████████| 7/7 [14:15<00:00, 122.26s/it]\n",
      " 17%|█▋        | 1/6 [14:15<1:11:19, 855.84s/it]"
     ]
    },
    {
     "name": "stdout",
     "output_type": "stream",
     "text": [
      "Finished running N = 1000000 K = 5 and D = 5\n",
      "****************************************************************************************************\n",
      "\n",
      "\n",
      "\n",
      "Starting N = 1000 K = 5 and D = 10\n"
     ]
    },
    {
     "name": "stderr",
     "output_type": "stream",
     "text": []
    },
    {
     "name": "stdout",
     "output_type": "stream",
     "text": [
      "Finished running N = 1000 K = 5 and D = 10\n",
      "****************************************************************************************************\n",
      "\n",
      "\n",
      "\n",
      "Starting N = 3150 K = 5 and D = 10\n"
     ]
    },
    {
     "name": "stderr",
     "output_type": "stream",
     "text": []
    },
    {
     "name": "stdout",
     "output_type": "stream",
     "text": [
      "Finished running N = 3150 K = 5 and D = 10\n",
      "****************************************************************************************************\n",
      "\n",
      "\n",
      "\n",
      "Starting N = 10000 K = 5 and D = 10\n"
     ]
    },
    {
     "name": "stderr",
     "output_type": "stream",
     "text": []
    },
    {
     "name": "stdout",
     "output_type": "stream",
     "text": [
      "Finished running N = 10000 K = 5 and D = 10\n",
      "****************************************************************************************************\n",
      "\n",
      "\n",
      "\n",
      "Starting N = 31500 K = 5 and D = 10\n"
     ]
    },
    {
     "name": "stderr",
     "output_type": "stream",
     "text": []
    },
    {
     "name": "stdout",
     "output_type": "stream",
     "text": [
      "Finished running N = 31500 K = 5 and D = 10\n",
      "****************************************************************************************************\n",
      "\n",
      "\n",
      "\n",
      "Starting N = 100000 K = 5 and D = 10\n"
     ]
    },
    {
     "name": "stderr",
     "output_type": "stream",
     "text": []
    },
    {
     "name": "stdout",
     "output_type": "stream",
     "text": [
      "Finished running N = 100000 K = 5 and D = 10\n",
      "****************************************************************************************************\n",
      "\n",
      "\n",
      "\n",
      "Starting N = 315000 K = 5 and D = 10\n"
     ]
    },
    {
     "name": "stderr",
     "output_type": "stream",
     "text": []
    },
    {
     "name": "stdout",
     "output_type": "stream",
     "text": [
      "Finished running N = 315000 K = 5 and D = 10\n",
      "****************************************************************************************************\n",
      "\n",
      "\n",
      "\n",
      "Starting N = 1000000 K = 5 and D = 10\n"
     ]
    },
    {
     "name": "stderr",
     "output_type": "stream",
     "text": [
      "100%|██████████| 7/7 [14:29<00:00, 124.15s/it]\n",
      " 33%|███▎      | 2/6 [28:44<57:34, 863.60s/it]  "
     ]
    },
    {
     "name": "stdout",
     "output_type": "stream",
     "text": [
      "Finished running N = 1000000 K = 5 and D = 10\n",
      "****************************************************************************************************\n",
      "\n",
      "\n",
      "\n",
      "Starting N = 1000 K = 5 and D = 15\n"
     ]
    },
    {
     "name": "stderr",
     "output_type": "stream",
     "text": []
    },
    {
     "name": "stdout",
     "output_type": "stream",
     "text": [
      "Finished running N = 1000 K = 5 and D = 15\n",
      "****************************************************************************************************\n",
      "\n",
      "\n",
      "\n",
      "Starting N = 3150 K = 5 and D = 15\n"
     ]
    },
    {
     "name": "stderr",
     "output_type": "stream",
     "text": []
    },
    {
     "name": "stdout",
     "output_type": "stream",
     "text": [
      "Finished running N = 3150 K = 5 and D = 15\n",
      "****************************************************************************************************\n",
      "\n",
      "\n",
      "\n",
      "Starting N = 10000 K = 5 and D = 15\n"
     ]
    },
    {
     "name": "stderr",
     "output_type": "stream",
     "text": []
    },
    {
     "name": "stdout",
     "output_type": "stream",
     "text": [
      "Finished running N = 10000 K = 5 and D = 15\n",
      "****************************************************************************************************\n",
      "\n",
      "\n",
      "\n",
      "Starting N = 31500 K = 5 and D = 15\n"
     ]
    },
    {
     "name": "stderr",
     "output_type": "stream",
     "text": []
    },
    {
     "name": "stdout",
     "output_type": "stream",
     "text": [
      "Finished running N = 31500 K = 5 and D = 15\n",
      "****************************************************************************************************\n",
      "\n",
      "\n",
      "\n",
      "Starting N = 100000 K = 5 and D = 15\n"
     ]
    },
    {
     "name": "stderr",
     "output_type": "stream",
     "text": []
    },
    {
     "name": "stdout",
     "output_type": "stream",
     "text": [
      "Finished running N = 100000 K = 5 and D = 15\n",
      "****************************************************************************************************\n",
      "\n",
      "\n",
      "\n",
      "Starting N = 315000 K = 5 and D = 15\n"
     ]
    },
    {
     "name": "stderr",
     "output_type": "stream",
     "text": []
    },
    {
     "name": "stdout",
     "output_type": "stream",
     "text": [
      "Finished running N = 315000 K = 5 and D = 15\n",
      "****************************************************************************************************\n",
      "\n",
      "\n",
      "\n",
      "Starting N = 1000000 K = 5 and D = 15\n"
     ]
    },
    {
     "name": "stderr",
     "output_type": "stream",
     "text": [
      "100%|██████████| 7/7 [14:43<00:00, 126.17s/it]\n",
      " 50%|█████     | 3/6 [43:28<43:37, 872.56s/it]"
     ]
    },
    {
     "name": "stdout",
     "output_type": "stream",
     "text": [
      "Finished running N = 1000000 K = 5 and D = 15\n",
      "****************************************************************************************************\n",
      "\n",
      "\n",
      "\n",
      "Starting N = 1000 K = 10 and D = 10\n"
     ]
    },
    {
     "name": "stderr",
     "output_type": "stream",
     "text": []
    },
    {
     "name": "stdout",
     "output_type": "stream",
     "text": [
      "Finished running N = 1000 K = 10 and D = 10\n",
      "****************************************************************************************************\n",
      "\n",
      "\n",
      "\n",
      "Starting N = 3150 K = 10 and D = 10\n"
     ]
    },
    {
     "name": "stderr",
     "output_type": "stream",
     "text": []
    },
    {
     "name": "stdout",
     "output_type": "stream",
     "text": [
      "Finished running N = 3150 K = 10 and D = 10\n",
      "****************************************************************************************************\n",
      "\n",
      "\n",
      "\n",
      "Starting N = 10000 K = 10 and D = 10\n"
     ]
    },
    {
     "name": "stderr",
     "output_type": "stream",
     "text": []
    },
    {
     "name": "stdout",
     "output_type": "stream",
     "text": [
      "Finished running N = 10000 K = 10 and D = 10\n",
      "****************************************************************************************************\n",
      "\n",
      "\n",
      "\n",
      "Starting N = 31500 K = 10 and D = 10\n"
     ]
    },
    {
     "name": "stderr",
     "output_type": "stream",
     "text": []
    },
    {
     "name": "stdout",
     "output_type": "stream",
     "text": [
      "Finished running N = 31500 K = 10 and D = 10\n",
      "****************************************************************************************************\n",
      "\n",
      "\n",
      "\n",
      "Starting N = 100000 K = 10 and D = 10\n"
     ]
    },
    {
     "name": "stderr",
     "output_type": "stream",
     "text": []
    },
    {
     "name": "stdout",
     "output_type": "stream",
     "text": [
      "Finished running N = 100000 K = 10 and D = 10\n",
      "****************************************************************************************************\n",
      "\n",
      "\n",
      "\n",
      "Starting N = 315000 K = 10 and D = 10\n"
     ]
    },
    {
     "name": "stderr",
     "output_type": "stream",
     "text": []
    },
    {
     "name": "stdout",
     "output_type": "stream",
     "text": [
      "Finished running N = 315000 K = 10 and D = 10\n",
      "****************************************************************************************************\n",
      "\n",
      "\n",
      "\n",
      "Starting N = 1000000 K = 10 and D = 10\n"
     ]
    },
    {
     "name": "stderr",
     "output_type": "stream",
     "text": [
      "100%|██████████| 7/7 [14:54<00:00, 127.73s/it]\n",
      " 67%|██████▋   | 4/6 [58:22<29:22, 881.06s/it]"
     ]
    },
    {
     "name": "stdout",
     "output_type": "stream",
     "text": [
      "Finished running N = 1000000 K = 10 and D = 10\n",
      "****************************************************************************************************\n",
      "\n",
      "\n",
      "\n",
      "Starting N = 1000 K = 10 and D = 15\n"
     ]
    },
    {
     "name": "stderr",
     "output_type": "stream",
     "text": []
    },
    {
     "name": "stdout",
     "output_type": "stream",
     "text": [
      "Finished running N = 1000 K = 10 and D = 15\n",
      "****************************************************************************************************\n",
      "\n",
      "\n",
      "\n",
      "Starting N = 3150 K = 10 and D = 15\n"
     ]
    },
    {
     "name": "stderr",
     "output_type": "stream",
     "text": []
    },
    {
     "name": "stdout",
     "output_type": "stream",
     "text": [
      "Finished running N = 3150 K = 10 and D = 15\n",
      "****************************************************************************************************\n",
      "\n",
      "\n",
      "\n",
      "Starting N = 10000 K = 10 and D = 15\n"
     ]
    },
    {
     "name": "stderr",
     "output_type": "stream",
     "text": []
    },
    {
     "name": "stdout",
     "output_type": "stream",
     "text": [
      "Finished running N = 10000 K = 10 and D = 15\n",
      "****************************************************************************************************\n",
      "\n",
      "\n",
      "\n",
      "Starting N = 31500 K = 10 and D = 15\n"
     ]
    },
    {
     "name": "stderr",
     "output_type": "stream",
     "text": []
    },
    {
     "name": "stdout",
     "output_type": "stream",
     "text": [
      "Finished running N = 31500 K = 10 and D = 15\n",
      "****************************************************************************************************\n",
      "\n",
      "\n",
      "\n",
      "Starting N = 100000 K = 10 and D = 15\n"
     ]
    },
    {
     "name": "stderr",
     "output_type": "stream",
     "text": []
    },
    {
     "name": "stdout",
     "output_type": "stream",
     "text": [
      "Finished running N = 100000 K = 10 and D = 15\n",
      "****************************************************************************************************\n",
      "\n",
      "\n",
      "\n",
      "Starting N = 315000 K = 10 and D = 15\n"
     ]
    },
    {
     "name": "stderr",
     "output_type": "stream",
     "text": []
    },
    {
     "name": "stdout",
     "output_type": "stream",
     "text": [
      "Finished running N = 315000 K = 10 and D = 15\n",
      "****************************************************************************************************\n",
      "\n",
      "\n",
      "\n",
      "Starting N = 1000000 K = 10 and D = 15\n"
     ]
    },
    {
     "name": "stderr",
     "output_type": "stream",
     "text": [
      "100%|██████████| 7/7 [16:04<00:00, 137.78s/it]\n",
      " 83%|████████▎ | 5/6 [1:14:26<15:11, 911.13s/it]"
     ]
    },
    {
     "name": "stdout",
     "output_type": "stream",
     "text": [
      "Finished running N = 1000000 K = 10 and D = 15\n",
      "****************************************************************************************************\n",
      "\n",
      "\n",
      "\n",
      "Starting N = 1000 K = 15 and D = 15\n"
     ]
    },
    {
     "name": "stderr",
     "output_type": "stream",
     "text": []
    },
    {
     "name": "stdout",
     "output_type": "stream",
     "text": [
      "Finished running N = 1000 K = 15 and D = 15\n",
      "****************************************************************************************************\n",
      "\n",
      "\n",
      "\n",
      "Starting N = 3150 K = 15 and D = 15\n"
     ]
    },
    {
     "name": "stderr",
     "output_type": "stream",
     "text": []
    },
    {
     "name": "stdout",
     "output_type": "stream",
     "text": [
      "Finished running N = 3150 K = 15 and D = 15\n",
      "****************************************************************************************************\n",
      "\n",
      "\n",
      "\n",
      "Starting N = 10000 K = 15 and D = 15\n"
     ]
    },
    {
     "name": "stderr",
     "output_type": "stream",
     "text": []
    },
    {
     "name": "stdout",
     "output_type": "stream",
     "text": [
      "Finished running N = 10000 K = 15 and D = 15\n",
      "****************************************************************************************************\n",
      "\n",
      "\n",
      "\n",
      "Starting N = 31500 K = 15 and D = 15\n"
     ]
    },
    {
     "name": "stderr",
     "output_type": "stream",
     "text": []
    },
    {
     "name": "stdout",
     "output_type": "stream",
     "text": [
      "Finished running N = 31500 K = 15 and D = 15\n",
      "****************************************************************************************************\n",
      "\n",
      "\n",
      "\n",
      "Starting N = 100000 K = 15 and D = 15\n"
     ]
    },
    {
     "name": "stderr",
     "output_type": "stream",
     "text": []
    },
    {
     "name": "stdout",
     "output_type": "stream",
     "text": [
      "Finished running N = 100000 K = 15 and D = 15\n",
      "****************************************************************************************************\n",
      "\n",
      "\n",
      "\n",
      "Starting N = 315000 K = 15 and D = 15\n"
     ]
    },
    {
     "name": "stderr",
     "output_type": "stream",
     "text": []
    },
    {
     "name": "stdout",
     "output_type": "stream",
     "text": [
      "Finished running N = 315000 K = 15 and D = 15\n",
      "****************************************************************************************************\n",
      "\n",
      "\n",
      "\n",
      "Starting N = 1000000 K = 15 and D = 15\n"
     ]
    },
    {
     "name": "stderr",
     "output_type": "stream",
     "text": [
      "100%|██████████| 7/7 [17:54<00:00, 153.43s/it]\n",
      "100%|██████████| 6/6 [1:32:20<00:00, 923.45s/it]"
     ]
    },
    {
     "name": "stdout",
     "output_type": "stream",
     "text": [
      "Finished running N = 1000000 K = 15 and D = 15\n",
      "****************************************************************************************************\n"
     ]
    },
    {
     "name": "stderr",
     "output_type": "stream",
     "text": [
      "\n"
     ]
    }
   ],
   "source": [
    "N_list = [1000, 3150, 10000, 31500, 100000, 315000, 1000000]\n",
    "K_list = [5, 5,5, 10,10, 15]\n",
    "D_list = [5,10,15, 10,15, 15] \n",
    "\n",
    "box = 500\n",
    "seed = 60\n",
    "\n",
    "cnt = 0\n",
    "\n",
    "for i, D in enumerate(tqdm(D_list)):\n",
    "\n",
    "\n",
    "    time_list = []\n",
    "    metrics_list = []\n",
    "    epsVal_list = []\n",
    "\n",
    "    centers_list = []\n",
    "\n",
    "    obj_list = []\n",
    "\n",
    "\n",
    "    K = K_list[i]\n",
    "    \n",
    "    for N in tqdm(N_list):\n",
    "        print('\\n\\n\\nStarting N = %i K = %i and D = %i' %(N,K,D))\n",
    "\n",
    "        df_data, X,y = Blobs(N,D,K,box, seed)\n",
    "\n",
    "        metrics_list_inner = []\n",
    "        time_list_inner = []\n",
    "        epsVal_list_inner = []\n",
    "        centers_list_inner = []\n",
    "\n",
    "        for j in range(10):\n",
    "            \n",
    "            kc_Gon = UnsupervisedClustering(K =K)\n",
    "            kc_Gon.set_model(KCenters_Gon())\n",
    "\n",
    "            start = default_timer()\n",
    "            kc_Gon.fit(df_data )\n",
    "\n",
    "            end = default_timer()\n",
    "\n",
    "            metrics_list_inner.append(kc_Gon.evaluate(y))\n",
    "            epsVal_list_inner.append(kc_Gon.epsVal)\n",
    "            centers_list_inner.append(kc_Gon.cluster_centers)\n",
    "        \n",
    "            time_list_inner.append(end - start)\n",
    "\n",
    "        \n",
    "        time_list.append(np.average(time_list_inner))\n",
    "        metrics_list.append(np.average(metrics_list_inner,axis=0))\n",
    "        epsVal_list.append(np.average(epsVal_list_inner))\n",
    "        centers_list.append(centers_list_inner)\n",
    "\n",
    "\n",
    "        print('Finished running N = %i K = %i and D = %i' %(N,K,D))\n",
    "        print('*'*100)\n",
    "\n",
    "\n",
    "\n",
    "    with open(os.path.join(RESULT_DIR, 'Syn1_1_'+str(K)+str(D)+'_KC_GonAvg.pkl'), 'wb') as outp:\n",
    "\n",
    "        pickle.dump(metrics_list, outp, pickle.HIGHEST_PROTOCOL)\n",
    "        pickle.dump(time_list, outp, pickle.HIGHEST_PROTOCOL)\n",
    "        pickle.dump(epsVal_list, outp, pickle.HIGHEST_PROTOCOL)\n",
    "        pickle.dump(centers_list, outp, pickle.HIGHEST_PROTOCOL)\n",
    "\n",
    "\n",
    "\n"
   ]
  },
  {
   "cell_type": "markdown",
   "metadata": {},
   "source": [
    "## KCenters HS"
   ]
  },
  {
   "cell_type": "code",
   "execution_count": 4,
   "metadata": {},
   "outputs": [
    {
     "name": "stderr",
     "output_type": "stream",
     "text": [
      "  0%|          | 0/6 [00:00<?, ?it/s]"
     ]
    },
    {
     "name": "stdout",
     "output_type": "stream",
     "text": [
      "\n",
      "\n",
      "\n",
      "Starting N = 1000 K = 5 and D = 5\n"
     ]
    },
    {
     "name": "stderr",
     "output_type": "stream",
     "text": []
    },
    {
     "name": "stdout",
     "output_type": "stream",
     "text": [
      "Finished running N = 1000 K = 5 and D = 5\n",
      "****************************************************************************************************\n",
      "\n",
      "\n",
      "\n",
      "Starting N = 3150 K = 5 and D = 5\n"
     ]
    },
    {
     "name": "stderr",
     "output_type": "stream",
     "text": []
    },
    {
     "name": "stdout",
     "output_type": "stream",
     "text": [
      "Finished running N = 3150 K = 5 and D = 5\n",
      "****************************************************************************************************\n",
      "\n",
      "\n",
      "\n",
      "Starting N = 10000 K = 5 and D = 5\n"
     ]
    },
    {
     "name": "stderr",
     "output_type": "stream",
     "text": []
    },
    {
     "name": "stdout",
     "output_type": "stream",
     "text": [
      "Finished running N = 10000 K = 5 and D = 5\n",
      "****************************************************************************************************\n",
      "\n",
      "\n",
      "\n",
      "Starting N = 31500 K = 5 and D = 5\n"
     ]
    },
    {
     "name": "stderr",
     "output_type": "stream",
     "text": []
    },
    {
     "name": "stdout",
     "output_type": "stream",
     "text": [
      "Finished running N = 31500 K = 5 and D = 5\n",
      "****************************************************************************************************\n",
      "\n",
      "\n",
      "\n",
      "Starting N = 100000 K = 5 and D = 5\n"
     ]
    },
    {
     "name": "stderr",
     "output_type": "stream",
     "text": []
    },
    {
     "name": "stdout",
     "output_type": "stream",
     "text": [
      "Finished running N = 100000 K = 5 and D = 5\n",
      "****************************************************************************************************\n",
      "\n",
      "\n",
      "\n",
      "Starting N = 315000 K = 5 and D = 5\n"
     ]
    },
    {
     "name": "stderr",
     "output_type": "stream",
     "text": []
    },
    {
     "name": "stdout",
     "output_type": "stream",
     "text": [
      "Finished running N = 315000 K = 5 and D = 5\n",
      "****************************************************************************************************\n",
      "\n",
      "\n",
      "\n",
      "Starting N = 1000000 K = 5 and D = 5\n"
     ]
    },
    {
     "name": "stderr",
     "output_type": "stream",
     "text": [
      "100%|██████████| 7/7 [02:35<00:00, 22.22s/it]\n",
      " 17%|█▋        | 1/6 [02:35<12:57, 155.51s/it]"
     ]
    },
    {
     "name": "stdout",
     "output_type": "stream",
     "text": [
      "Finished running N = 1000000 K = 5 and D = 5\n",
      "****************************************************************************************************\n",
      "\n",
      "\n",
      "\n",
      "Starting N = 1000 K = 5 and D = 10\n"
     ]
    },
    {
     "name": "stderr",
     "output_type": "stream",
     "text": []
    },
    {
     "name": "stdout",
     "output_type": "stream",
     "text": [
      "Finished running N = 1000 K = 5 and D = 10\n",
      "****************************************************************************************************\n",
      "\n",
      "\n",
      "\n",
      "Starting N = 3150 K = 5 and D = 10\n"
     ]
    },
    {
     "name": "stderr",
     "output_type": "stream",
     "text": []
    },
    {
     "name": "stdout",
     "output_type": "stream",
     "text": [
      "Finished running N = 3150 K = 5 and D = 10\n",
      "****************************************************************************************************\n",
      "\n",
      "\n",
      "\n",
      "Starting N = 10000 K = 5 and D = 10\n"
     ]
    },
    {
     "name": "stderr",
     "output_type": "stream",
     "text": []
    },
    {
     "name": "stdout",
     "output_type": "stream",
     "text": [
      "Finished running N = 10000 K = 5 and D = 10\n",
      "****************************************************************************************************\n",
      "\n",
      "\n",
      "\n",
      "Starting N = 31500 K = 5 and D = 10\n"
     ]
    },
    {
     "name": "stderr",
     "output_type": "stream",
     "text": []
    },
    {
     "name": "stdout",
     "output_type": "stream",
     "text": [
      "Finished running N = 31500 K = 5 and D = 10\n",
      "****************************************************************************************************\n",
      "\n",
      "\n",
      "\n",
      "Starting N = 100000 K = 5 and D = 10\n"
     ]
    },
    {
     "name": "stderr",
     "output_type": "stream",
     "text": []
    },
    {
     "name": "stdout",
     "output_type": "stream",
     "text": [
      "Finished running N = 100000 K = 5 and D = 10\n",
      "****************************************************************************************************\n",
      "\n",
      "\n",
      "\n",
      "Starting N = 315000 K = 5 and D = 10\n"
     ]
    },
    {
     "name": "stderr",
     "output_type": "stream",
     "text": []
    },
    {
     "name": "stdout",
     "output_type": "stream",
     "text": [
      "Finished running N = 315000 K = 5 and D = 10\n",
      "****************************************************************************************************\n",
      "\n",
      "\n",
      "\n",
      "Starting N = 1000000 K = 5 and D = 10\n"
     ]
    },
    {
     "name": "stderr",
     "output_type": "stream",
     "text": [
      "100%|██████████| 7/7 [02:34<00:00, 22.12s/it]\n",
      " 33%|███▎      | 2/6 [05:10<10:20, 155.14s/it]"
     ]
    },
    {
     "name": "stdout",
     "output_type": "stream",
     "text": [
      "Finished running N = 1000000 K = 5 and D = 10\n",
      "****************************************************************************************************\n",
      "\n",
      "\n",
      "\n",
      "Starting N = 1000 K = 5 and D = 15\n",
      "Finished running N = 1000 K = 5 and D = 15\n",
      "****************************************************************************************************\n",
      "\n",
      "\n",
      "\n",
      "Starting N = 3150 K = 5 and D = 15\n"
     ]
    },
    {
     "name": "stderr",
     "output_type": "stream",
     "text": []
    },
    {
     "name": "stdout",
     "output_type": "stream",
     "text": [
      "Finished running N = 3150 K = 5 and D = 15\n",
      "****************************************************************************************************\n",
      "\n",
      "\n",
      "\n",
      "Starting N = 10000 K = 5 and D = 15\n"
     ]
    },
    {
     "name": "stderr",
     "output_type": "stream",
     "text": []
    },
    {
     "name": "stdout",
     "output_type": "stream",
     "text": [
      "Finished running N = 10000 K = 5 and D = 15\n",
      "****************************************************************************************************\n",
      "\n",
      "\n",
      "\n",
      "Starting N = 31500 K = 5 and D = 15\n"
     ]
    },
    {
     "name": "stderr",
     "output_type": "stream",
     "text": []
    },
    {
     "name": "stdout",
     "output_type": "stream",
     "text": [
      "Finished running N = 31500 K = 5 and D = 15\n",
      "****************************************************************************************************\n",
      "\n",
      "\n",
      "\n",
      "Starting N = 100000 K = 5 and D = 15\n"
     ]
    },
    {
     "name": "stderr",
     "output_type": "stream",
     "text": []
    },
    {
     "name": "stdout",
     "output_type": "stream",
     "text": [
      "Finished running N = 100000 K = 5 and D = 15\n",
      "****************************************************************************************************\n",
      "\n",
      "\n",
      "\n",
      "Starting N = 315000 K = 5 and D = 15\n"
     ]
    },
    {
     "name": "stderr",
     "output_type": "stream",
     "text": []
    },
    {
     "name": "stdout",
     "output_type": "stream",
     "text": [
      "Finished running N = 315000 K = 5 and D = 15\n",
      "****************************************************************************************************\n",
      "\n",
      "\n",
      "\n",
      "Starting N = 1000000 K = 5 and D = 15\n"
     ]
    },
    {
     "name": "stderr",
     "output_type": "stream",
     "text": [
      "100%|██████████| 7/7 [02:32<00:00, 21.81s/it]\n",
      " 50%|█████     | 3/6 [07:43<07:42, 154.00s/it]"
     ]
    },
    {
     "name": "stdout",
     "output_type": "stream",
     "text": [
      "Finished running N = 1000000 K = 5 and D = 15\n",
      "****************************************************************************************************\n",
      "\n",
      "\n",
      "\n",
      "Starting N = 1000 K = 10 and D = 10\n"
     ]
    },
    {
     "name": "stderr",
     "output_type": "stream",
     "text": []
    },
    {
     "name": "stdout",
     "output_type": "stream",
     "text": [
      "Finished running N = 1000 K = 10 and D = 10\n",
      "****************************************************************************************************\n",
      "\n",
      "\n",
      "\n",
      "Starting N = 3150 K = 10 and D = 10\n"
     ]
    },
    {
     "name": "stderr",
     "output_type": "stream",
     "text": []
    },
    {
     "name": "stdout",
     "output_type": "stream",
     "text": [
      "Finished running N = 3150 K = 10 and D = 10\n",
      "****************************************************************************************************\n",
      "\n",
      "\n",
      "\n",
      "Starting N = 10000 K = 10 and D = 10\n"
     ]
    },
    {
     "name": "stderr",
     "output_type": "stream",
     "text": []
    },
    {
     "name": "stdout",
     "output_type": "stream",
     "text": [
      "Finished running N = 10000 K = 10 and D = 10\n",
      "****************************************************************************************************\n",
      "\n",
      "\n",
      "\n",
      "Starting N = 31500 K = 10 and D = 10\n"
     ]
    },
    {
     "name": "stderr",
     "output_type": "stream",
     "text": []
    },
    {
     "name": "stdout",
     "output_type": "stream",
     "text": [
      "Finished running N = 31500 K = 10 and D = 10\n",
      "****************************************************************************************************\n",
      "\n",
      "\n",
      "\n",
      "Starting N = 100000 K = 10 and D = 10\n"
     ]
    },
    {
     "name": "stderr",
     "output_type": "stream",
     "text": []
    },
    {
     "name": "stdout",
     "output_type": "stream",
     "text": [
      "Finished running N = 100000 K = 10 and D = 10\n",
      "****************************************************************************************************\n",
      "\n",
      "\n",
      "\n",
      "Starting N = 315000 K = 10 and D = 10\n"
     ]
    },
    {
     "name": "stderr",
     "output_type": "stream",
     "text": []
    },
    {
     "name": "stdout",
     "output_type": "stream",
     "text": [
      "Finished running N = 315000 K = 10 and D = 10\n",
      "****************************************************************************************************\n",
      "\n",
      "\n",
      "\n",
      "Starting N = 1000000 K = 10 and D = 10\n"
     ]
    },
    {
     "name": "stderr",
     "output_type": "stream",
     "text": [
      "100%|██████████| 7/7 [02:38<00:00, 22.67s/it]\n",
      " 67%|██████▋   | 4/6 [10:21<05:11, 155.86s/it]"
     ]
    },
    {
     "name": "stdout",
     "output_type": "stream",
     "text": [
      "Finished running N = 1000000 K = 10 and D = 10\n",
      "****************************************************************************************************\n",
      "\n",
      "\n",
      "\n",
      "Starting N = 1000 K = 10 and D = 15\n"
     ]
    },
    {
     "name": "stderr",
     "output_type": "stream",
     "text": []
    },
    {
     "name": "stdout",
     "output_type": "stream",
     "text": [
      "Finished running N = 1000 K = 10 and D = 15\n",
      "****************************************************************************************************\n",
      "\n",
      "\n",
      "\n",
      "Starting N = 3150 K = 10 and D = 15\n"
     ]
    },
    {
     "name": "stderr",
     "output_type": "stream",
     "text": []
    },
    {
     "name": "stdout",
     "output_type": "stream",
     "text": [
      "Finished running N = 3150 K = 10 and D = 15\n",
      "****************************************************************************************************\n",
      "\n",
      "\n",
      "\n",
      "Starting N = 10000 K = 10 and D = 15\n"
     ]
    },
    {
     "name": "stderr",
     "output_type": "stream",
     "text": []
    },
    {
     "name": "stdout",
     "output_type": "stream",
     "text": [
      "Finished running N = 10000 K = 10 and D = 15\n",
      "****************************************************************************************************\n",
      "\n",
      "\n",
      "\n",
      "Starting N = 31500 K = 10 and D = 15\n"
     ]
    },
    {
     "name": "stderr",
     "output_type": "stream",
     "text": []
    },
    {
     "name": "stdout",
     "output_type": "stream",
     "text": [
      "Finished running N = 31500 K = 10 and D = 15\n",
      "****************************************************************************************************\n",
      "\n",
      "\n",
      "\n",
      "Starting N = 100000 K = 10 and D = 15\n"
     ]
    },
    {
     "name": "stderr",
     "output_type": "stream",
     "text": []
    },
    {
     "name": "stdout",
     "output_type": "stream",
     "text": [
      "Finished running N = 100000 K = 10 and D = 15\n",
      "****************************************************************************************************\n",
      "\n",
      "\n",
      "\n",
      "Starting N = 315000 K = 10 and D = 15\n"
     ]
    },
    {
     "name": "stderr",
     "output_type": "stream",
     "text": []
    },
    {
     "name": "stdout",
     "output_type": "stream",
     "text": [
      "Finished running N = 315000 K = 10 and D = 15\n",
      "****************************************************************************************************\n",
      "\n",
      "\n",
      "\n",
      "Starting N = 1000000 K = 10 and D = 15\n"
     ]
    },
    {
     "name": "stderr",
     "output_type": "stream",
     "text": [
      "100%|██████████| 7/7 [02:38<00:00, 22.68s/it]\n",
      " 83%|████████▎ | 5/6 [13:00<02:36, 156.90s/it]"
     ]
    },
    {
     "name": "stdout",
     "output_type": "stream",
     "text": [
      "Finished running N = 1000000 K = 10 and D = 15\n",
      "****************************************************************************************************\n",
      "\n",
      "\n",
      "\n",
      "Starting N = 1000 K = 15 and D = 15\n"
     ]
    },
    {
     "name": "stderr",
     "output_type": "stream",
     "text": []
    },
    {
     "name": "stdout",
     "output_type": "stream",
     "text": [
      "Finished running N = 1000 K = 15 and D = 15\n",
      "****************************************************************************************************\n",
      "\n",
      "\n",
      "\n",
      "Starting N = 3150 K = 15 and D = 15\n"
     ]
    },
    {
     "name": "stderr",
     "output_type": "stream",
     "text": []
    },
    {
     "name": "stdout",
     "output_type": "stream",
     "text": [
      "Finished running N = 3150 K = 15 and D = 15\n",
      "****************************************************************************************************\n",
      "\n",
      "\n",
      "\n",
      "Starting N = 10000 K = 15 and D = 15\n"
     ]
    },
    {
     "name": "stderr",
     "output_type": "stream",
     "text": []
    },
    {
     "name": "stdout",
     "output_type": "stream",
     "text": [
      "Finished running N = 10000 K = 15 and D = 15\n",
      "****************************************************************************************************\n",
      "\n",
      "\n",
      "\n",
      "Starting N = 31500 K = 15 and D = 15\n"
     ]
    },
    {
     "name": "stderr",
     "output_type": "stream",
     "text": []
    },
    {
     "name": "stdout",
     "output_type": "stream",
     "text": [
      "Finished running N = 31500 K = 15 and D = 15\n",
      "****************************************************************************************************\n",
      "\n",
      "\n",
      "\n",
      "Starting N = 100000 K = 15 and D = 15\n"
     ]
    },
    {
     "name": "stderr",
     "output_type": "stream",
     "text": []
    },
    {
     "name": "stdout",
     "output_type": "stream",
     "text": [
      "Finished running N = 100000 K = 15 and D = 15\n",
      "****************************************************************************************************\n",
      "\n",
      "\n",
      "\n",
      "Starting N = 315000 K = 15 and D = 15\n"
     ]
    },
    {
     "name": "stderr",
     "output_type": "stream",
     "text": []
    },
    {
     "name": "stdout",
     "output_type": "stream",
     "text": [
      "Finished running N = 315000 K = 15 and D = 15\n",
      "****************************************************************************************************\n",
      "\n",
      "\n",
      "\n",
      "Starting N = 1000000 K = 15 and D = 15\n"
     ]
    },
    {
     "name": "stderr",
     "output_type": "stream",
     "text": [
      "100%|██████████| 7/7 [02:44<00:00, 23.45s/it]\n",
      "100%|██████████| 6/6 [15:44<00:00, 157.44s/it]"
     ]
    },
    {
     "name": "stdout",
     "output_type": "stream",
     "text": [
      "Finished running N = 1000000 K = 15 and D = 15\n",
      "****************************************************************************************************\n"
     ]
    },
    {
     "name": "stderr",
     "output_type": "stream",
     "text": [
      "\n"
     ]
    }
   ],
   "source": [
    "N_list = [1000, 3150, 10000, 31500, 100000, 315000, 1000000]\n",
    "K_list = [5, 5,5, 10,10, 15]\n",
    "D_list = [5,10,15, 10,15, 15] \n",
    "\n",
    "box = 500\n",
    "seed = 60\n",
    "\n",
    "for i, D in enumerate(tqdm(D_list)):\n",
    "\n",
    "\n",
    "    time_list = []\n",
    "    metrics_list = []\n",
    "    epsVal_list = []\n",
    "\n",
    "    centers_list = []\n",
    "\n",
    "    obj_list = []\n",
    "\n",
    "\n",
    "    K = K_list[i]\n",
    "    \n",
    "    for N in tqdm(N_list):\n",
    "        print('\\n\\n\\nStarting N = %i K = %i and D = %i' %(N,K,D))\n",
    "\n",
    "        df_data, X,y = Blobs(N,D,K,box, seed)\n",
    "       \n",
    "        kc_HS = UnsupervisedClustering(K =K)\n",
    "        kc_HS.set_model(KCenter_HS())\n",
    "\n",
    "        start = default_timer()\n",
    "        kc_HS.fit(df_data )\n",
    "\n",
    "        end = default_timer()\n",
    "        metrics_list.append(kc_HS.evaluate(y))\n",
    "        epsVal_list.append(kc_HS.epsVal)\n",
    "        centers_list.append(kc_HS.cluster_centers)\n",
    "    \n",
    "        time_list.append(end - start)\n",
    "\n",
    "        print('Finished running N = %i K = %i and D = %i' %(N,K,D))\n",
    "        print('*'*100)\n",
    "\n",
    "\n",
    "\n",
    "    with open(os.path.join(RESULT_DIR, 'Syn1_1_'+str(K)+str(D)+'_KC_HS.pkl'), 'wb') as outp:\n",
    "\n",
    "        pickle.dump(metrics_list, outp, pickle.HIGHEST_PROTOCOL)\n",
    "        pickle.dump(time_list, outp, pickle.HIGHEST_PROTOCOL)\n",
    "        pickle.dump(epsVal_list, outp, pickle.HIGHEST_PROTOCOL)\n",
    "        pickle.dump(centers_list, outp, pickle.HIGHEST_PROTOCOL)\n",
    "\n",
    "\n",
    "\n"
   ]
  },
  {
   "cell_type": "markdown",
   "metadata": {},
   "source": [
    "## K Median with random init"
   ]
  },
  {
   "cell_type": "code",
   "execution_count": 22,
   "metadata": {},
   "outputs": [
    {
     "name": "stderr",
     "output_type": "stream",
     "text": [
      "  0%|          | 0/6 [00:00<?, ?it/s]"
     ]
    },
    {
     "name": "stdout",
     "output_type": "stream",
     "text": [
      "\n",
      "\n",
      "\n",
      "Starting N = 1000 K = 5 and D = 5\n"
     ]
    },
    {
     "name": "stderr",
     "output_type": "stream",
     "text": []
    },
    {
     "name": "stdout",
     "output_type": "stream",
     "text": [
      "Finished running N = 1000 K = 5 and D = 5\n",
      "****************************************************************************************************\n",
      "\n",
      "\n",
      "\n",
      "Starting N = 3150 K = 5 and D = 5\n"
     ]
    },
    {
     "name": "stderr",
     "output_type": "stream",
     "text": []
    },
    {
     "name": "stdout",
     "output_type": "stream",
     "text": [
      "Finished running N = 3150 K = 5 and D = 5\n",
      "****************************************************************************************************\n",
      "\n",
      "\n",
      "\n",
      "Starting N = 10000 K = 5 and D = 5\n"
     ]
    },
    {
     "name": "stderr",
     "output_type": "stream",
     "text": []
    },
    {
     "name": "stdout",
     "output_type": "stream",
     "text": [
      "Finished running N = 10000 K = 5 and D = 5\n",
      "****************************************************************************************************\n",
      "\n",
      "\n",
      "\n",
      "Starting N = 31500 K = 5 and D = 5\n"
     ]
    },
    {
     "name": "stderr",
     "output_type": "stream",
     "text": []
    },
    {
     "name": "stdout",
     "output_type": "stream",
     "text": [
      "Finished running N = 31500 K = 5 and D = 5\n",
      "****************************************************************************************************\n",
      "\n",
      "\n",
      "\n",
      "Starting N = 100000 K = 5 and D = 5\n"
     ]
    },
    {
     "name": "stderr",
     "output_type": "stream",
     "text": []
    },
    {
     "name": "stdout",
     "output_type": "stream",
     "text": [
      "Finished running N = 100000 K = 5 and D = 5\n",
      "****************************************************************************************************\n",
      "\n",
      "\n",
      "\n",
      "Starting N = 315000 K = 5 and D = 5\n"
     ]
    },
    {
     "name": "stderr",
     "output_type": "stream",
     "text": []
    },
    {
     "name": "stdout",
     "output_type": "stream",
     "text": [
      "Finished running N = 315000 K = 5 and D = 5\n",
      "****************************************************************************************************\n",
      "\n",
      "\n",
      "\n",
      "Starting N = 1000000 K = 5 and D = 5\n"
     ]
    },
    {
     "name": "stderr",
     "output_type": "stream",
     "text": [
      "100%|██████████| 7/7 [23:00<00:00, 197.20s/it]\n",
      " 17%|█▋        | 1/6 [23:00<1:55:02, 1380.46s/it]"
     ]
    },
    {
     "name": "stdout",
     "output_type": "stream",
     "text": [
      "Finished running N = 1000000 K = 5 and D = 5\n",
      "****************************************************************************************************\n",
      "\n",
      "\n",
      "\n",
      "Starting N = 1000 K = 5 and D = 10\n"
     ]
    },
    {
     "name": "stderr",
     "output_type": "stream",
     "text": []
    },
    {
     "name": "stdout",
     "output_type": "stream",
     "text": [
      "Finished running N = 1000 K = 5 and D = 10\n",
      "****************************************************************************************************\n",
      "\n",
      "\n",
      "\n",
      "Starting N = 3150 K = 5 and D = 10\n"
     ]
    },
    {
     "name": "stderr",
     "output_type": "stream",
     "text": []
    },
    {
     "name": "stdout",
     "output_type": "stream",
     "text": [
      "Finished running N = 3150 K = 5 and D = 10\n",
      "****************************************************************************************************\n",
      "\n",
      "\n",
      "\n",
      "Starting N = 10000 K = 5 and D = 10\n"
     ]
    },
    {
     "name": "stderr",
     "output_type": "stream",
     "text": []
    },
    {
     "name": "stdout",
     "output_type": "stream",
     "text": [
      "Finished running N = 10000 K = 5 and D = 10\n",
      "****************************************************************************************************\n",
      "\n",
      "\n",
      "\n",
      "Starting N = 31500 K = 5 and D = 10\n"
     ]
    },
    {
     "name": "stderr",
     "output_type": "stream",
     "text": []
    },
    {
     "name": "stdout",
     "output_type": "stream",
     "text": [
      "Finished running N = 31500 K = 5 and D = 10\n",
      "****************************************************************************************************\n",
      "\n",
      "\n",
      "\n",
      "Starting N = 100000 K = 5 and D = 10\n"
     ]
    },
    {
     "name": "stderr",
     "output_type": "stream",
     "text": []
    },
    {
     "name": "stdout",
     "output_type": "stream",
     "text": [
      "Finished running N = 100000 K = 5 and D = 10\n",
      "****************************************************************************************************\n",
      "\n",
      "\n",
      "\n",
      "Starting N = 315000 K = 5 and D = 10\n"
     ]
    },
    {
     "name": "stderr",
     "output_type": "stream",
     "text": []
    },
    {
     "name": "stdout",
     "output_type": "stream",
     "text": [
      "Finished running N = 315000 K = 5 and D = 10\n",
      "****************************************************************************************************\n",
      "\n",
      "\n",
      "\n",
      "Starting N = 1000000 K = 5 and D = 10\n"
     ]
    },
    {
     "name": "stderr",
     "output_type": "stream",
     "text": [
      "100%|██████████| 7/7 [31:07<00:00, 266.72s/it]\n",
      " 33%|███▎      | 2/6 [54:07<1:51:06, 1666.72s/it]"
     ]
    },
    {
     "name": "stdout",
     "output_type": "stream",
     "text": [
      "Finished running N = 1000000 K = 5 and D = 10\n",
      "****************************************************************************************************\n",
      "\n",
      "\n",
      "\n",
      "Starting N = 1000 K = 5 and D = 15\n"
     ]
    },
    {
     "name": "stderr",
     "output_type": "stream",
     "text": []
    },
    {
     "name": "stdout",
     "output_type": "stream",
     "text": [
      "Finished running N = 1000 K = 5 and D = 15\n",
      "****************************************************************************************************\n",
      "\n",
      "\n",
      "\n",
      "Starting N = 3150 K = 5 and D = 15\n"
     ]
    },
    {
     "name": "stderr",
     "output_type": "stream",
     "text": []
    },
    {
     "name": "stdout",
     "output_type": "stream",
     "text": [
      "Finished running N = 3150 K = 5 and D = 15\n",
      "****************************************************************************************************\n",
      "\n",
      "\n",
      "\n",
      "Starting N = 10000 K = 5 and D = 15\n"
     ]
    },
    {
     "name": "stderr",
     "output_type": "stream",
     "text": []
    },
    {
     "name": "stdout",
     "output_type": "stream",
     "text": [
      "Finished running N = 10000 K = 5 and D = 15\n",
      "****************************************************************************************************\n",
      "\n",
      "\n",
      "\n",
      "Starting N = 31500 K = 5 and D = 15\n"
     ]
    },
    {
     "name": "stderr",
     "output_type": "stream",
     "text": []
    },
    {
     "name": "stdout",
     "output_type": "stream",
     "text": [
      "Finished running N = 31500 K = 5 and D = 15\n",
      "****************************************************************************************************\n",
      "\n",
      "\n",
      "\n",
      "Starting N = 100000 K = 5 and D = 15\n"
     ]
    },
    {
     "name": "stderr",
     "output_type": "stream",
     "text": []
    },
    {
     "name": "stdout",
     "output_type": "stream",
     "text": [
      "Finished running N = 100000 K = 5 and D = 15\n",
      "****************************************************************************************************\n",
      "\n",
      "\n",
      "\n",
      "Starting N = 315000 K = 5 and D = 15\n"
     ]
    },
    {
     "name": "stderr",
     "output_type": "stream",
     "text": []
    },
    {
     "name": "stdout",
     "output_type": "stream",
     "text": [
      "Finished running N = 315000 K = 5 and D = 15\n",
      "****************************************************************************************************\n",
      "\n",
      "\n",
      "\n",
      "Starting N = 1000000 K = 5 and D = 15\n"
     ]
    },
    {
     "name": "stderr",
     "output_type": "stream",
     "text": [
      "100%|██████████| 7/7 [37:23<00:00, 320.52s/it]\n",
      " 50%|█████     | 3/6 [1:31:31<1:36:30, 1930.18s/it]"
     ]
    },
    {
     "name": "stdout",
     "output_type": "stream",
     "text": [
      "Finished running N = 1000000 K = 5 and D = 15\n",
      "****************************************************************************************************\n",
      "\n",
      "\n",
      "\n",
      "Starting N = 1000 K = 10 and D = 10\n"
     ]
    },
    {
     "name": "stderr",
     "output_type": "stream",
     "text": []
    },
    {
     "name": "stdout",
     "output_type": "stream",
     "text": [
      "Finished running N = 1000 K = 10 and D = 10\n",
      "****************************************************************************************************\n",
      "\n",
      "\n",
      "\n",
      "Starting N = 3150 K = 10 and D = 10\n"
     ]
    },
    {
     "name": "stderr",
     "output_type": "stream",
     "text": []
    },
    {
     "name": "stdout",
     "output_type": "stream",
     "text": [
      "Finished running N = 3150 K = 10 and D = 10\n",
      "****************************************************************************************************\n",
      "\n",
      "\n",
      "\n",
      "Starting N = 10000 K = 10 and D = 10\n"
     ]
    },
    {
     "name": "stderr",
     "output_type": "stream",
     "text": []
    },
    {
     "name": "stdout",
     "output_type": "stream",
     "text": [
      "Finished running N = 10000 K = 10 and D = 10\n",
      "****************************************************************************************************\n",
      "\n",
      "\n",
      "\n",
      "Starting N = 31500 K = 10 and D = 10\n"
     ]
    },
    {
     "name": "stderr",
     "output_type": "stream",
     "text": []
    },
    {
     "name": "stdout",
     "output_type": "stream",
     "text": [
      "Finished running N = 31500 K = 10 and D = 10\n",
      "****************************************************************************************************\n",
      "\n",
      "\n",
      "\n",
      "Starting N = 100000 K = 10 and D = 10\n"
     ]
    },
    {
     "name": "stderr",
     "output_type": "stream",
     "text": []
    },
    {
     "name": "stdout",
     "output_type": "stream",
     "text": [
      "Finished running N = 100000 K = 10 and D = 10\n",
      "****************************************************************************************************\n",
      "\n",
      "\n",
      "\n",
      "Starting N = 315000 K = 10 and D = 10\n"
     ]
    },
    {
     "name": "stderr",
     "output_type": "stream",
     "text": []
    },
    {
     "name": "stdout",
     "output_type": "stream",
     "text": [
      "Finished running N = 315000 K = 10 and D = 10\n",
      "****************************************************************************************************\n",
      "\n",
      "\n",
      "\n",
      "Starting N = 1000000 K = 10 and D = 10\n"
     ]
    },
    {
     "name": "stderr",
     "output_type": "stream",
     "text": [
      "100%|██████████| 7/7 [53:21<00:00, 457.40s/it]\n",
      " 67%|██████▋   | 4/6 [2:24:53<1:21:04, 2432.23s/it]"
     ]
    },
    {
     "name": "stdout",
     "output_type": "stream",
     "text": [
      "Finished running N = 1000000 K = 10 and D = 10\n",
      "****************************************************************************************************\n",
      "\n",
      "\n",
      "\n",
      "Starting N = 1000 K = 10 and D = 15\n"
     ]
    },
    {
     "name": "stderr",
     "output_type": "stream",
     "text": []
    },
    {
     "name": "stdout",
     "output_type": "stream",
     "text": [
      "Finished running N = 1000 K = 10 and D = 15\n",
      "****************************************************************************************************\n",
      "\n",
      "\n",
      "\n",
      "Starting N = 3150 K = 10 and D = 15\n"
     ]
    },
    {
     "name": "stderr",
     "output_type": "stream",
     "text": []
    },
    {
     "name": "stdout",
     "output_type": "stream",
     "text": [
      "Finished running N = 3150 K = 10 and D = 15\n",
      "****************************************************************************************************\n",
      "\n",
      "\n",
      "\n",
      "Starting N = 10000 K = 10 and D = 15\n"
     ]
    },
    {
     "name": "stderr",
     "output_type": "stream",
     "text": []
    },
    {
     "name": "stdout",
     "output_type": "stream",
     "text": [
      "Finished running N = 10000 K = 10 and D = 15\n",
      "****************************************************************************************************\n",
      "\n",
      "\n",
      "\n",
      "Starting N = 31500 K = 10 and D = 15\n"
     ]
    },
    {
     "name": "stderr",
     "output_type": "stream",
     "text": []
    },
    {
     "name": "stdout",
     "output_type": "stream",
     "text": [
      "Finished running N = 31500 K = 10 and D = 15\n",
      "****************************************************************************************************\n",
      "\n",
      "\n",
      "\n",
      "Starting N = 100000 K = 10 and D = 15\n"
     ]
    },
    {
     "name": "stderr",
     "output_type": "stream",
     "text": []
    },
    {
     "name": "stdout",
     "output_type": "stream",
     "text": [
      "Finished running N = 100000 K = 10 and D = 15\n",
      "****************************************************************************************************\n",
      "\n",
      "\n",
      "\n",
      "Starting N = 315000 K = 10 and D = 15\n"
     ]
    },
    {
     "name": "stderr",
     "output_type": "stream",
     "text": []
    },
    {
     "name": "stdout",
     "output_type": "stream",
     "text": [
      "Finished running N = 315000 K = 10 and D = 15\n",
      "****************************************************************************************************\n",
      "\n",
      "\n",
      "\n",
      "Starting N = 1000000 K = 10 and D = 15\n"
     ]
    },
    {
     "name": "stderr",
     "output_type": "stream",
     "text": [
      "100%|██████████| 7/7 [1:28:37<00:00, 759.69s/it] \n",
      " 83%|████████▎ | 5/6 [3:53:30<57:52, 3472.80s/it]  "
     ]
    },
    {
     "name": "stdout",
     "output_type": "stream",
     "text": [
      "Finished running N = 1000000 K = 10 and D = 15\n",
      "****************************************************************************************************\n",
      "\n",
      "\n",
      "\n",
      "Starting N = 1000 K = 15 and D = 15\n"
     ]
    },
    {
     "name": "stderr",
     "output_type": "stream",
     "text": []
    },
    {
     "name": "stdout",
     "output_type": "stream",
     "text": [
      "Finished running N = 1000 K = 15 and D = 15\n",
      "****************************************************************************************************\n",
      "\n",
      "\n",
      "\n",
      "Starting N = 3150 K = 15 and D = 15\n"
     ]
    },
    {
     "name": "stderr",
     "output_type": "stream",
     "text": []
    },
    {
     "name": "stdout",
     "output_type": "stream",
     "text": [
      "Finished running N = 3150 K = 15 and D = 15\n",
      "****************************************************************************************************\n",
      "\n",
      "\n",
      "\n",
      "Starting N = 10000 K = 15 and D = 15\n"
     ]
    },
    {
     "name": "stderr",
     "output_type": "stream",
     "text": []
    },
    {
     "name": "stdout",
     "output_type": "stream",
     "text": [
      "Finished running N = 10000 K = 15 and D = 15\n",
      "****************************************************************************************************\n",
      "\n",
      "\n",
      "\n",
      "Starting N = 31500 K = 15 and D = 15\n"
     ]
    },
    {
     "name": "stderr",
     "output_type": "stream",
     "text": []
    },
    {
     "name": "stdout",
     "output_type": "stream",
     "text": [
      "Finished running N = 31500 K = 15 and D = 15\n",
      "****************************************************************************************************\n",
      "\n",
      "\n",
      "\n",
      "Starting N = 100000 K = 15 and D = 15\n"
     ]
    },
    {
     "name": "stderr",
     "output_type": "stream",
     "text": []
    },
    {
     "name": "stdout",
     "output_type": "stream",
     "text": [
      "Finished running N = 100000 K = 15 and D = 15\n",
      "****************************************************************************************************\n",
      "\n",
      "\n",
      "\n",
      "Starting N = 315000 K = 15 and D = 15\n"
     ]
    },
    {
     "name": "stderr",
     "output_type": "stream",
     "text": []
    },
    {
     "name": "stdout",
     "output_type": "stream",
     "text": [
      "Finished running N = 315000 K = 15 and D = 15\n",
      "****************************************************************************************************\n",
      "\n",
      "\n",
      "\n",
      "Starting N = 1000000 K = 15 and D = 15\n"
     ]
    },
    {
     "name": "stderr",
     "output_type": "stream",
     "text": [
      "100%|██████████| 7/7 [19:50<00:00, 170.01s/it]\n",
      "100%|██████████| 6/6 [4:13:21<00:00, 2533.51s/it]"
     ]
    },
    {
     "name": "stdout",
     "output_type": "stream",
     "text": [
      "Finished running N = 1000000 K = 15 and D = 15\n",
      "****************************************************************************************************\n"
     ]
    },
    {
     "name": "stderr",
     "output_type": "stream",
     "text": [
      "\n"
     ]
    }
   ],
   "source": [
    "N_list = [1000, 3150, 10000, 31500, 100000, 315000, 1000000]\n",
    "\n",
    "K_list = [5, 5,5, 10,10, 15]\n",
    "D_list = [5,10,15, 10,15, 15] \n",
    "\n",
    "box = 500\n",
    "seed = 60\n",
    "\n",
    "cnt = 0\n",
    "\n",
    "for i, D in enumerate(tqdm(D_list)):\n",
    "\n",
    "\n",
    "    time_list = []\n",
    "    metrics_list = []\n",
    "    epsVal_list = []\n",
    "\n",
    "    centers_list = []\n",
    "\n",
    "    obj_list = []\n",
    "\n",
    "\n",
    "    K = K_list[i]\n",
    "    \n",
    "    for N in tqdm(N_list):\n",
    "        print('\\n\\n\\nStarting N = %i K = %i and D = %i' %(N,K,D))\n",
    "\n",
    "        df_data, X,y = Blobs(N,D,K,box, seed)\n",
    "\n",
    "        metrics_list_inner = []\n",
    "        time_list_inner = []\n",
    "        epsVal_list_inner = []\n",
    "        centers_list_inner = []\n",
    "\n",
    "        for j in range(10):\n",
    "            \n",
    "            km = UnsupervisedClustering(K =K, max_iter=50)\n",
    "            km.set_model(KMedian())\n",
    "\n",
    "            start = default_timer()\n",
    "            km.fit(df_data )\n",
    "\n",
    "            end = default_timer()\n",
    "\n",
    "            metrics_list_inner.append(km.evaluate(y))\n",
    "            epsVal_list_inner.append(km.epsVal)\n",
    "            centers_list_inner.append(km.cluster_centers)\n",
    "        \n",
    "            time_list_inner.append(end - start)\n",
    "\n",
    "        \n",
    "        time_list.append(np.average(time_list_inner))\n",
    "        metrics_list.append(np.average(metrics_list_inner,axis=0))\n",
    "        epsVal_list.append(np.average(epsVal_list_inner))\n",
    "        centers_list.append(centers_list_inner)\n",
    "\n",
    "\n",
    "        print('Finished running N = %i K = %i and D = %i' %(N,K,D))\n",
    "        print('*'*100)\n",
    "\n",
    "\n",
    "\n",
    "    with open(os.path.join(RESULT_DIR, 'Syn1_1_'+str(K)+str(D)+'_KM_Avg.pkl'), 'wb') as outp:\n",
    "\n",
    "        pickle.dump(metrics_list, outp, pickle.HIGHEST_PROTOCOL)\n",
    "        pickle.dump(time_list, outp, pickle.HIGHEST_PROTOCOL)\n",
    "        pickle.dump(epsVal_list, outp, pickle.HIGHEST_PROTOCOL)\n",
    "        pickle.dump(centers_list, outp, pickle.HIGHEST_PROTOCOL)\n",
    "\n",
    "\n",
    "\n"
   ]
  },
  {
   "cell_type": "markdown",
   "metadata": {},
   "source": [
    "## KMedian with Kmeans++ init "
   ]
  },
  {
   "cell_type": "code",
   "execution_count": 3,
   "metadata": {},
   "outputs": [
    {
     "name": "stderr",
     "output_type": "stream",
     "text": [
      "  0%|          | 0/6 [00:00<?, ?it/s]"
     ]
    },
    {
     "name": "stdout",
     "output_type": "stream",
     "text": [
      "\n",
      "\n",
      "\n",
      "Starting N = 1000 K = 5 and D = 5\n"
     ]
    },
    {
     "name": "stderr",
     "output_type": "stream",
     "text": []
    },
    {
     "name": "stdout",
     "output_type": "stream",
     "text": [
      "Finished running N = 1000 K = 5 and D = 5\n",
      "****************************************************************************************************\n",
      "\n",
      "\n",
      "\n",
      "Starting N = 3150 K = 5 and D = 5\n"
     ]
    },
    {
     "name": "stderr",
     "output_type": "stream",
     "text": []
    },
    {
     "name": "stdout",
     "output_type": "stream",
     "text": [
      "Finished running N = 3150 K = 5 and D = 5\n",
      "****************************************************************************************************\n",
      "\n",
      "\n",
      "\n",
      "Starting N = 10000 K = 5 and D = 5\n"
     ]
    },
    {
     "name": "stderr",
     "output_type": "stream",
     "text": []
    },
    {
     "name": "stdout",
     "output_type": "stream",
     "text": [
      "Finished running N = 10000 K = 5 and D = 5\n",
      "****************************************************************************************************\n",
      "\n",
      "\n",
      "\n",
      "Starting N = 31500 K = 5 and D = 5\n"
     ]
    },
    {
     "name": "stderr",
     "output_type": "stream",
     "text": []
    },
    {
     "name": "stdout",
     "output_type": "stream",
     "text": [
      "Finished running N = 31500 K = 5 and D = 5\n",
      "****************************************************************************************************\n",
      "\n",
      "\n",
      "\n",
      "Starting N = 100000 K = 5 and D = 5\n"
     ]
    },
    {
     "name": "stderr",
     "output_type": "stream",
     "text": []
    },
    {
     "name": "stdout",
     "output_type": "stream",
     "text": [
      "Finished running N = 100000 K = 5 and D = 5\n",
      "****************************************************************************************************\n",
      "\n",
      "\n",
      "\n",
      "Starting N = 315000 K = 5 and D = 5\n"
     ]
    },
    {
     "name": "stderr",
     "output_type": "stream",
     "text": []
    },
    {
     "name": "stdout",
     "output_type": "stream",
     "text": [
      "Finished running N = 315000 K = 5 and D = 5\n",
      "****************************************************************************************************\n",
      "\n",
      "\n",
      "\n",
      "Starting N = 1000000 K = 5 and D = 5\n"
     ]
    },
    {
     "name": "stderr",
     "output_type": "stream",
     "text": [
      "100%|██████████| 7/7 [05:01<00:00, 43.10s/it]\n",
      " 17%|█▋        | 1/6 [05:01<25:08, 301.72s/it]"
     ]
    },
    {
     "name": "stdout",
     "output_type": "stream",
     "text": [
      "Finished running N = 1000000 K = 5 and D = 5\n",
      "****************************************************************************************************\n",
      "\n",
      "\n",
      "\n",
      "Starting N = 1000 K = 5 and D = 10\n"
     ]
    },
    {
     "name": "stderr",
     "output_type": "stream",
     "text": []
    },
    {
     "name": "stdout",
     "output_type": "stream",
     "text": [
      "Finished running N = 1000 K = 5 and D = 10\n",
      "****************************************************************************************************\n",
      "\n",
      "\n",
      "\n",
      "Starting N = 3150 K = 5 and D = 10\n"
     ]
    },
    {
     "name": "stderr",
     "output_type": "stream",
     "text": []
    },
    {
     "name": "stdout",
     "output_type": "stream",
     "text": [
      "Finished running N = 3150 K = 5 and D = 10\n",
      "****************************************************************************************************\n",
      "\n",
      "\n",
      "\n",
      "Starting N = 10000 K = 5 and D = 10\n"
     ]
    },
    {
     "name": "stderr",
     "output_type": "stream",
     "text": []
    },
    {
     "name": "stdout",
     "output_type": "stream",
     "text": [
      "Finished running N = 10000 K = 5 and D = 10\n",
      "****************************************************************************************************\n",
      "\n",
      "\n",
      "\n",
      "Starting N = 31500 K = 5 and D = 10\n"
     ]
    },
    {
     "name": "stderr",
     "output_type": "stream",
     "text": []
    },
    {
     "name": "stdout",
     "output_type": "stream",
     "text": [
      "Finished running N = 31500 K = 5 and D = 10\n",
      "****************************************************************************************************\n",
      "\n",
      "\n",
      "\n",
      "Starting N = 100000 K = 5 and D = 10\n"
     ]
    },
    {
     "name": "stderr",
     "output_type": "stream",
     "text": []
    },
    {
     "name": "stdout",
     "output_type": "stream",
     "text": [
      "Finished running N = 100000 K = 5 and D = 10\n",
      "****************************************************************************************************\n",
      "\n",
      "\n",
      "\n",
      "Starting N = 315000 K = 5 and D = 10\n"
     ]
    },
    {
     "name": "stderr",
     "output_type": "stream",
     "text": []
    },
    {
     "name": "stdout",
     "output_type": "stream",
     "text": [
      "Finished running N = 315000 K = 5 and D = 10\n",
      "****************************************************************************************************\n",
      "\n",
      "\n",
      "\n",
      "Starting N = 1000000 K = 5 and D = 10\n"
     ]
    },
    {
     "name": "stderr",
     "output_type": "stream",
     "text": [
      "100%|██████████| 7/7 [07:42<00:00, 66.01s/it] \n",
      " 33%|███▎      | 2/6 [12:43<26:24, 396.04s/it]"
     ]
    },
    {
     "name": "stdout",
     "output_type": "stream",
     "text": [
      "Finished running N = 1000000 K = 5 and D = 10\n",
      "****************************************************************************************************\n",
      "\n",
      "\n",
      "\n",
      "Starting N = 1000 K = 5 and D = 15\n"
     ]
    },
    {
     "name": "stderr",
     "output_type": "stream",
     "text": []
    },
    {
     "name": "stdout",
     "output_type": "stream",
     "text": [
      "Finished running N = 1000 K = 5 and D = 15\n",
      "****************************************************************************************************\n",
      "\n",
      "\n",
      "\n",
      "Starting N = 3150 K = 5 and D = 15\n"
     ]
    },
    {
     "name": "stderr",
     "output_type": "stream",
     "text": []
    },
    {
     "name": "stdout",
     "output_type": "stream",
     "text": [
      "Finished running N = 3150 K = 5 and D = 15\n",
      "****************************************************************************************************\n",
      "\n",
      "\n",
      "\n",
      "Starting N = 10000 K = 5 and D = 15\n"
     ]
    },
    {
     "name": "stderr",
     "output_type": "stream",
     "text": []
    },
    {
     "name": "stdout",
     "output_type": "stream",
     "text": [
      "Finished running N = 10000 K = 5 and D = 15\n",
      "****************************************************************************************************\n",
      "\n",
      "\n",
      "\n",
      "Starting N = 31500 K = 5 and D = 15\n"
     ]
    },
    {
     "name": "stderr",
     "output_type": "stream",
     "text": []
    },
    {
     "name": "stdout",
     "output_type": "stream",
     "text": [
      "Finished running N = 31500 K = 5 and D = 15\n",
      "****************************************************************************************************\n",
      "\n",
      "\n",
      "\n",
      "Starting N = 100000 K = 5 and D = 15\n"
     ]
    },
    {
     "name": "stderr",
     "output_type": "stream",
     "text": []
    },
    {
     "name": "stdout",
     "output_type": "stream",
     "text": [
      "Finished running N = 100000 K = 5 and D = 15\n",
      "****************************************************************************************************\n",
      "\n",
      "\n",
      "\n",
      "Starting N = 315000 K = 5 and D = 15\n"
     ]
    },
    {
     "name": "stderr",
     "output_type": "stream",
     "text": []
    },
    {
     "name": "stdout",
     "output_type": "stream",
     "text": [
      "Finished running N = 315000 K = 5 and D = 15\n",
      "****************************************************************************************************\n",
      "\n",
      "\n",
      "\n",
      "Starting N = 1000000 K = 5 and D = 15\n"
     ]
    },
    {
     "name": "stderr",
     "output_type": "stream",
     "text": [
      "100%|██████████| 7/7 [08:29<00:00, 72.85s/it] \n",
      " 50%|█████     | 3/6 [21:13<22:24, 448.05s/it]"
     ]
    },
    {
     "name": "stdout",
     "output_type": "stream",
     "text": [
      "Finished running N = 1000000 K = 5 and D = 15\n",
      "****************************************************************************************************\n",
      "\n",
      "\n",
      "\n",
      "Starting N = 1000 K = 10 and D = 10\n"
     ]
    },
    {
     "name": "stderr",
     "output_type": "stream",
     "text": []
    },
    {
     "name": "stdout",
     "output_type": "stream",
     "text": [
      "Finished running N = 1000 K = 10 and D = 10\n",
      "****************************************************************************************************\n",
      "\n",
      "\n",
      "\n",
      "Starting N = 3150 K = 10 and D = 10\n"
     ]
    },
    {
     "name": "stderr",
     "output_type": "stream",
     "text": []
    },
    {
     "name": "stdout",
     "output_type": "stream",
     "text": [
      "Finished running N = 3150 K = 10 and D = 10\n",
      "****************************************************************************************************\n",
      "\n",
      "\n",
      "\n",
      "Starting N = 10000 K = 10 and D = 10\n"
     ]
    },
    {
     "name": "stderr",
     "output_type": "stream",
     "text": []
    },
    {
     "name": "stdout",
     "output_type": "stream",
     "text": [
      "Finished running N = 10000 K = 10 and D = 10\n",
      "****************************************************************************************************\n",
      "\n",
      "\n",
      "\n",
      "Starting N = 31500 K = 10 and D = 10\n"
     ]
    },
    {
     "name": "stderr",
     "output_type": "stream",
     "text": []
    },
    {
     "name": "stdout",
     "output_type": "stream",
     "text": [
      "Finished running N = 31500 K = 10 and D = 10\n",
      "****************************************************************************************************\n",
      "\n",
      "\n",
      "\n",
      "Starting N = 100000 K = 10 and D = 10\n"
     ]
    },
    {
     "name": "stderr",
     "output_type": "stream",
     "text": []
    },
    {
     "name": "stdout",
     "output_type": "stream",
     "text": [
      "Finished running N = 100000 K = 10 and D = 10\n",
      "****************************************************************************************************\n",
      "\n",
      "\n",
      "\n",
      "Starting N = 315000 K = 10 and D = 10\n"
     ]
    },
    {
     "name": "stderr",
     "output_type": "stream",
     "text": []
    },
    {
     "name": "stdout",
     "output_type": "stream",
     "text": [
      "Finished running N = 315000 K = 10 and D = 10\n",
      "****************************************************************************************************\n",
      "\n",
      "\n",
      "\n",
      "Starting N = 1000000 K = 10 and D = 10\n"
     ]
    },
    {
     "name": "stderr",
     "output_type": "stream",
     "text": [
      "100%|██████████| 7/7 [08:27<00:00, 72.45s/it] \n",
      " 67%|██████▋   | 4/6 [29:40<15:42, 471.39s/it]"
     ]
    },
    {
     "name": "stdout",
     "output_type": "stream",
     "text": [
      "Finished running N = 1000000 K = 10 and D = 10\n",
      "****************************************************************************************************\n",
      "\n",
      "\n",
      "\n",
      "Starting N = 1000 K = 10 and D = 15\n"
     ]
    },
    {
     "name": "stderr",
     "output_type": "stream",
     "text": []
    },
    {
     "name": "stdout",
     "output_type": "stream",
     "text": [
      "Finished running N = 1000 K = 10 and D = 15\n",
      "****************************************************************************************************\n",
      "\n",
      "\n",
      "\n",
      "Starting N = 3150 K = 10 and D = 15\n"
     ]
    },
    {
     "name": "stderr",
     "output_type": "stream",
     "text": []
    },
    {
     "name": "stdout",
     "output_type": "stream",
     "text": [
      "Finished running N = 3150 K = 10 and D = 15\n",
      "****************************************************************************************************\n",
      "\n",
      "\n",
      "\n",
      "Starting N = 10000 K = 10 and D = 15\n"
     ]
    },
    {
     "name": "stderr",
     "output_type": "stream",
     "text": []
    },
    {
     "name": "stdout",
     "output_type": "stream",
     "text": [
      "Finished running N = 10000 K = 10 and D = 15\n",
      "****************************************************************************************************\n",
      "\n",
      "\n",
      "\n",
      "Starting N = 31500 K = 10 and D = 15\n"
     ]
    },
    {
     "name": "stderr",
     "output_type": "stream",
     "text": []
    },
    {
     "name": "stdout",
     "output_type": "stream",
     "text": [
      "Finished running N = 31500 K = 10 and D = 15\n",
      "****************************************************************************************************\n",
      "\n",
      "\n",
      "\n",
      "Starting N = 100000 K = 10 and D = 15\n"
     ]
    },
    {
     "name": "stderr",
     "output_type": "stream",
     "text": []
    },
    {
     "name": "stdout",
     "output_type": "stream",
     "text": [
      "Finished running N = 100000 K = 10 and D = 15\n",
      "****************************************************************************************************\n",
      "\n",
      "\n",
      "\n",
      "Starting N = 315000 K = 10 and D = 15\n"
     ]
    },
    {
     "name": "stderr",
     "output_type": "stream",
     "text": []
    },
    {
     "name": "stdout",
     "output_type": "stream",
     "text": [
      "Finished running N = 315000 K = 10 and D = 15\n",
      "****************************************************************************************************\n",
      "\n",
      "\n",
      "\n",
      "Starting N = 1000000 K = 10 and D = 15\n"
     ]
    },
    {
     "name": "stderr",
     "output_type": "stream",
     "text": [
      "100%|██████████| 7/7 [10:54<00:00, 93.50s/it] \n",
      " 83%|████████▎ | 5/6 [40:35<08:57, 537.41s/it]"
     ]
    },
    {
     "name": "stdout",
     "output_type": "stream",
     "text": [
      "Finished running N = 1000000 K = 10 and D = 15\n",
      "****************************************************************************************************\n",
      "\n",
      "\n",
      "\n",
      "Starting N = 1000 K = 15 and D = 15\n"
     ]
    },
    {
     "name": "stderr",
     "output_type": "stream",
     "text": []
    },
    {
     "name": "stdout",
     "output_type": "stream",
     "text": [
      "Finished running N = 1000 K = 15 and D = 15\n",
      "****************************************************************************************************\n",
      "\n",
      "\n",
      "\n",
      "Starting N = 3150 K = 15 and D = 15\n"
     ]
    },
    {
     "name": "stderr",
     "output_type": "stream",
     "text": []
    },
    {
     "name": "stdout",
     "output_type": "stream",
     "text": [
      "Finished running N = 3150 K = 15 and D = 15\n",
      "****************************************************************************************************\n",
      "\n",
      "\n",
      "\n",
      "Starting N = 10000 K = 15 and D = 15\n"
     ]
    },
    {
     "name": "stderr",
     "output_type": "stream",
     "text": []
    },
    {
     "name": "stdout",
     "output_type": "stream",
     "text": [
      "Finished running N = 10000 K = 15 and D = 15\n",
      "****************************************************************************************************\n",
      "\n",
      "\n",
      "\n",
      "Starting N = 31500 K = 15 and D = 15\n"
     ]
    },
    {
     "name": "stderr",
     "output_type": "stream",
     "text": []
    },
    {
     "name": "stdout",
     "output_type": "stream",
     "text": [
      "Finished running N = 31500 K = 15 and D = 15\n",
      "****************************************************************************************************\n",
      "\n",
      "\n",
      "\n",
      "Starting N = 100000 K = 15 and D = 15\n"
     ]
    },
    {
     "name": "stderr",
     "output_type": "stream",
     "text": []
    },
    {
     "name": "stdout",
     "output_type": "stream",
     "text": [
      "Finished running N = 100000 K = 15 and D = 15\n",
      "****************************************************************************************************\n",
      "\n",
      "\n",
      "\n",
      "Starting N = 315000 K = 15 and D = 15\n"
     ]
    },
    {
     "name": "stderr",
     "output_type": "stream",
     "text": []
    },
    {
     "name": "stdout",
     "output_type": "stream",
     "text": [
      "Finished running N = 315000 K = 15 and D = 15\n",
      "****************************************************************************************************\n",
      "\n",
      "\n",
      "\n",
      "Starting N = 1000000 K = 15 and D = 15\n"
     ]
    },
    {
     "name": "stderr",
     "output_type": "stream",
     "text": [
      "100%|██████████| 7/7 [13:20<00:00, 114.33s/it]\n",
      "100%|██████████| 6/6 [53:55<00:00, 539.28s/it]"
     ]
    },
    {
     "name": "stdout",
     "output_type": "stream",
     "text": [
      "Finished running N = 1000000 K = 15 and D = 15\n",
      "****************************************************************************************************\n"
     ]
    },
    {
     "name": "stderr",
     "output_type": "stream",
     "text": [
      "\n"
     ]
    }
   ],
   "source": [
    "N_list = [1000, 3150, 10000, 31500, 100000, 315000, 1000000]\n",
    "\n",
    "K_list = [5, 5,5, 10,10, 15]\n",
    "D_list = [5,10,15, 10,15, 15] \n",
    "\n",
    "box = 500\n",
    "seed = 60\n",
    "\n",
    "cnt = 0\n",
    "\n",
    "for i, D in enumerate(tqdm(D_list)):\n",
    "\n",
    "\n",
    "    time_list = []\n",
    "    metrics_list = []\n",
    "    epsVal_list = []\n",
    "\n",
    "    centers_list = []\n",
    "\n",
    "    obj_list = []\n",
    "\n",
    "\n",
    "    K = K_list[i]\n",
    "    \n",
    "    for N in tqdm(N_list):\n",
    "        print('\\n\\n\\nStarting N = %i K = %i and D = %i' %(N,K,D))\n",
    "\n",
    "        df_data, X,y = Blobs(N,D,K,box, seed)\n",
    "\n",
    "        metrics_list_inner = []\n",
    "        time_list_inner = []\n",
    "        epsVal_list_inner = []\n",
    "        centers_list_inner = []\n",
    "\n",
    "        for j in range(10):\n",
    "            \n",
    "            km = UnsupervisedClustering(K =K)\n",
    "            km.set_model(KMedian_Plus())\n",
    "\n",
    "            start = default_timer()\n",
    "            km.fit(df_data )\n",
    "\n",
    "            end = default_timer()\n",
    "\n",
    "            metrics_list_inner.append(km.evaluate(y))\n",
    "            epsVal_list_inner.append(km.epsVal)\n",
    "            centers_list_inner.append(km.cluster_centers)\n",
    "        \n",
    "            time_list_inner.append(end - start)\n",
    "\n",
    "        \n",
    "        time_list.append(np.average(time_list_inner))\n",
    "        metrics_list.append(np.average(metrics_list_inner,axis=0))\n",
    "        epsVal_list.append(np.average(epsVal_list_inner))\n",
    "        centers_list.append(centers_list_inner)\n",
    "\n",
    "\n",
    "        print('Finished running N = %i K = %i and D = %i' %(N,K,D))\n",
    "        print('*'*100)\n",
    "\n",
    "\n",
    "\n",
    "    with open(os.path.join(RESULT_DIR, 'Syn1_1_'+str(K)+str(D)+'_KMPlus_Avg.pkl'), 'wb') as outp:\n",
    "\n",
    "        pickle.dump(metrics_list, outp, pickle.HIGHEST_PROTOCOL)\n",
    "        pickle.dump(time_list, outp, pickle.HIGHEST_PROTOCOL)\n",
    "        pickle.dump(epsVal_list, outp, pickle.HIGHEST_PROTOCOL)\n",
    "        pickle.dump(centers_list, outp, pickle.HIGHEST_PROTOCOL)\n",
    "\n",
    "\n",
    "\n"
   ]
  },
  {
   "cell_type": "markdown",
   "metadata": {},
   "source": [
    "## Plot to compare baselines for the Norm Dataset"
   ]
  },
  {
   "cell_type": "code",
   "execution_count": 24,
   "metadata": {},
   "outputs": [],
   "source": [
    "N_list = [1000, 3150, 10000, 31500, 100000, 315000, 1000000]\n",
    "\n",
    "K_list = [5, 5, 5, 10, 10, 15]\n",
    "D_list = [5, 10, 15, 10, 15, 15] \n",
    "\n",
    "\n"
   ]
  },
  {
   "cell_type": "code",
   "execution_count": 54,
   "metadata": {},
   "outputs": [],
   "source": [
    "\n",
    "def extractData(K,D,N_list ):\n",
    "\n",
    "    df_ARI = pd.DataFrame(np.c_[N_list, [K]*len(N_list), [D]*len(N_list)], columns=['N','K','D'])\n",
    "    df_time = pd.DataFrame(np.c_[N_list, [K]*len(N_list), [D]*len(N_list)], columns=['N','K','D'])\n",
    "    df_constr = pd.DataFrame(np.c_[N_list, [K]*len(N_list), [D]*len(N_list)], columns=['N','K','D'])\n",
    "    df_epsVal = pd.DataFrame(np.c_[N_list, [K]*len(N_list), [D]*len(N_list)], columns=['N','K','D'])\n",
    "\n",
    "\n",
    "    cols = ['kc-Gon', 'kc-GonAvg', 'kc-HS', 'kmed', 'kc-Opt']\n",
    "\n",
    "    datasets = ['KC_Gon', 'KC_GonAvg', 'KC_HS','KMplus_Avg', 'MM']\n",
    "\n",
    "    for i, model in enumerate(datasets):\n",
    "\n",
    "        if model == 'MM':\n",
    "\n",
    "            with open(os.path.join(RESULT_DIR, 'Syn1_'+str(K)+str(D)+'_' + str(model)+'.pkl'), 'rb') as inp:\n",
    "\n",
    "                metrics_list = pickle.load(inp)\n",
    "                time_list = pickle.load(inp)\n",
    "                constrsCnt_list = pickle.load(inp)             \n",
    "                optgap_list = pickle.load(inp)\n",
    "                epsVal_list = pickle.load(inp)\n",
    "                optVal_list = pickle.load(inp)\n",
    "                centers_list = pickle.load(inp)\n",
    "                \n",
    "\n",
    "            df_ARI[cols[i]] = np.array(metrics_list)[:,2]\n",
    "            df_time[cols[i]] = time_list\n",
    "            df_constr[cols[i]] = constrsCnt_list\n",
    "            df_epsVal[cols[i]] = epsVal_list\n",
    "\n",
    "\n",
    "        else :\n",
    "\n",
    "            with open(os.path.join(RESULT_DIR, 'Syn1_1_'+str(K)+str(D)+'_' + str(model) + '.pkl'), 'rb') as inp:\n",
    "\n",
    "                metrics_list = pickle.load(inp)\n",
    "                time_list = pickle.load(inp)\n",
    "                epsVal_list = pickle.load(inp)\n",
    "                centers_list = pickle.load(inp)\n",
    "\n",
    "            df_ARI[cols[i]] = np.array(metrics_list)[:,2]\n",
    "            df_time[cols[i]] = time_list\n",
    "            df_epsVal[cols[i]] = epsVal_list\n",
    "\n",
    "    return df_ARI, df_time, df_constr, df_epsVal\n"
   ]
  },
  {
   "cell_type": "code",
   "execution_count": 55,
   "metadata": {},
   "outputs": [],
   "source": [
    "col = [ 'tab:green','tab:blue',\n",
    "'tab:orange',\n",
    "\n",
    "'tab:red',\n",
    "'tab:purple',\n",
    "# 'tab:brown',\n",
    "# 'tab:pink',\n",
    "'tab:gray',\n",
    "'tab:olive',\n",
    "'tab:cyan']\n",
    "\n",
    "\n",
    "markers = [ \"v\", \"<\", \"D\",\"o\",  \"^\", \"s\"]"
   ]
  },
  {
   "cell_type": "code",
   "execution_count": 27,
   "metadata": {},
   "outputs": [],
   "source": [
    "plt.style.use('default')\n"
   ]
  },
  {
   "cell_type": "code",
   "execution_count": 39,
   "metadata": {},
   "outputs": [],
   "source": [
    "# plt.rcParams.update({'font.size': 12})\n",
    "plt.rcParams.update({'font.size': 17})\n",
    "\n"
   ]
  },
  {
   "cell_type": "code",
   "execution_count": 56,
   "metadata": {},
   "outputs": [
    {
     "name": "stderr",
     "output_type": "stream",
     "text": [
      "100%|██████████| 6/6 [00:00<00:00, 47.27it/s]\n"
     ]
    }
   ],
   "source": [
    "N_list = [1000, 3150, 10000, 31500, 100000, 315000, 1000000]\n",
    "\n",
    "K_list = [5 ,5,5,10,10,15]\n",
    "D_list = [5 , 10, 15, 10, 15 , 15] \n",
    "df_eps = pd.DataFrame()\n",
    "df_ARI = pd.DataFrame()\n",
    "for i, K in enumerate(tqdm(K_list)):\n",
    "    \n",
    "\n",
    "\n",
    "    D = D_list[i]\n",
    "    \n",
    "    ari, _,_, eps = extractData(K,D,N_list )\n",
    "\n",
    "    df_ARI = pd.concat([df_ARI, ari], ignore_index=True)\n",
    "    df_eps = pd.concat([df_eps, eps], ignore_index=True)\n"
   ]
  },
  {
   "cell_type": "code",
   "execution_count": 57,
   "metadata": {},
   "outputs": [],
   "source": [
    "df = df_eps.copy()\n",
    "ci_list = []\n",
    "for i in range(3,8):\n",
    "    df.iloc[:,i] = df.iloc[:,i]/df.iloc[:,7]\n",
    "    ratio_list = df.iloc[:,i].to_numpy()\n",
    "    if i != 7:\n",
    "        ci_l, ci_h = stats.t.interval(0.95, len(ratio_list)-1, loc=np.mean(ratio_list), scale=stats.sem(ratio_list))\n",
    "        ci_list.append([np.mean(ratio_list) - ci_l,ci_h - np.mean(ratio_list)])\n",
    "    else:\n",
    "        ci_list.append([0,0])\n",
    "ratio = np.average(df.iloc[:,3:8].to_numpy(), axis = 0)\n",
    "cols = ['kc-Gon', 'kc-GonAvg', 'kc-HS', 'kmed', 'kc-Opt']"
   ]
  },
  {
   "cell_type": "code",
   "execution_count": 59,
   "metadata": {},
   "outputs": [
    {
     "data": {
      "image/png": "[encoded data removed]",
      "text/plain": [
       "<Figure size 500x500 with 1 Axes>"
      ]
     },
     "metadata": {},
     "output_type": "display_data"
    }
   ],
   "source": [
    "plt.rcParams.update({'font.size': 19})\n",
    "\n",
    "fig, ax = plt.subplots(1, 1, figsize = (5,5), sharey = False, sharex=False)\n",
    "\n",
    "plt.errorbar(cols, ratio, yerr=np.array(ci_list).T, marker = 'D',markersize = 8, alpha = 0.8, linestyle = '--', elinewidth = 3.5, ecolor='C1', capsize = 9,xerr=None,linewidth = 2,capthick=2)\n",
    "\n",
    "ax.set_xticks(cols)\n",
    "ax.set_xticklabels(cols, rotation=40, ha='center')\n",
    "ax.set_yticks([1, 1.2, 1.4 , 1.6 , 1.8])\n",
    "\n",
    "ax.set_ylabel('Empirical approximation')\n",
    "\n",
    "\n",
    "# ax.set_xlabel('Algorithm')\n",
    "\n",
    "ax.grid(True,linestyle = ':')\n",
    "fig.tight_layout()\n",
    "\n",
    "plt.savefig(f'{RESULT_DIR}/Syn1_ApproxFactor.pdf', bbox_inches = 'tight')\n",
    "\n",
    "plt.show()"
   ]
  },
  {
   "cell_type": "code",
   "execution_count": 61,
   "metadata": {},
   "outputs": [],
   "source": [
    "K = 15\n",
    "D = 15\n",
    "plt.rcParams.update({'font.size': 19})\n"
   ]
  },
  {
   "cell_type": "code",
   "execution_count": 62,
   "metadata": {},
   "outputs": [
    {
     "data": {
      "image/png": "[encoded data removed]",
      "text/plain": [
       "<Figure size 500x450 with 1 Axes>"
      ]
     },
     "metadata": {},
     "output_type": "display_data"
    }
   ],
   "source": [
    "df_ARI, _,_, df_epsVal = extractData(K=15,D=15, N_list = N_list)\n",
    "cols = ['kmed', 'kc-Gon', 'kc-GonAvg', 'kc-HS',  'kc-Opt']\n",
    "\n",
    "fig, ax = plt.subplots(1, 1, figsize = (5,4.5), sharey = False, sharex=False)\n",
    "\n",
    "for j, model in enumerate(cols):\n",
    "    df_epsVal.plot(x = 'N', y = model, marker = markers[j], fillstyle = 'none', color=col[j], ax = ax, markersize = 10, alpha = 0.9, linewidth = 2,legend = False,)\n",
    "\n",
    "\n",
    "\n",
    "# ax[i].set_ylabel('ARI')\n",
    "# ax[i].set_ylabel('Eps Val')\n",
    "ax.set_ylabel('Objective value ('+r'$\\varepsilon$'+')')\n",
    "\n",
    "\n",
    "ax.set_xlabel('n')\n",
    "\n",
    "ax.grid(True,linestyle = ':')\n",
    "ax.set_xscale(\"log\")\n",
    "# ax[i].set_title('\\n\\nNorm (k: '+str(K)+', d: '+str(D)+')')\n",
    "ax.set_title('\\n\\n\\n (k: '+str(K)+', d: '+str(D)+')')\n",
    "\n",
    "ax.tick_params(axis='both', which='major', labelsize=14)   \n",
    "ax.set_xticks([1000, 10000, 100000, 1000000])\n",
    "\n",
    "handles, labels = ax.get_legend_handles_labels()\n",
    "fig.legend(handles, labels , loc='upper center', mode = 'False', ncol=2, fontsize = 17, markerscale = 1)\n",
    "fig.tight_layout()\n",
    "\n",
    "plt.savefig(f'{RESULT_DIR}/Syn1_d15k15.pdf', bbox_inches = 'tight')\n",
    "\n",
    "plt.show()\n"
   ]
  },
  {
   "cell_type": "code",
   "execution_count": 63,
   "metadata": {},
   "outputs": [
    {
     "name": "stderr",
     "output_type": "stream",
     "text": [
      "100%|██████████| 6/6 [00:00<00:00,  6.15it/s]\n"
     ]
    },
    {
     "data": {
      "image/png": "[encoded data removed]",
      "text/plain": [
       "<Figure size 1300x800 with 6 Axes>"
      ]
     },
     "metadata": {},
     "output_type": "display_data"
    }
   ],
   "source": [
    "\n",
    "fig, ax = plt.subplots(2, 3, figsize = (13,8), sharey = True, sharex=True)\n",
    "\n",
    "N_list = [1000, 3150, 10000, 31500, 100000, 315000, 1000000]\n",
    "\n",
    "K_list = [5 ,5,5,10,10,15]\n",
    "D_list = [5 , 10, 15, 10, 15 , 15] \n",
    "\n",
    "for i, K in enumerate(tqdm(K_list)):\n",
    "    \n",
    "\n",
    "\n",
    "    D = D_list[i]\n",
    "\n",
    "    df_ARI, _,_, df_epsVal = extractData(K,D,N_list )\n",
    "    cols = ['kmed', 'kc-Gon', 'kc-GonAvg', 'kc-HS',  'kc-Opt']\n",
    "\n",
    "\n",
    "    for j, model in enumerate(cols):\n",
    "\n",
    "        df_epsVal.plot(x = 'N', y = model, marker = markers[j], fillstyle = 'none', color=col[j], ax = ax[i//3,i%3 ], markersize = 10, alpha = 0.9, linewidth = 2,legend = False,)\n",
    "\n",
    "\n",
    "    # ax[i].set_ylabel('ARI')\n",
    "    # ax[i].set_ylabel('Eps Val')\n",
    "    ax[i//3,i%3].set_ylabel('Objective value ('+r'$\\varepsilon$'+')')\n",
    "    \n",
    "\n",
    "\n",
    "    ax[i//3,i%3].set_xlabel('n')\n",
    "\n",
    "    ax[i//3,i%3].grid(True,linestyle = ':')\n",
    "    ax[i//3,i%3].set_xscale(\"log\")\n",
    "    # ax[i].set_title('\\n\\nNorm (k: '+str(K)+', d: '+str(D)+')')\n",
    "    ax[i//3,i%3].set_title('\\n\\n (k: '+str(K)+', d: '+str(D)+')')\n",
    "\n",
    "    ax[i//3,i%3].tick_params(axis='both', which='major', labelsize=14)   \n",
    "    ax[i//3,i%3].set_xticks([1000, 10000, 100000, 1000000])\n",
    "    # ax[i].set_yticks([0.6,0.7, 0.8, 0.9, 1])\n",
    "\n",
    "\n",
    "fig.tight_layout()\n",
    "\n",
    "\n",
    "plt.subplots_adjust(wspace=0.17, hspace=0.5)\n",
    "\n",
    "handles, labels = ax[0,0].get_legend_handles_labels()\n",
    "fig.legend(handles, labels , loc='upper center', mode = 'False', ncol=len(df_ARI.columns), fontsize = 19, markerscale = 1.5)\n",
    "# fig.title('\\n\\n'9\n",
    "plt.savefig(f'{RESULT_DIR}/Syn1_Supp.pdf', bbox_inches = 'tight')\n",
    "\n",
    "\n",
    "plt.show()"
   ]
  }
 ],
 "metadata": {
  "interpreter": {
   "hash": "2abad61f7d39db8d14dcada4399df2b11c548ab96692e387d799b00c2fc80e57"
  },
  "kernelspec": {
   "display_name": "Python 3.8.8 ('clusters')",
   "language": "python",
   "name": "python3"
  },
  "language_info": {
   "codemirror_mode": {
    "name": "ipython",
    "version": 3
   },
   "file_extension": ".py",
   "mimetype": "text/x-python",
   "name": "python",
   "nbconvert_exporter": "python",
   "pygments_lexer": "ipython3",
   "version": "3.8.8"
  },
  "orig_nbformat": 2
 },
 "nbformat": 4,
 "nbformat_minor": 2
}
